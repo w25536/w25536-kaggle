{
 "cells": [
  {
   "cell_type": "code",
   "execution_count": 1,
   "metadata": {},
   "outputs": [
    {
     "name": "stderr",
     "output_type": "stream",
     "text": [
      "/opt/homebrew/lib/python3.11/site-packages/neptune/internal/backends/hosted_client.py:50: NeptuneDeprecationWarning: The 'neptune-client' package has been deprecated and will be removed in the future. Install the 'neptune' package instead. For more, see https://docs.neptune.ai/setup/upgrading/\n",
      "  from neptune.version import version as neptune_client_version\n"
     ]
    }
   ],
   "source": [
    "#!pip install pyarrow\n",
    "import pandas as pd\n",
    "import numpy as np\n",
    "import matplotlib.pyplot as plt\n",
    "import seaborn as sns\n",
    "import os\n",
    "import sys\n",
    "import neptune\n",
    "from datetime import datetime\n",
    "from pytz import timezone"
   ]
  },
  {
   "cell_type": "code",
   "execution_count": 2,
   "metadata": {},
   "outputs": [],
   "source": [
    "current_directory = os.getcwd()\n",
    "file_path = os.path.join(current_directory, \"data\", \"train_series.parquet\")\n",
    "train_series = pd.read_parquet(file_path, engine=\"pyarrow\")\n",
    "\n",
    "file_path = os.path.join(current_directory, \"data\", \"test_series.parquet\")\n",
    "test_series = pd.read_parquet(file_path, engine=\"pyarrow\")\n",
    "file_path = os.path.join(current_directory, \"data\", \"sample_submission.csv\")\n",
    "\n",
    "sample_submission = pd.read_csv(file_path)\n",
    "file_path = os.path.join(current_directory, \"data\", \"train_events.csv\")\n",
    "train_events = pd.read_csv(file_path)"
   ]
  },
  {
   "cell_type": "code",
   "execution_count": 3,
   "metadata": {},
   "outputs": [
    {
     "name": "stdout",
     "output_type": "stream",
     "text": [
      "      series_id  step                 timestamp  anglez    enmo\n",
      "0  038441c925bb     0  2018-08-14T15:30:00-0400  2.6367  0.0217\n",
      "1  038441c925bb     1  2018-08-14T15:30:05-0400  2.6368  0.0215\n",
      "2  038441c925bb     2  2018-08-14T15:30:10-0400  2.6370  0.0216\n",
      "3  038441c925bb     3  2018-08-14T15:30:15-0400  2.6368  0.0213\n",
      "4  038441c925bb     4  2018-08-14T15:30:20-0400  2.6368  0.0215\n",
      "<class 'pandas.core.frame.DataFrame'>\n",
      "RangeIndex: 127946340 entries, 0 to 127946339\n",
      "Data columns (total 5 columns):\n",
      " #   Column     Dtype  \n",
      "---  ------     -----  \n",
      " 0   series_id  object \n",
      " 1   step       uint32 \n",
      " 2   timestamp  object \n",
      " 3   anglez     float32\n",
      " 4   enmo       float32\n",
      "dtypes: float32(2), object(2), uint32(1)\n",
      "memory usage: 3.3+ GB\n",
      "None\n",
      "               step        anglez          enmo\n",
      "count  1.279463e+08  1.279463e+08  1.279463e+08\n",
      "mean   2.548048e+05 -8.810453e+00  4.131503e-02\n",
      "std    1.778930e+05  3.552188e+01  1.018289e-01\n",
      "min    0.000000e+00 -9.000000e+01  0.000000e+00\n",
      "25%    1.158120e+05 -3.185890e+01  1.300000e-03\n",
      "50%    2.345190e+05 -9.597900e+00  1.720000e-02\n",
      "75%    3.571960e+05  1.130020e+01  4.370000e-02\n",
      "max    1.433879e+06  9.000000e+01  1.143370e+01\n"
     ]
    }
   ],
   "source": [
    "print(train_series.head())\n",
    "print(train_series.info())\n",
    "print(train_series.describe())"
   ]
  },
  {
   "cell_type": "code",
   "execution_count": 4,
   "metadata": {},
   "outputs": [
    {
     "name": "stdout",
     "output_type": "stream",
     "text": [
      "      series_id  night   event     step                 timestamp\n",
      "0  038441c925bb      1   onset   4992.0  2018-08-14T22:26:00-0400\n",
      "1  038441c925bb      1  wakeup  10932.0  2018-08-15T06:41:00-0400\n",
      "2  038441c925bb      2   onset  20244.0  2018-08-15T19:37:00-0400\n",
      "3  038441c925bb      2  wakeup  27492.0  2018-08-16T05:41:00-0400\n",
      "4  038441c925bb      3   onset  39996.0  2018-08-16T23:03:00-0400\n",
      "<class 'pandas.core.frame.DataFrame'>\n",
      "RangeIndex: 14508 entries, 0 to 14507\n",
      "Data columns (total 5 columns):\n",
      " #   Column     Non-Null Count  Dtype  \n",
      "---  ------     --------------  -----  \n",
      " 0   series_id  14508 non-null  object \n",
      " 1   night      14508 non-null  int64  \n",
      " 2   event      14508 non-null  object \n",
      " 3   step       9585 non-null   float64\n",
      " 4   timestamp  9585 non-null   object \n",
      "dtypes: float64(1), int64(1), object(3)\n",
      "memory usage: 566.8+ KB\n",
      "None\n",
      "              night           step\n",
      "count  14508.000000    9585.000000\n",
      "mean      15.120072  214352.123944\n",
      "std       10.286758  141268.408192\n",
      "min        1.000000     936.000000\n",
      "25%        7.000000   95436.000000\n",
      "50%       14.000000  200604.000000\n",
      "75%       21.000000  317520.000000\n",
      "max       84.000000  739392.000000\n"
     ]
    }
   ],
   "source": [
    "print(train_events.head())\n",
    "print(train_events.info())\n",
    "print(train_events.describe())"
   ]
  },
  {
   "cell_type": "code",
   "execution_count": 5,
   "metadata": {},
   "outputs": [
    {
     "name": "stderr",
     "output_type": "stream",
     "text": [
      "/var/folders/hb/_y1g8w4d6j910_w7_rr3vx700000gn/T/ipykernel_88543/4001559911.py:3: NeptuneWarning: To avoid unintended consumption of logging hours during interactive sessions, the following monitoring options are disabled unless set to 'True' when initializing the run: 'capture_stdout', 'capture_stderr', and 'capture_hardware_metrics'.\n",
      "  run = neptune.init_run(\n"
     ]
    },
    {
     "name": "stdout",
     "output_type": "stream",
     "text": [
      "https://app.neptune.ai/w25536/Detect-Sleep-States/e/DET-2\n",
      "Shutting down background jobs, please wait a moment...\n",
      "Done!\n",
      "Waiting for the remaining 13 operations to synchronize with Neptune. Do not kill this process.\n",
      "All 13 operations synced, thanks for waiting!\n",
      "Explore the metadata in the Neptune app:\n",
      "https://app.neptune.ai/w25536/Detect-Sleep-States/e/DET-2/metadata\n"
     ]
    }
   ],
   "source": [
    "import neptune\n",
    "\n",
    "run = neptune.init_run(\n",
    "    project=\"w25536/Detect-Sleep-States\",\n",
    "    api_token=\"eyJhcGlfYWRkcmVzcyI6Imh0dHBzOi8vYXBwLm5lcHR1bmUuYWkiLCJhcGlfdXJsIjoiaHR0cHM6Ly9hcHAubmVwdHVuZS5haSIsImFwaV9rZXkiOiI2ZGUxZWY5Yi01YTdjLTQ5YjEtYjQ5YS02OGYyMjA1NDMyMzkifQ==\",\n",
    ")  # your credentials\n",
    "\n",
    "params = {\"learning_rate\": 0.001, \"optimizer\": \"Adam\"}\n",
    "run[\"parameters\"] = params\n",
    "\n",
    "for epoch in range(10):\n",
    "    run[\"train/loss\"].append(0.9**epoch)\n",
    "\n",
    "run[\"eval/f1_score\"] = 0.66\n",
    "\n",
    "run.stop()"
   ]
  },
  {
   "cell_type": "code",
   "execution_count": 6,
   "metadata": {},
   "outputs": [
    {
     "data": {
      "text/plain": [
       "series_id    0\n",
       "step         0\n",
       "timestamp    0\n",
       "anglez       0\n",
       "enmo         0\n",
       "dtype: int64"
      ]
     },
     "execution_count": 6,
     "metadata": {},
     "output_type": "execute_result"
    }
   ],
   "source": [
    "train_series.isna().sum()"
   ]
  },
  {
   "cell_type": "code",
   "execution_count": 7,
   "metadata": {},
   "outputs": [
    {
     "name": "stderr",
     "output_type": "stream",
     "text": [
      "/var/folders/hb/_y1g8w4d6j910_w7_rr3vx700000gn/T/ipykernel_88543/2568038629.py:1: FutureWarning: In a future version of pandas, parsing datetimes with mixed time zones will raise an error unless `utc=True`. Please specify `utc=True` to opt in to the new behaviour and silence this warning. To create a `Series` with mixed offsets and `object` dtype, please use `apply` and `datetime.datetime.strptime`\n",
      "  train_series['timestamp'] = pd.to_datetime(train_series['timestamp']).apply(lambda t : t.tz_localize(None))\n"
     ]
    }
   ],
   "source": [
    "train_series[\"timestamp\"] = pd.to_datetime(train_series[\"timestamp\"]).apply(\n",
    "    lambda t: t.tz_localize(None)\n",
    ")"
   ]
  },
  {
   "cell_type": "code",
   "execution_count": null,
   "metadata": {},
   "outputs": [],
   "source": []
  }
 ],
 "metadata": {
  "kernelspec": {
   "display_name": "base",
   "language": "python",
   "name": "python3"
  },
  "language_info": {
   "codemirror_mode": {
    "name": "ipython",
    "version": 3
   },
   "file_extension": ".py",
   "mimetype": "text/x-python",
   "name": "python",
   "nbconvert_exporter": "python",
   "pygments_lexer": "ipython3",
   "version": "3.11.5"
  }
 },
 "nbformat": 4,
 "nbformat_minor": 2
}
