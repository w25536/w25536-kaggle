{
 "cells": [
  {
   "cell_type": "markdown",
   "metadata": {},
   "source": [
    "### LSTM\n",
    "\n",
    "```python \n",
    "np.random.seed(0)\n",
    "pd.set_option('display.precision', 2)  \n",
    "pd.set_option('display.float_format', '{:.2f}'.format) -\n",
    "```\n",
    "\n",
    "```python\n",
    "series_has_nan = train_events.groupby('series_id')['step'].apply(lambda x: x.isnull().any())\n",
    "train_ids = series_has_nan[~series_has_nan].index.tolist()\n",
    "```"
   ]
  },
  {
   "cell_type": "code",
   "execution_count": 39,
   "metadata": {},
   "outputs": [],
   "source": [
    "import numpy as np\n",
    "import pandas as pd\n",
    "import matplotlib.pyplot as plt\n",
    "import random\n",
    "import os\n",
    "\n",
    "import torch\n",
    "import torch.nn as nn\n",
    "from torch.autograd import Variable\n",
    "from itertools import groupby\n",
    "import gc\n",
    "\n",
    "from sklearn.preprocessing import LabelEncoder, MinMaxScaler, StandardScaler\n",
    "\n",
    "np.random.seed(0)\n",
    "pd.set_option(\"display.precision\", 2)\n",
    "pd.set_option(\"display.float_format\", \"{:.2f}\".format)"
   ]
  },
  {
   "cell_type": "code",
   "execution_count": null,
   "metadata": {},
   "outputs": [],
   "source": []
  },
  {
   "cell_type": "code",
   "execution_count": 99,
   "metadata": {},
   "outputs": [
    {
     "data": {
      "text/html": [
       "<div>\n",
       "<style scoped>\n",
       "    .dataframe tbody tr th:only-of-type {\n",
       "        vertical-align: middle;\n",
       "    }\n",
       "\n",
       "    .dataframe tbody tr th {\n",
       "        vertical-align: top;\n",
       "    }\n",
       "\n",
       "    .dataframe thead th {\n",
       "        text-align: right;\n",
       "    }\n",
       "</style>\n",
       "<table border=\"1\" class=\"dataframe\">\n",
       "  <thead>\n",
       "    <tr style=\"text-align: right;\">\n",
       "      <th></th>\n",
       "      <th>row_id</th>\n",
       "      <th>series_id</th>\n",
       "      <th>step</th>\n",
       "      <th>event</th>\n",
       "      <th>score</th>\n",
       "    </tr>\n",
       "  </thead>\n",
       "  <tbody>\n",
       "    <tr>\n",
       "      <th>0</th>\n",
       "      <td>0</td>\n",
       "      <td>038441c925bb</td>\n",
       "      <td>100</td>\n",
       "      <td>onset</td>\n",
       "      <td>0.00</td>\n",
       "    </tr>\n",
       "    <tr>\n",
       "      <th>1</th>\n",
       "      <td>1</td>\n",
       "      <td>038441c925bb</td>\n",
       "      <td>105</td>\n",
       "      <td>wakeup</td>\n",
       "      <td>0.00</td>\n",
       "    </tr>\n",
       "    <tr>\n",
       "      <th>2</th>\n",
       "      <td>2</td>\n",
       "      <td>03d92c9f6f8a</td>\n",
       "      <td>80</td>\n",
       "      <td>onset</td>\n",
       "      <td>0.50</td>\n",
       "    </tr>\n",
       "    <tr>\n",
       "      <th>3</th>\n",
       "      <td>3</td>\n",
       "      <td>03d92c9f6f8a</td>\n",
       "      <td>110</td>\n",
       "      <td>wakeup</td>\n",
       "      <td>0.50</td>\n",
       "    </tr>\n",
       "    <tr>\n",
       "      <th>4</th>\n",
       "      <td>4</td>\n",
       "      <td>0402a003dae9</td>\n",
       "      <td>90</td>\n",
       "      <td>onset</td>\n",
       "      <td>1.00</td>\n",
       "    </tr>\n",
       "  </tbody>\n",
       "</table>\n",
       "</div>"
      ],
      "text/plain": [
       "   row_id     series_id  step   event  score\n",
       "0       0  038441c925bb   100   onset   0.00\n",
       "1       1  038441c925bb   105  wakeup   0.00\n",
       "2       2  03d92c9f6f8a    80   onset   0.50\n",
       "3       3  03d92c9f6f8a   110  wakeup   0.50\n",
       "4       4  0402a003dae9    90   onset   1.00"
      ]
     },
     "execution_count": 99,
     "metadata": {},
     "output_type": "execute_result"
    }
   ],
   "source": [
    "current_directory = os.getcwd()\n",
    "\n",
    "csv_file_path = os.path.join(\n",
    "    current_directory, \"input\", \"data\", \"sample_submission.csv\"\n",
    ")\n",
    "\n",
    "sample_submission = pd.read_csv(csv_file_path)\n",
    "\n",
    "sample_submission.head()"
   ]
  },
  {
   "cell_type": "code",
   "execution_count": 40,
   "metadata": {},
   "outputs": [
    {
     "data": {
      "text/plain": [
       "['08db4255286f',\n",
       " '0a96f4993bd7',\n",
       " '0cfc06c129cc',\n",
       " '1087d7b0ff2e',\n",
       " '10f8bc1f7b07',\n",
       " '18b61dd5aae8',\n",
       " '29c75c018220',\n",
       " '31011ade7c0a',\n",
       " '3452b878e596',\n",
       " '349c5562ee2c',\n",
       " '3664fe9233f9',\n",
       " '483d6545417f',\n",
       " '55a47ff9dc8a',\n",
       " '5acc9d63b5fd',\n",
       " '5f94bb3e1bed',\n",
       " '655f19eabf1e',\n",
       " '67f5fc60e494',\n",
       " '72bbd1ac3edf',\n",
       " '76237b9406d5',\n",
       " '7822ee8fe3ec',\n",
       " '89bd631d1769',\n",
       " '8e32047cbc1f',\n",
       " '939932f1822d',\n",
       " '9ee455e4770d',\n",
       " 'a596ad0b82aa',\n",
       " 'a9a2f7fac455',\n",
       " 'a9e5f5314bcb',\n",
       " 'af91d9a50547',\n",
       " 'b364205aba43',\n",
       " 'c535634d7dcd',\n",
       " 'c6788e579967',\n",
       " 'c68260cc9e8f',\n",
       " 'ca730dbf521d',\n",
       " 'd150801f3145',\n",
       " 'd25e479ecbb7',\n",
       " 'd515236bdeec',\n",
       " 'd5e47b94477e']"
      ]
     },
     "execution_count": 40,
     "metadata": {},
     "output_type": "execute_result"
    }
   ],
   "source": [
    "current_directory = os.getcwd()\n",
    "\n",
    "csv_file_path = os.path.join(current_directory, \"input\", \"data\", \"train_events.csv\")\n",
    "\n",
    "train_events = pd.read_csv(csv_file_path)\n",
    "\n",
    "series_has_nan = train_events.groupby(\"series_id\")[\"step\"].apply(\n",
    "    lambda x: x.isnull().any()\n",
    ")\n",
    "train_ids = series_has_nan[~series_has_nan].index.tolist()\n",
    "\n",
    "train_ids"
   ]
  },
  {
   "cell_type": "code",
   "execution_count": 72,
   "metadata": {},
   "outputs": [],
   "source": [
    "current_directory = os.getcwd()\n",
    "\n",
    "parquet_file_path = os.path.join(\n",
    "    current_directory, \"input\", \"light_weight_data\", \"Zzzs_train_multi.parquet\"\n",
    ")\n",
    "\n",
    "\n",
    "def get_multi_light_series(series_ids):\n",
    "    print(f\"fetch {series_ids} \\n\")\n",
    "    multi_series = pd.read_parquet(\n",
    "        parquet_file_path, filters=[(\"series_id\", \"in\", series_ids)]\n",
    "    )\n",
    "    multi_series = multi_series.astype(\n",
    "        {\"series_id\": \"category\", \"step\": \"int16\", \"awake\": \"int16\"}\n",
    "    )\n",
    "    multi_series = add_features(multi_series)\n",
    "    return multi_series"
   ]
  },
  {
   "cell_type": "code",
   "execution_count": 73,
   "metadata": {},
   "outputs": [],
   "source": [
    "def add_features(df):\n",
    "    df[\"timestamp\"] = pd.to_datetime(df[\"timestamp\"], utc=True)\n",
    "    df[\"hour\"] = df[\"timestamp\"].dt.hour\n",
    "    df[\"dayofweek\"] = df[\"timestamp\"].dt.dayofweek\n",
    "\n",
    "    df[\"anglez_times_enmo\"] = abs(df[\"anglez\"]) * df[\"enmo\"]\n",
    "\n",
    "    periods = 6  # 1/2 minute\n",
    "    df[\"anglez_diff\"] = (\n",
    "        df.groupby(\"series_id\")[\"anglez\"].diff(periods=periods).fillna(method=\"bfill\")\n",
    "    )\n",
    "    df[\"enmo_diff\"] = (\n",
    "        df.groupby(\"series_id\")[\"enmo\"].diff(periods=periods).fillna(method=\"bfill\")\n",
    "    )\n",
    "\n",
    "    df[\"anglez_mean\"] = (\n",
    "        df[\"anglez\"]\n",
    "        .rolling(periods, center=True)\n",
    "        .mean()\n",
    "        .fillna(method=\"bfill\")\n",
    "        .fillna(method=\"ffill\")\n",
    "        .astype(\"float32\")\n",
    "    )\n",
    "    df[\"enmo_mean\"] = (\n",
    "        df[\"enmo\"]\n",
    "        .rolling(periods, center=True)\n",
    "        .mean()\n",
    "        .fillna(method=\"bfill\")\n",
    "        .fillna(method=\"ffill\")\n",
    "        .astype(\"float32\")\n",
    "    )\n",
    "\n",
    "    df[\"anglez_min\"] = (\n",
    "        df[\"anglez\"]\n",
    "        .rolling(periods, center=True)\n",
    "        .min()\n",
    "        .fillna(method=\"bfill\")\n",
    "        .fillna(method=\"ffill\")\n",
    "        .astype(\"float32\")\n",
    "    )\n",
    "    df[\"enmo_min\"] = (\n",
    "        df[\"enmo\"]\n",
    "        .rolling(periods, center=True)\n",
    "        .min()\n",
    "        .fillna(method=\"bfill\")\n",
    "        .fillna(method=\"ffill\")\n",
    "        .astype(\"float32\")\n",
    "    )\n",
    "\n",
    "    df[\"anglez_max\"] = (\n",
    "        df[\"anglez\"]\n",
    "        .rolling(periods, center=True)\n",
    "        .max()\n",
    "        .fillna(method=\"bfill\")\n",
    "        .fillna(method=\"ffill\")\n",
    "        .astype(\"float32\")\n",
    "    )\n",
    "    df[\"enmo_max\"] = (\n",
    "        df[\"enmo\"]\n",
    "        .rolling(periods, center=True)\n",
    "        .max()\n",
    "        .fillna(method=\"bfill\")\n",
    "        .fillna(method=\"ffill\")\n",
    "        .astype(\"float32\")\n",
    "    )\n",
    "\n",
    "    df[\"anglez_std\"] = (\n",
    "        df[\"anglez\"]\n",
    "        .rolling(periods, center=True)\n",
    "        .std()\n",
    "        .fillna(method=\"bfill\")\n",
    "        .fillna(method=\"ffill\")\n",
    "        .astype(\"float32\")\n",
    "    )\n",
    "    df[\"enmo_std\"] = (\n",
    "        df[\"enmo\"]\n",
    "        .rolling(periods, center=True)\n",
    "        .std()\n",
    "        .fillna(method=\"bfill\")\n",
    "        .fillna(method=\"ffill\")\n",
    "        .astype(\"float32\")\n",
    "    )\n",
    "\n",
    "    df[\"anglez_diff_rolling\"] = (\n",
    "        df[\"anglez_diff\"]\n",
    "        .rolling(periods, center=True)\n",
    "        .mean()\n",
    "        .fillna(method=\"bfill\")\n",
    "        .fillna(method=\"ffill\")\n",
    "        .astype(\"float32\")\n",
    "    )\n",
    "    df[\"enmo_diff_rolling\"] = (\n",
    "        df[\"enmo_diff\"]\n",
    "        .rolling(periods, center=True)\n",
    "        .mean()\n",
    "        .fillna(method=\"bfill\")\n",
    "        .fillna(method=\"ffill\")\n",
    "        .astype(\"float32\")\n",
    "    )\n",
    "    return df"
   ]
  },
  {
   "cell_type": "code",
   "execution_count": 74,
   "metadata": {},
   "outputs": [
    {
     "name": "stdout",
     "output_type": "stream",
     "text": [
      "fetch ['08db4255286f', '0a96f4993bd7', '0cfc06c129cc', '1087d7b0ff2e', '10f8bc1f7b07', '18b61dd5aae8', '29c75c018220', '31011ade7c0a'] \n",
      "\n"
     ]
    },
    {
     "name": "stderr",
     "output_type": "stream",
     "text": [
      "/var/folders/hb/_y1g8w4d6j910_w7_rr3vx700000gn/T/ipykernel_26663/2988593522.py:9: FutureWarning: The default of observed=False is deprecated and will be changed to True in a future version of pandas. Pass observed=False to retain current behavior or observed=True to adopt the future default and silence this warning.\n",
      "  df[\"anglez_diff\"] = df.groupby('series_id')['anglez'].diff(periods=periods).fillna(method=\"bfill\")\n",
      "/var/folders/hb/_y1g8w4d6j910_w7_rr3vx700000gn/T/ipykernel_26663/2988593522.py:9: FutureWarning: Series.fillna with 'method' is deprecated and will raise in a future version. Use obj.ffill() or obj.bfill() instead.\n",
      "  df[\"anglez_diff\"] = df.groupby('series_id')['anglez'].diff(periods=periods).fillna(method=\"bfill\")\n",
      "/var/folders/hb/_y1g8w4d6j910_w7_rr3vx700000gn/T/ipykernel_26663/2988593522.py:10: FutureWarning: The default of observed=False is deprecated and will be changed to True in a future version of pandas. Pass observed=False to retain current behavior or observed=True to adopt the future default and silence this warning.\n",
      "  df[\"enmo_diff\"]   = df.groupby('series_id')['enmo'].diff(periods=periods).fillna(method=\"bfill\")\n",
      "/var/folders/hb/_y1g8w4d6j910_w7_rr3vx700000gn/T/ipykernel_26663/2988593522.py:10: FutureWarning: Series.fillna with 'method' is deprecated and will raise in a future version. Use obj.ffill() or obj.bfill() instead.\n",
      "  df[\"enmo_diff\"]   = df.groupby('series_id')['enmo'].diff(periods=periods).fillna(method=\"bfill\")\n",
      "/var/folders/hb/_y1g8w4d6j910_w7_rr3vx700000gn/T/ipykernel_26663/2988593522.py:12: FutureWarning: Series.fillna with 'method' is deprecated and will raise in a future version. Use obj.ffill() or obj.bfill() instead.\n",
      "  df[\"anglez_mean\"] = df[\"anglez\"].rolling(periods,center=True).mean().fillna(method=\"bfill\").fillna(method=\"ffill\").astype('float32')\n",
      "/var/folders/hb/_y1g8w4d6j910_w7_rr3vx700000gn/T/ipykernel_26663/2988593522.py:13: FutureWarning: Series.fillna with 'method' is deprecated and will raise in a future version. Use obj.ffill() or obj.bfill() instead.\n",
      "  df[\"enmo_mean\"]   = df[\"enmo\"].rolling(periods,center=True).mean().fillna(method=\"bfill\").fillna(method=\"ffill\").astype('float32')\n",
      "/var/folders/hb/_y1g8w4d6j910_w7_rr3vx700000gn/T/ipykernel_26663/2988593522.py:15: FutureWarning: Series.fillna with 'method' is deprecated and will raise in a future version. Use obj.ffill() or obj.bfill() instead.\n",
      "  df[\"anglez_min\"] = df[\"anglez\"].rolling(periods,center=True).min().fillna(method=\"bfill\").fillna(method=\"ffill\").astype('float32')\n",
      "/var/folders/hb/_y1g8w4d6j910_w7_rr3vx700000gn/T/ipykernel_26663/2988593522.py:16: FutureWarning: Series.fillna with 'method' is deprecated and will raise in a future version. Use obj.ffill() or obj.bfill() instead.\n",
      "  df[\"enmo_min\"]   = df[\"enmo\"].rolling(periods,center=True).min().fillna(method=\"bfill\").fillna(method=\"ffill\").astype('float32')\n",
      "/var/folders/hb/_y1g8w4d6j910_w7_rr3vx700000gn/T/ipykernel_26663/2988593522.py:18: FutureWarning: Series.fillna with 'method' is deprecated and will raise in a future version. Use obj.ffill() or obj.bfill() instead.\n",
      "  df[\"anglez_max\"] = df[\"anglez\"].rolling(periods,center=True).max().fillna(method=\"bfill\").fillna(method=\"ffill\").astype('float32')\n",
      "/var/folders/hb/_y1g8w4d6j910_w7_rr3vx700000gn/T/ipykernel_26663/2988593522.py:19: FutureWarning: Series.fillna with 'method' is deprecated and will raise in a future version. Use obj.ffill() or obj.bfill() instead.\n",
      "  df[\"enmo_max\"]   = df[\"enmo\"].rolling(periods,center=True).max().fillna(method=\"bfill\").fillna(method=\"ffill\").astype('float32')\n",
      "/var/folders/hb/_y1g8w4d6j910_w7_rr3vx700000gn/T/ipykernel_26663/2988593522.py:21: FutureWarning: Series.fillna with 'method' is deprecated and will raise in a future version. Use obj.ffill() or obj.bfill() instead.\n",
      "  df[\"anglez_std\"] = df[\"anglez\"].rolling(periods,center=True).std().fillna(method=\"bfill\").fillna(method=\"ffill\").astype('float32')\n",
      "/var/folders/hb/_y1g8w4d6j910_w7_rr3vx700000gn/T/ipykernel_26663/2988593522.py:22: FutureWarning: Series.fillna with 'method' is deprecated and will raise in a future version. Use obj.ffill() or obj.bfill() instead.\n",
      "  df[\"enmo_std\"]   = df[\"enmo\"].rolling(periods,center=True).std().fillna(method=\"bfill\").fillna(method=\"ffill\").astype('float32')\n",
      "/var/folders/hb/_y1g8w4d6j910_w7_rr3vx700000gn/T/ipykernel_26663/2988593522.py:24: FutureWarning: Series.fillna with 'method' is deprecated and will raise in a future version. Use obj.ffill() or obj.bfill() instead.\n",
      "  df[\"anglez_diff_rolling\"] = df[\"anglez_diff\"].rolling(periods,center=True).mean().fillna(method=\"bfill\").fillna(method=\"ffill\").astype('float32')\n"
     ]
    },
    {
     "name": "stdout",
     "output_type": "stream",
     "text": [
      "memory usage:  219.76 MB\n"
     ]
    },
    {
     "name": "stderr",
     "output_type": "stream",
     "text": [
      "/var/folders/hb/_y1g8w4d6j910_w7_rr3vx700000gn/T/ipykernel_26663/2988593522.py:25: FutureWarning: Series.fillna with 'method' is deprecated and will raise in a future version. Use obj.ffill() or obj.bfill() instead.\n",
      "  df[\"enmo_diff_rolling\"]   = df[\"enmo_diff\"].rolling(periods,center=True).mean().fillna(method=\"bfill\").fillna(method=\"ffill\").astype('float32')\n"
     ]
    }
   ],
   "source": [
    "train_all = get_multi_light_series(train_ids[:8])\n",
    "print(f\"memory usage: {train_all.memory_usage().sum() / 1024**2: .2f} MB\")"
   ]
  },
  {
   "cell_type": "code",
   "execution_count": 75,
   "metadata": {},
   "outputs": [
    {
     "data": {
      "text/html": [
       "<div>\n",
       "<style scoped>\n",
       "    .dataframe tbody tr th:only-of-type {\n",
       "        vertical-align: middle;\n",
       "    }\n",
       "\n",
       "    .dataframe tbody tr th {\n",
       "        vertical-align: top;\n",
       "    }\n",
       "\n",
       "    .dataframe thead th {\n",
       "        text-align: right;\n",
       "    }\n",
       "</style>\n",
       "<table border=\"1\" class=\"dataframe\">\n",
       "  <thead>\n",
       "    <tr style=\"text-align: right;\">\n",
       "      <th></th>\n",
       "      <th>series_id</th>\n",
       "      <th>step</th>\n",
       "      <th>timestamp</th>\n",
       "      <th>anglez</th>\n",
       "      <th>enmo</th>\n",
       "      <th>awake</th>\n",
       "      <th>hour</th>\n",
       "      <th>dayofweek</th>\n",
       "      <th>anglez_times_enmo</th>\n",
       "      <th>anglez_diff</th>\n",
       "      <th>...</th>\n",
       "      <th>anglez_mean</th>\n",
       "      <th>enmo_mean</th>\n",
       "      <th>anglez_min</th>\n",
       "      <th>enmo_min</th>\n",
       "      <th>anglez_max</th>\n",
       "      <th>enmo_max</th>\n",
       "      <th>anglez_std</th>\n",
       "      <th>enmo_std</th>\n",
       "      <th>anglez_diff_rolling</th>\n",
       "      <th>enmo_diff_rolling</th>\n",
       "    </tr>\n",
       "  </thead>\n",
       "  <tbody>\n",
       "    <tr>\n",
       "      <th>0</th>\n",
       "      <td>08db4255286f</td>\n",
       "      <td>0</td>\n",
       "      <td>2018-11-05 14:00:00+00:00</td>\n",
       "      <td>-30.85</td>\n",
       "      <td>0.04</td>\n",
       "      <td>1</td>\n",
       "      <td>14</td>\n",
       "      <td>0</td>\n",
       "      <td>1.38</td>\n",
       "      <td>0.33</td>\n",
       "      <td>...</td>\n",
       "      <td>-33.75</td>\n",
       "      <td>0.06</td>\n",
       "      <td>-34.93</td>\n",
       "      <td>0.04</td>\n",
       "      <td>-30.85</td>\n",
       "      <td>0.08</td>\n",
       "      <td>1.46</td>\n",
       "      <td>0.01</td>\n",
       "      <td>0.33</td>\n",
       "      <td>0.06</td>\n",
       "    </tr>\n",
       "    <tr>\n",
       "      <th>1</th>\n",
       "      <td>08db4255286f</td>\n",
       "      <td>1</td>\n",
       "      <td>2018-11-05 14:00:05+00:00</td>\n",
       "      <td>-34.18</td>\n",
       "      <td>0.04</td>\n",
       "      <td>1</td>\n",
       "      <td>14</td>\n",
       "      <td>0</td>\n",
       "      <td>1.51</td>\n",
       "      <td>0.33</td>\n",
       "      <td>...</td>\n",
       "      <td>-33.75</td>\n",
       "      <td>0.06</td>\n",
       "      <td>-34.93</td>\n",
       "      <td>0.04</td>\n",
       "      <td>-30.85</td>\n",
       "      <td>0.08</td>\n",
       "      <td>1.46</td>\n",
       "      <td>0.01</td>\n",
       "      <td>0.33</td>\n",
       "      <td>0.06</td>\n",
       "    </tr>\n",
       "    <tr>\n",
       "      <th>2</th>\n",
       "      <td>08db4255286f</td>\n",
       "      <td>2</td>\n",
       "      <td>2018-11-05 14:00:10+00:00</td>\n",
       "      <td>-33.88</td>\n",
       "      <td>0.05</td>\n",
       "      <td>1</td>\n",
       "      <td>14</td>\n",
       "      <td>0</td>\n",
       "      <td>1.64</td>\n",
       "      <td>0.33</td>\n",
       "      <td>...</td>\n",
       "      <td>-33.75</td>\n",
       "      <td>0.06</td>\n",
       "      <td>-34.93</td>\n",
       "      <td>0.04</td>\n",
       "      <td>-30.85</td>\n",
       "      <td>0.08</td>\n",
       "      <td>1.46</td>\n",
       "      <td>0.01</td>\n",
       "      <td>0.33</td>\n",
       "      <td>0.06</td>\n",
       "    </tr>\n",
       "    <tr>\n",
       "      <th>3</th>\n",
       "      <td>08db4255286f</td>\n",
       "      <td>3</td>\n",
       "      <td>2018-11-05 14:00:15+00:00</td>\n",
       "      <td>-34.28</td>\n",
       "      <td>0.07</td>\n",
       "      <td>1</td>\n",
       "      <td>14</td>\n",
       "      <td>0</td>\n",
       "      <td>2.33</td>\n",
       "      <td>0.33</td>\n",
       "      <td>...</td>\n",
       "      <td>-33.75</td>\n",
       "      <td>0.06</td>\n",
       "      <td>-34.93</td>\n",
       "      <td>0.04</td>\n",
       "      <td>-30.85</td>\n",
       "      <td>0.08</td>\n",
       "      <td>1.46</td>\n",
       "      <td>0.01</td>\n",
       "      <td>0.33</td>\n",
       "      <td>0.06</td>\n",
       "    </tr>\n",
       "    <tr>\n",
       "      <th>4</th>\n",
       "      <td>08db4255286f</td>\n",
       "      <td>4</td>\n",
       "      <td>2018-11-05 14:00:20+00:00</td>\n",
       "      <td>-34.39</td>\n",
       "      <td>0.08</td>\n",
       "      <td>1</td>\n",
       "      <td>14</td>\n",
       "      <td>0</td>\n",
       "      <td>2.64</td>\n",
       "      <td>0.33</td>\n",
       "      <td>...</td>\n",
       "      <td>-33.69</td>\n",
       "      <td>0.07</td>\n",
       "      <td>-34.93</td>\n",
       "      <td>0.04</td>\n",
       "      <td>-30.51</td>\n",
       "      <td>0.11</td>\n",
       "      <td>1.60</td>\n",
       "      <td>0.02</td>\n",
       "      <td>0.33</td>\n",
       "      <td>0.06</td>\n",
       "    </tr>\n",
       "  </tbody>\n",
       "</table>\n",
       "<p>5 rows × 21 columns</p>\n",
       "</div>"
      ],
      "text/plain": [
       "      series_id  step                 timestamp  anglez  enmo  awake  hour  \\\n",
       "0  08db4255286f     0 2018-11-05 14:00:00+00:00  -30.85  0.04      1    14   \n",
       "1  08db4255286f     1 2018-11-05 14:00:05+00:00  -34.18  0.04      1    14   \n",
       "2  08db4255286f     2 2018-11-05 14:00:10+00:00  -33.88  0.05      1    14   \n",
       "3  08db4255286f     3 2018-11-05 14:00:15+00:00  -34.28  0.07      1    14   \n",
       "4  08db4255286f     4 2018-11-05 14:00:20+00:00  -34.39  0.08      1    14   \n",
       "\n",
       "   dayofweek  anglez_times_enmo  anglez_diff  ...  anglez_mean  enmo_mean  \\\n",
       "0          0               1.38         0.33  ...       -33.75       0.06   \n",
       "1          0               1.51         0.33  ...       -33.75       0.06   \n",
       "2          0               1.64         0.33  ...       -33.75       0.06   \n",
       "3          0               2.33         0.33  ...       -33.75       0.06   \n",
       "4          0               2.64         0.33  ...       -33.69       0.07   \n",
       "\n",
       "   anglez_min  enmo_min  anglez_max  enmo_max  anglez_std  enmo_std  \\\n",
       "0      -34.93      0.04      -30.85      0.08        1.46      0.01   \n",
       "1      -34.93      0.04      -30.85      0.08        1.46      0.01   \n",
       "2      -34.93      0.04      -30.85      0.08        1.46      0.01   \n",
       "3      -34.93      0.04      -30.85      0.08        1.46      0.01   \n",
       "4      -34.93      0.04      -30.51      0.11        1.60      0.02   \n",
       "\n",
       "   anglez_diff_rolling  enmo_diff_rolling  \n",
       "0                 0.33               0.06  \n",
       "1                 0.33               0.06  \n",
       "2                 0.33               0.06  \n",
       "3                 0.33               0.06  \n",
       "4                 0.33               0.06  \n",
       "\n",
       "[5 rows x 21 columns]"
      ]
     },
     "execution_count": 75,
     "metadata": {},
     "output_type": "execute_result"
    }
   ],
   "source": [
    "train_all.head()"
   ]
  },
  {
   "cell_type": "markdown",
   "metadata": {},
   "source": [
    "Prepare Data"
   ]
  },
  {
   "cell_type": "code",
   "execution_count": 45,
   "metadata": {},
   "outputs": [],
   "source": [
    "features = [\n",
    "    \"step\",\n",
    "    \"hour\",\n",
    "    \"dayofweek\",\n",
    "    \"anglez_times_enmo\",\n",
    "    \"anglez\",\n",
    "    \"anglez_diff\",\n",
    "    \"anglez_mean\",\n",
    "    \"anglez_min\",\n",
    "    \"anglez_max\",\n",
    "    \"anglez_std\",\n",
    "    \"anglez_diff_rolling\",\n",
    "    \"enmo\",\n",
    "    \"enmo_diff\",\n",
    "    \"enmo_mean\",\n",
    "    \"enmo_min\",\n",
    "    \"enmo_max\",\n",
    "    \"enmo_std\",\n",
    "    \"enmo_diff_rolling\",\n",
    "]\n",
    "target = \"awake\"\n",
    "\n",
    "scaler = StandardScaler()\n",
    "\n",
    "df_train_X_scaled = scaler.fit_transform(train_all[features])\n",
    "df_train_y = train_all[target].values"
   ]
  },
  {
   "cell_type": "markdown",
   "metadata": {},
   "source": [
    "Split Data"
   ]
  },
  {
   "cell_type": "code",
   "execution_count": 46,
   "metadata": {},
   "outputs": [
    {
     "data": {
      "text/plain": [
       "'mps'"
      ]
     },
     "execution_count": 46,
     "metadata": {},
     "output_type": "execute_result"
    }
   ],
   "source": [
    "from torch import tensor\n",
    "from torch.utils.data import Dataset\n",
    "from torch.utils.data import DataLoader\n",
    "import torch.nn.functional as F\n",
    "\n",
    "def_device = (\n",
    "    \"mps\"\n",
    "    if torch.backends.mps.is_available()\n",
    "    else \"cuda\" if torch.cuda.is_available() else \"cpu\"\n",
    ")\n",
    "def_device"
   ]
  },
  {
   "cell_type": "code",
   "execution_count": 47,
   "metadata": {},
   "outputs": [
    {
     "data": {
      "text/plain": [
       "(torch.Size([2844900, 18]), torch.Size([2844900]))"
      ]
     },
     "execution_count": 47,
     "metadata": {},
     "output_type": "execute_result"
    }
   ],
   "source": [
    "X = tensor(df_train_X_scaled, dtype=torch.float32)\n",
    "y = tensor(df_train_y, dtype=torch.long)\n",
    "\n",
    "X.shape, y.shape"
   ]
  },
  {
   "cell_type": "code",
   "execution_count": 48,
   "metadata": {},
   "outputs": [
    {
     "data": {
      "text/plain": [
       "(torch.Size([2275920, 18]),\n",
       " torch.Size([2275920]),\n",
       " torch.Size([568980, 18]),\n",
       " torch.Size([568980]))"
      ]
     },
     "execution_count": 48,
     "metadata": {},
     "output_type": "execute_result"
    }
   ],
   "source": [
    "split_index = int(len(X) * 0.8)\n",
    "\n",
    "X_train = X[:split_index]\n",
    "X_val = X[split_index:]\n",
    "\n",
    "y_train = y[:split_index]\n",
    "y_val = y[split_index:]\n",
    "\n",
    "X_train.shape, y_train.shape, X_val.shape, y_val.shape"
   ]
  },
  {
   "cell_type": "code",
   "execution_count": 49,
   "metadata": {},
   "outputs": [],
   "source": [
    "class TimeSeriesDataset(Dataset):\n",
    "    def __init__(self, X, y):\n",
    "        self.X, self.y = X, y\n",
    "\n",
    "    def __len__(self):\n",
    "        return len(self.X)\n",
    "\n",
    "    def __getitem__(self, i):\n",
    "        return self.X[i], self.y[i]\n",
    "\n",
    "\n",
    "train_ds, val_ds = TimeSeriesDataset(X_train, y_train), TimeSeriesDataset(X_val, y_val)\n",
    "batch_size = 12 * 60  # 1 hour\n",
    "\n",
    "train_dl, val_dl = DataLoader(\n",
    "    train_ds, batch_size=batch_size, shuffle=False\n",
    "), DataLoader(val_ds, batch_size=batch_size, shuffle=False)"
   ]
  },
  {
   "cell_type": "code",
   "execution_count": 50,
   "metadata": {},
   "outputs": [],
   "source": [
    "class LSTM(nn.Module):\n",
    "    def __init__(self, input_size, hidden_size, num_layers, output_size):\n",
    "        super().__init__()\n",
    "        self.hidden_size = hidden_size\n",
    "        self.num_layers = num_layers\n",
    "        self.lstm = nn.LSTM(input_size, hidden_size, num_layers, batch_first=True)\n",
    "        self.relu = nn.ReLU()\n",
    "        self.fc = nn.Linear(hidden_size, output_size)\n",
    "\n",
    "    def forward(self, x):\n",
    "        batch_size = x.size(0)\n",
    "        h0 = torch.zeros(self.num_layers, batch_size, self.hidden_size).to(def_device)\n",
    "        c0 = torch.zeros(self.num_layers, batch_size, self.hidden_size).to(def_device)\n",
    "        x = x[:, None, :]  # to 3D dimension\n",
    "        out, _ = self.lstm(x, (h0, c0))\n",
    "        out = self.fc(self.relu(out[:, -1, :]))\n",
    "        return out"
   ]
  },
  {
   "cell_type": "code",
   "execution_count": 51,
   "metadata": {},
   "outputs": [],
   "source": [
    "from tqdm import tqdm\n",
    "\n",
    "\n",
    "def accuracy(out, yb):\n",
    "    return (\n",
    "        (out.argmax(axis=1) == yb).float().mean()\n",
    "    )  # Evaluate the accuracy of the model.\n",
    "\n",
    "\n",
    "def fit(epochs, model, loss_func, opt, train_dl, valid_dl):\n",
    "    for epoch in range(epochs):\n",
    "        print(f\"Starting epoch {epoch+1} train\")\n",
    "        progress_bar = tqdm(train_dl)\n",
    "        model.train(True)\n",
    "        for xb, yb in progress_bar:\n",
    "            xb, yb = xb.to(def_device), yb.to(def_device)\n",
    "            loss = loss_func(model(xb), yb)\n",
    "            loss.backward()\n",
    "            opt.step()\n",
    "            opt.zero_grad()\n",
    "            progress_bar.set_description(f\"Loss: {loss.item():.3f}\")\n",
    "        model.eval()\n",
    "        with torch.no_grad():\n",
    "            tot_loss, tot_acc, count = 0.0, 0.0, 0\n",
    "            print(f\"Starting epoch {epoch+1} eval\")\n",
    "            progress_bar = tqdm(valid_dl)\n",
    "            for xb, yb in progress_bar:\n",
    "                xb, yb = xb.to(def_device), yb.to(def_device)\n",
    "                pred = model(xb)\n",
    "                n = len(xb)\n",
    "                count += n\n",
    "                tot_loss += loss_func(pred, yb).item() * n\n",
    "                tot_acc += accuracy(pred, yb).item() * n\n",
    "        print(\n",
    "            f\"epoch:{epoch}, loss: {tot_loss/count:.2f}, accuracy: {tot_acc/count:.2f}\"\n",
    "        )\n",
    "    return tot_loss / count, tot_acc / count\n",
    "\n",
    "\n",
    "def predict(x):\n",
    "    with torch.no_grad():\n",
    "        predicted = model(x.to(def_device)).to(\"cpu\")\n",
    "    score = F.log_softmax(predicted, -1).exp()\n",
    "    value = score.argmax(axis=1)\n",
    "    return score, value"
   ]
  },
  {
   "cell_type": "code",
   "execution_count": 52,
   "metadata": {},
   "outputs": [
    {
     "data": {
      "text/plain": [
       "LSTM(\n",
       "  (lstm): LSTM(18, 32, num_layers=2, batch_first=True)\n",
       "  (relu): ReLU()\n",
       "  (fc): Linear(in_features=32, out_features=2, bias=True)\n",
       ")"
      ]
     },
     "execution_count": 52,
     "metadata": {},
     "output_type": "execute_result"
    }
   ],
   "source": [
    "input_size = len(features)\n",
    "hidden_size = 32  # like 1 2 4 32 64\n",
    "num_layers = 2\n",
    "output_size = 2\n",
    "\n",
    "model = LSTM(input_size, hidden_size, num_layers, output_size)\n",
    "opt = torch.optim.Adam(model.parameters(), lr=0.001)\n",
    "loss_func = F.cross_entropy\n",
    "\n",
    "model.to(def_device)\n",
    "model"
   ]
  },
  {
   "cell_type": "code",
   "execution_count": 53,
   "metadata": {},
   "outputs": [
    {
     "name": "stdout",
     "output_type": "stream",
     "text": [
      "Starting epoch 1 train\n"
     ]
    },
    {
     "name": "stderr",
     "output_type": "stream",
     "text": [
      "Loss: 0.252: 100%|██████████| 3161/3161 [00:33<00:00, 93.51it/s] \n"
     ]
    },
    {
     "name": "stdout",
     "output_type": "stream",
     "text": [
      "Starting epoch 1 eval\n"
     ]
    },
    {
     "name": "stderr",
     "output_type": "stream",
     "text": [
      "100%|██████████| 791/791 [00:04<00:00, 178.82it/s]\n"
     ]
    },
    {
     "name": "stdout",
     "output_type": "stream",
     "text": [
      "epoch:0, loss: 0.18, accuracy: 0.93\n",
      "Starting epoch 2 train\n"
     ]
    },
    {
     "name": "stderr",
     "output_type": "stream",
     "text": [
      "Loss: 0.118: 100%|██████████| 3161/3161 [00:32<00:00, 96.64it/s] \n"
     ]
    },
    {
     "name": "stdout",
     "output_type": "stream",
     "text": [
      "Starting epoch 2 eval\n"
     ]
    },
    {
     "name": "stderr",
     "output_type": "stream",
     "text": [
      "100%|██████████| 791/791 [00:04<00:00, 185.69it/s]\n"
     ]
    },
    {
     "name": "stdout",
     "output_type": "stream",
     "text": [
      "epoch:1, loss: 0.17, accuracy: 0.94\n",
      "Starting epoch 3 train\n"
     ]
    },
    {
     "name": "stderr",
     "output_type": "stream",
     "text": [
      "Loss: 0.118: 100%|██████████| 3161/3161 [00:32<00:00, 98.37it/s] \n"
     ]
    },
    {
     "name": "stdout",
     "output_type": "stream",
     "text": [
      "Starting epoch 3 eval\n"
     ]
    },
    {
     "name": "stderr",
     "output_type": "stream",
     "text": [
      "100%|██████████| 791/791 [00:04<00:00, 171.89it/s]\n"
     ]
    },
    {
     "name": "stdout",
     "output_type": "stream",
     "text": [
      "epoch:2, loss: 0.15, accuracy: 0.94\n",
      "Starting epoch 4 train\n"
     ]
    },
    {
     "name": "stderr",
     "output_type": "stream",
     "text": [
      "Loss: 0.128: 100%|██████████| 3161/3161 [00:33<00:00, 93.71it/s] \n"
     ]
    },
    {
     "name": "stdout",
     "output_type": "stream",
     "text": [
      "Starting epoch 4 eval\n"
     ]
    },
    {
     "name": "stderr",
     "output_type": "stream",
     "text": [
      "100%|██████████| 791/791 [00:04<00:00, 173.08it/s]"
     ]
    },
    {
     "name": "stdout",
     "output_type": "stream",
     "text": [
      "epoch:3, loss: 0.14, accuracy: 0.95\n",
      "CPU times: user 2min, sys: 20.3 s, total: 2min 21s\n",
      "Wall time: 2min 30s\n"
     ]
    },
    {
     "name": "stderr",
     "output_type": "stream",
     "text": [
      "\n"
     ]
    }
   ],
   "source": [
    "%time loss,acc = fit(4, model, loss_func, opt, train_dl, val_dl)"
   ]
  },
  {
   "cell_type": "code",
   "execution_count": 54,
   "metadata": {},
   "outputs": [
    {
     "name": "stdout",
     "output_type": "stream",
     "text": [
      "torch.Size([720, 18]) torch.Size([720])\n"
     ]
    }
   ],
   "source": [
    "xb, yb = next(iter(train_dl))\n",
    "print(xb.shape, yb.shape)"
   ]
  },
  {
   "cell_type": "code",
   "execution_count": 55,
   "metadata": {},
   "outputs": [
    {
     "name": "stdout",
     "output_type": "stream",
     "text": [
      "accuracy: 1.0\n"
     ]
    },
    {
     "data": {
      "image/png": "[encoded data removed]",
      "text/plain": [
       "<Figure size 2000x300 with 1 Axes>"
      ]
     },
     "metadata": {},
     "output_type": "display_data"
    }
   ],
   "source": [
    "score, pred_value = predict(xb)\n",
    "print(f\"accuracy: {accuracy(score, yb)}\")\n",
    "\n",
    "\n",
    "def plot_predicate(act_value, pred_value):\n",
    "    plt.figure(figsize=(20, 3))\n",
    "    plt.plot(act_value, label=\"Actual Awake\")\n",
    "    plt.plot(pred_value, label=\"Predicted Awake\")\n",
    "    plt.xlabel(\"Day\")\n",
    "    plt.ylabel(\"Awake\")\n",
    "    plt.legend()\n",
    "    plt.show()\n",
    "\n",
    "\n",
    "plot_predicate(yb, pred_value)"
   ]
  },
  {
   "cell_type": "code",
   "execution_count": 56,
   "metadata": {},
   "outputs": [],
   "source": [
    "def data_transform(df):\n",
    "    if df.empty:\n",
    "        raise ValueError(\"The input dataframe is empty.\")\n",
    "    df = add_features(df)\n",
    "    if not set(features).issubset(df.columns):\n",
    "        raise ValueError(\"Some features are not present in the dataframe.\")\n",
    "    df_scaler = scaler.transform(df[features])\n",
    "    return tensor(df_scaler, dtype=torch.float32)"
   ]
  },
  {
   "cell_type": "code",
   "execution_count": 57,
   "metadata": {},
   "outputs": [
    {
     "name": "stdout",
     "output_type": "stream",
     "text": [
      "['c6788e579967', 'c68260cc9e8f']\n",
      "Index(['series_id', 'step', 'timestamp', 'anglez', 'enmo', 'awake', 'hour',\n",
      "       'dayofweek', 'anglez_times_enmo', 'anglez_diff', 'enmo_diff',\n",
      "       'anglez_mean', 'enmo_mean', 'anglez_min', 'enmo_min', 'anglez_max',\n",
      "       'enmo_max', 'anglez_std', 'enmo_std', 'anglez_diff_rolling',\n",
      "       'enmo_diff_rolling'],\n",
      "      dtype='object')\n",
      "['08db4255286f', '0a96f4993bd7', '0cfc06c129cc', '1087d7b0ff2e', '10f8bc1f7b07', '18b61dd5aae8', '29c75c018220', '31011ade7c0a', '3452b878e596', '349c5562ee2c', '3664fe9233f9', '483d6545417f', '55a47ff9dc8a', '5acc9d63b5fd', '5f94bb3e1bed', '655f19eabf1e', '67f5fc60e494', '72bbd1ac3edf', '76237b9406d5', '7822ee8fe3ec', '89bd631d1769', '8e32047cbc1f', '939932f1822d', '9ee455e4770d', 'a596ad0b82aa', 'a9a2f7fac455', 'a9e5f5314bcb', 'af91d9a50547', 'b364205aba43', 'c535634d7dcd', 'c6788e579967', 'c68260cc9e8f', 'ca730dbf521d', 'd150801f3145', 'd25e479ecbb7', 'd515236bdeec', 'd5e47b94477e']\n"
     ]
    },
    {
     "data": {
      "text/html": [
       "<div>\n",
       "<style scoped>\n",
       "    .dataframe tbody tr th:only-of-type {\n",
       "        vertical-align: middle;\n",
       "    }\n",
       "\n",
       "    .dataframe tbody tr th {\n",
       "        vertical-align: top;\n",
       "    }\n",
       "\n",
       "    .dataframe thead th {\n",
       "        text-align: right;\n",
       "    }\n",
       "</style>\n",
       "<table border=\"1\" class=\"dataframe\">\n",
       "  <thead>\n",
       "    <tr style=\"text-align: right;\">\n",
       "      <th></th>\n",
       "      <th>series_id</th>\n",
       "      <th>step</th>\n",
       "      <th>timestamp</th>\n",
       "      <th>anglez</th>\n",
       "      <th>enmo</th>\n",
       "      <th>awake</th>\n",
       "      <th>hour</th>\n",
       "      <th>dayofweek</th>\n",
       "      <th>anglez_times_enmo</th>\n",
       "      <th>anglez_diff</th>\n",
       "      <th>...</th>\n",
       "      <th>anglez_mean</th>\n",
       "      <th>enmo_mean</th>\n",
       "      <th>anglez_min</th>\n",
       "      <th>enmo_min</th>\n",
       "      <th>anglez_max</th>\n",
       "      <th>enmo_max</th>\n",
       "      <th>anglez_std</th>\n",
       "      <th>enmo_std</th>\n",
       "      <th>anglez_diff_rolling</th>\n",
       "      <th>enmo_diff_rolling</th>\n",
       "    </tr>\n",
       "  </thead>\n",
       "  <tbody>\n",
       "    <tr>\n",
       "      <th>0</th>\n",
       "      <td>08db4255286f</td>\n",
       "      <td>0</td>\n",
       "      <td>2018-11-05 14:00:00+00:00</td>\n",
       "      <td>-30.85</td>\n",
       "      <td>0.04</td>\n",
       "      <td>1</td>\n",
       "      <td>14</td>\n",
       "      <td>0</td>\n",
       "      <td>1.38</td>\n",
       "      <td>0.33</td>\n",
       "      <td>...</td>\n",
       "      <td>-33.75</td>\n",
       "      <td>0.06</td>\n",
       "      <td>-34.93</td>\n",
       "      <td>0.04</td>\n",
       "      <td>-30.85</td>\n",
       "      <td>0.08</td>\n",
       "      <td>1.46</td>\n",
       "      <td>0.01</td>\n",
       "      <td>0.33</td>\n",
       "      <td>0.06</td>\n",
       "    </tr>\n",
       "    <tr>\n",
       "      <th>1</th>\n",
       "      <td>08db4255286f</td>\n",
       "      <td>1</td>\n",
       "      <td>2018-11-05 14:00:05+00:00</td>\n",
       "      <td>-34.18</td>\n",
       "      <td>0.04</td>\n",
       "      <td>1</td>\n",
       "      <td>14</td>\n",
       "      <td>0</td>\n",
       "      <td>1.51</td>\n",
       "      <td>0.33</td>\n",
       "      <td>...</td>\n",
       "      <td>-33.75</td>\n",
       "      <td>0.06</td>\n",
       "      <td>-34.93</td>\n",
       "      <td>0.04</td>\n",
       "      <td>-30.85</td>\n",
       "      <td>0.08</td>\n",
       "      <td>1.46</td>\n",
       "      <td>0.01</td>\n",
       "      <td>0.33</td>\n",
       "      <td>0.06</td>\n",
       "    </tr>\n",
       "    <tr>\n",
       "      <th>2</th>\n",
       "      <td>08db4255286f</td>\n",
       "      <td>2</td>\n",
       "      <td>2018-11-05 14:00:10+00:00</td>\n",
       "      <td>-33.88</td>\n",
       "      <td>0.05</td>\n",
       "      <td>1</td>\n",
       "      <td>14</td>\n",
       "      <td>0</td>\n",
       "      <td>1.64</td>\n",
       "      <td>0.33</td>\n",
       "      <td>...</td>\n",
       "      <td>-33.75</td>\n",
       "      <td>0.06</td>\n",
       "      <td>-34.93</td>\n",
       "      <td>0.04</td>\n",
       "      <td>-30.85</td>\n",
       "      <td>0.08</td>\n",
       "      <td>1.46</td>\n",
       "      <td>0.01</td>\n",
       "      <td>0.33</td>\n",
       "      <td>0.06</td>\n",
       "    </tr>\n",
       "    <tr>\n",
       "      <th>3</th>\n",
       "      <td>08db4255286f</td>\n",
       "      <td>3</td>\n",
       "      <td>2018-11-05 14:00:15+00:00</td>\n",
       "      <td>-34.28</td>\n",
       "      <td>0.07</td>\n",
       "      <td>1</td>\n",
       "      <td>14</td>\n",
       "      <td>0</td>\n",
       "      <td>2.33</td>\n",
       "      <td>0.33</td>\n",
       "      <td>...</td>\n",
       "      <td>-33.75</td>\n",
       "      <td>0.06</td>\n",
       "      <td>-34.93</td>\n",
       "      <td>0.04</td>\n",
       "      <td>-30.85</td>\n",
       "      <td>0.08</td>\n",
       "      <td>1.46</td>\n",
       "      <td>0.01</td>\n",
       "      <td>0.33</td>\n",
       "      <td>0.06</td>\n",
       "    </tr>\n",
       "    <tr>\n",
       "      <th>4</th>\n",
       "      <td>08db4255286f</td>\n",
       "      <td>4</td>\n",
       "      <td>2018-11-05 14:00:20+00:00</td>\n",
       "      <td>-34.39</td>\n",
       "      <td>0.08</td>\n",
       "      <td>1</td>\n",
       "      <td>14</td>\n",
       "      <td>0</td>\n",
       "      <td>2.64</td>\n",
       "      <td>0.33</td>\n",
       "      <td>...</td>\n",
       "      <td>-33.69</td>\n",
       "      <td>0.07</td>\n",
       "      <td>-34.93</td>\n",
       "      <td>0.04</td>\n",
       "      <td>-30.51</td>\n",
       "      <td>0.11</td>\n",
       "      <td>1.60</td>\n",
       "      <td>0.02</td>\n",
       "      <td>0.33</td>\n",
       "      <td>0.06</td>\n",
       "    </tr>\n",
       "    <tr>\n",
       "      <th>...</th>\n",
       "      <td>...</td>\n",
       "      <td>...</td>\n",
       "      <td>...</td>\n",
       "      <td>...</td>\n",
       "      <td>...</td>\n",
       "      <td>...</td>\n",
       "      <td>...</td>\n",
       "      <td>...</td>\n",
       "      <td>...</td>\n",
       "      <td>...</td>\n",
       "      <td>...</td>\n",
       "      <td>...</td>\n",
       "      <td>...</td>\n",
       "      <td>...</td>\n",
       "      <td>...</td>\n",
       "      <td>...</td>\n",
       "      <td>...</td>\n",
       "      <td>...</td>\n",
       "      <td>...</td>\n",
       "      <td>...</td>\n",
       "      <td>...</td>\n",
       "    </tr>\n",
       "    <tr>\n",
       "      <th>2844895</th>\n",
       "      <td>29c75c018220</td>\n",
       "      <td>5463</td>\n",
       "      <td>2018-05-01 13:14:35+00:00</td>\n",
       "      <td>-12.78</td>\n",
       "      <td>0.02</td>\n",
       "      <td>1</td>\n",
       "      <td>13</td>\n",
       "      <td>1</td>\n",
       "      <td>0.23</td>\n",
       "      <td>-2.80</td>\n",
       "      <td>...</td>\n",
       "      <td>-13.84</td>\n",
       "      <td>0.02</td>\n",
       "      <td>-15.10</td>\n",
       "      <td>0.02</td>\n",
       "      <td>-12.78</td>\n",
       "      <td>0.03</td>\n",
       "      <td>0.97</td>\n",
       "      <td>0.00</td>\n",
       "      <td>-1.66</td>\n",
       "      <td>-0.00</td>\n",
       "    </tr>\n",
       "    <tr>\n",
       "      <th>2844896</th>\n",
       "      <td>29c75c018220</td>\n",
       "      <td>5464</td>\n",
       "      <td>2018-05-01 13:14:40+00:00</td>\n",
       "      <td>-13.14</td>\n",
       "      <td>0.02</td>\n",
       "      <td>1</td>\n",
       "      <td>13</td>\n",
       "      <td>1</td>\n",
       "      <td>0.27</td>\n",
       "      <td>-3.27</td>\n",
       "      <td>...</td>\n",
       "      <td>-14.28</td>\n",
       "      <td>0.02</td>\n",
       "      <td>-15.69</td>\n",
       "      <td>0.02</td>\n",
       "      <td>-12.78</td>\n",
       "      <td>0.03</td>\n",
       "      <td>1.13</td>\n",
       "      <td>0.00</td>\n",
       "      <td>-2.63</td>\n",
       "      <td>-0.00</td>\n",
       "    </tr>\n",
       "    <tr>\n",
       "      <th>2844897</th>\n",
       "      <td>29c75c018220</td>\n",
       "      <td>5465</td>\n",
       "      <td>2018-05-01 13:14:45+00:00</td>\n",
       "      <td>-14.72</td>\n",
       "      <td>0.02</td>\n",
       "      <td>1</td>\n",
       "      <td>13</td>\n",
       "      <td>1</td>\n",
       "      <td>0.36</td>\n",
       "      <td>-4.70</td>\n",
       "      <td>...</td>\n",
       "      <td>-14.34</td>\n",
       "      <td>0.02</td>\n",
       "      <td>-15.69</td>\n",
       "      <td>0.02</td>\n",
       "      <td>-12.78</td>\n",
       "      <td>0.03</td>\n",
       "      <td>1.20</td>\n",
       "      <td>0.00</td>\n",
       "      <td>-2.61</td>\n",
       "      <td>0.00</td>\n",
       "    </tr>\n",
       "    <tr>\n",
       "      <th>2844898</th>\n",
       "      <td>29c75c018220</td>\n",
       "      <td>5466</td>\n",
       "      <td>2018-05-01 13:14:50+00:00</td>\n",
       "      <td>-15.69</td>\n",
       "      <td>0.02</td>\n",
       "      <td>1</td>\n",
       "      <td>13</td>\n",
       "      <td>1</td>\n",
       "      <td>0.30</td>\n",
       "      <td>-2.61</td>\n",
       "      <td>...</td>\n",
       "      <td>-14.34</td>\n",
       "      <td>0.02</td>\n",
       "      <td>-15.69</td>\n",
       "      <td>0.02</td>\n",
       "      <td>-12.78</td>\n",
       "      <td>0.03</td>\n",
       "      <td>1.20</td>\n",
       "      <td>0.00</td>\n",
       "      <td>-2.61</td>\n",
       "      <td>0.00</td>\n",
       "    </tr>\n",
       "    <tr>\n",
       "      <th>2844899</th>\n",
       "      <td>29c75c018220</td>\n",
       "      <td>5467</td>\n",
       "      <td>2018-05-01 13:14:55+00:00</td>\n",
       "      <td>-15.48</td>\n",
       "      <td>0.03</td>\n",
       "      <td>1</td>\n",
       "      <td>13</td>\n",
       "      <td>1</td>\n",
       "      <td>0.40</td>\n",
       "      <td>-0.38</td>\n",
       "      <td>...</td>\n",
       "      <td>-14.34</td>\n",
       "      <td>0.02</td>\n",
       "      <td>-15.69</td>\n",
       "      <td>0.02</td>\n",
       "      <td>-12.78</td>\n",
       "      <td>0.03</td>\n",
       "      <td>1.20</td>\n",
       "      <td>0.00</td>\n",
       "      <td>-2.61</td>\n",
       "      <td>0.00</td>\n",
       "    </tr>\n",
       "  </tbody>\n",
       "</table>\n",
       "<p>2844900 rows × 21 columns</p>\n",
       "</div>"
      ],
      "text/plain": [
       "            series_id  step                 timestamp  anglez  enmo  awake  \\\n",
       "0        08db4255286f     0 2018-11-05 14:00:00+00:00  -30.85  0.04      1   \n",
       "1        08db4255286f     1 2018-11-05 14:00:05+00:00  -34.18  0.04      1   \n",
       "2        08db4255286f     2 2018-11-05 14:00:10+00:00  -33.88  0.05      1   \n",
       "3        08db4255286f     3 2018-11-05 14:00:15+00:00  -34.28  0.07      1   \n",
       "4        08db4255286f     4 2018-11-05 14:00:20+00:00  -34.39  0.08      1   \n",
       "...               ...   ...                       ...     ...   ...    ...   \n",
       "2844895  29c75c018220  5463 2018-05-01 13:14:35+00:00  -12.78  0.02      1   \n",
       "2844896  29c75c018220  5464 2018-05-01 13:14:40+00:00  -13.14  0.02      1   \n",
       "2844897  29c75c018220  5465 2018-05-01 13:14:45+00:00  -14.72  0.02      1   \n",
       "2844898  29c75c018220  5466 2018-05-01 13:14:50+00:00  -15.69  0.02      1   \n",
       "2844899  29c75c018220  5467 2018-05-01 13:14:55+00:00  -15.48  0.03      1   \n",
       "\n",
       "         hour  dayofweek  anglez_times_enmo  anglez_diff  ...  anglez_mean  \\\n",
       "0          14          0               1.38         0.33  ...       -33.75   \n",
       "1          14          0               1.51         0.33  ...       -33.75   \n",
       "2          14          0               1.64         0.33  ...       -33.75   \n",
       "3          14          0               2.33         0.33  ...       -33.75   \n",
       "4          14          0               2.64         0.33  ...       -33.69   \n",
       "...       ...        ...                ...          ...  ...          ...   \n",
       "2844895    13          1               0.23        -2.80  ...       -13.84   \n",
       "2844896    13          1               0.27        -3.27  ...       -14.28   \n",
       "2844897    13          1               0.36        -4.70  ...       -14.34   \n",
       "2844898    13          1               0.30        -2.61  ...       -14.34   \n",
       "2844899    13          1               0.40        -0.38  ...       -14.34   \n",
       "\n",
       "         enmo_mean  anglez_min  enmo_min  anglez_max  enmo_max  anglez_std  \\\n",
       "0             0.06      -34.93      0.04      -30.85      0.08        1.46   \n",
       "1             0.06      -34.93      0.04      -30.85      0.08        1.46   \n",
       "2             0.06      -34.93      0.04      -30.85      0.08        1.46   \n",
       "3             0.06      -34.93      0.04      -30.85      0.08        1.46   \n",
       "4             0.07      -34.93      0.04      -30.51      0.11        1.60   \n",
       "...            ...         ...       ...         ...       ...         ...   \n",
       "2844895       0.02      -15.10      0.02      -12.78      0.03        0.97   \n",
       "2844896       0.02      -15.69      0.02      -12.78      0.03        1.13   \n",
       "2844897       0.02      -15.69      0.02      -12.78      0.03        1.20   \n",
       "2844898       0.02      -15.69      0.02      -12.78      0.03        1.20   \n",
       "2844899       0.02      -15.69      0.02      -12.78      0.03        1.20   \n",
       "\n",
       "         enmo_std  anglez_diff_rolling  enmo_diff_rolling  \n",
       "0            0.01                 0.33               0.06  \n",
       "1            0.01                 0.33               0.06  \n",
       "2            0.01                 0.33               0.06  \n",
       "3            0.01                 0.33               0.06  \n",
       "4            0.02                 0.33               0.06  \n",
       "...           ...                  ...                ...  \n",
       "2844895      0.00                -1.66              -0.00  \n",
       "2844896      0.00                -2.63              -0.00  \n",
       "2844897      0.00                -2.61               0.00  \n",
       "2844898      0.00                -2.61               0.00  \n",
       "2844899      0.00                -2.61               0.00  \n",
       "\n",
       "[2844900 rows x 21 columns]"
      ]
     },
     "execution_count": 57,
     "metadata": {},
     "output_type": "execute_result"
    }
   ],
   "source": [
    "print(train_ids[30:32])\n",
    "print(train_all.columns)\n",
    "print(train_ids)\n",
    "\n",
    "train_all.loc[train_all[\"series_id\"] == \"05e1944c3818\"]\n",
    "\n",
    "\n",
    "train_all"
   ]
  },
  {
   "cell_type": "code",
   "execution_count": 58,
   "metadata": {},
   "outputs": [
    {
     "name": "stdout",
     "output_type": "stream",
     "text": [
      "fetch ['c6788e579967'] \n",
      "\n"
     ]
    },
    {
     "name": "stderr",
     "output_type": "stream",
     "text": [
      "/var/folders/hb/_y1g8w4d6j910_w7_rr3vx700000gn/T/ipykernel_26663/2988593522.py:9: FutureWarning: The default of observed=False is deprecated and will be changed to True in a future version of pandas. Pass observed=False to retain current behavior or observed=True to adopt the future default and silence this warning.\n",
      "  df[\"anglez_diff\"] = df.groupby('series_id')['anglez'].diff(periods=periods).fillna(method=\"bfill\")\n",
      "/var/folders/hb/_y1g8w4d6j910_w7_rr3vx700000gn/T/ipykernel_26663/2988593522.py:9: FutureWarning: Series.fillna with 'method' is deprecated and will raise in a future version. Use obj.ffill() or obj.bfill() instead.\n",
      "  df[\"anglez_diff\"] = df.groupby('series_id')['anglez'].diff(periods=periods).fillna(method=\"bfill\")\n",
      "/var/folders/hb/_y1g8w4d6j910_w7_rr3vx700000gn/T/ipykernel_26663/2988593522.py:10: FutureWarning: The default of observed=False is deprecated and will be changed to True in a future version of pandas. Pass observed=False to retain current behavior or observed=True to adopt the future default and silence this warning.\n",
      "  df[\"enmo_diff\"]   = df.groupby('series_id')['enmo'].diff(periods=periods).fillna(method=\"bfill\")\n",
      "/var/folders/hb/_y1g8w4d6j910_w7_rr3vx700000gn/T/ipykernel_26663/2988593522.py:10: FutureWarning: Series.fillna with 'method' is deprecated and will raise in a future version. Use obj.ffill() or obj.bfill() instead.\n",
      "  df[\"enmo_diff\"]   = df.groupby('series_id')['enmo'].diff(periods=periods).fillna(method=\"bfill\")\n",
      "/var/folders/hb/_y1g8w4d6j910_w7_rr3vx700000gn/T/ipykernel_26663/2988593522.py:12: FutureWarning: Series.fillna with 'method' is deprecated and will raise in a future version. Use obj.ffill() or obj.bfill() instead.\n",
      "  df[\"anglez_mean\"] = df[\"anglez\"].rolling(periods,center=True).mean().fillna(method=\"bfill\").fillna(method=\"ffill\").astype('float32')\n",
      "/var/folders/hb/_y1g8w4d6j910_w7_rr3vx700000gn/T/ipykernel_26663/2988593522.py:13: FutureWarning: Series.fillna with 'method' is deprecated and will raise in a future version. Use obj.ffill() or obj.bfill() instead.\n",
      "  df[\"enmo_mean\"]   = df[\"enmo\"].rolling(periods,center=True).mean().fillna(method=\"bfill\").fillna(method=\"ffill\").astype('float32')\n",
      "/var/folders/hb/_y1g8w4d6j910_w7_rr3vx700000gn/T/ipykernel_26663/2988593522.py:15: FutureWarning: Series.fillna with 'method' is deprecated and will raise in a future version. Use obj.ffill() or obj.bfill() instead.\n",
      "  df[\"anglez_min\"] = df[\"anglez\"].rolling(periods,center=True).min().fillna(method=\"bfill\").fillna(method=\"ffill\").astype('float32')\n",
      "/var/folders/hb/_y1g8w4d6j910_w7_rr3vx700000gn/T/ipykernel_26663/2988593522.py:16: FutureWarning: Series.fillna with 'method' is deprecated and will raise in a future version. Use obj.ffill() or obj.bfill() instead.\n",
      "  df[\"enmo_min\"]   = df[\"enmo\"].rolling(periods,center=True).min().fillna(method=\"bfill\").fillna(method=\"ffill\").astype('float32')\n",
      "/var/folders/hb/_y1g8w4d6j910_w7_rr3vx700000gn/T/ipykernel_26663/2988593522.py:18: FutureWarning: Series.fillna with 'method' is deprecated and will raise in a future version. Use obj.ffill() or obj.bfill() instead.\n",
      "  df[\"anglez_max\"] = df[\"anglez\"].rolling(periods,center=True).max().fillna(method=\"bfill\").fillna(method=\"ffill\").astype('float32')\n",
      "/var/folders/hb/_y1g8w4d6j910_w7_rr3vx700000gn/T/ipykernel_26663/2988593522.py:19: FutureWarning: Series.fillna with 'method' is deprecated and will raise in a future version. Use obj.ffill() or obj.bfill() instead.\n",
      "  df[\"enmo_max\"]   = df[\"enmo\"].rolling(periods,center=True).max().fillna(method=\"bfill\").fillna(method=\"ffill\").astype('float32')\n",
      "/var/folders/hb/_y1g8w4d6j910_w7_rr3vx700000gn/T/ipykernel_26663/2988593522.py:21: FutureWarning: Series.fillna with 'method' is deprecated and will raise in a future version. Use obj.ffill() or obj.bfill() instead.\n",
      "  df[\"anglez_std\"] = df[\"anglez\"].rolling(periods,center=True).std().fillna(method=\"bfill\").fillna(method=\"ffill\").astype('float32')\n",
      "/var/folders/hb/_y1g8w4d6j910_w7_rr3vx700000gn/T/ipykernel_26663/2988593522.py:22: FutureWarning: Series.fillna with 'method' is deprecated and will raise in a future version. Use obj.ffill() or obj.bfill() instead.\n",
      "  df[\"enmo_std\"]   = df[\"enmo\"].rolling(periods,center=True).std().fillna(method=\"bfill\").fillna(method=\"ffill\").astype('float32')\n",
      "/var/folders/hb/_y1g8w4d6j910_w7_rr3vx700000gn/T/ipykernel_26663/2988593522.py:24: FutureWarning: Series.fillna with 'method' is deprecated and will raise in a future version. Use obj.ffill() or obj.bfill() instead.\n",
      "  df[\"anglez_diff_rolling\"] = df[\"anglez_diff\"].rolling(periods,center=True).mean().fillna(method=\"bfill\").fillna(method=\"ffill\").astype('float32')\n",
      "/var/folders/hb/_y1g8w4d6j910_w7_rr3vx700000gn/T/ipykernel_26663/2988593522.py:25: FutureWarning: Series.fillna with 'method' is deprecated and will raise in a future version. Use obj.ffill() or obj.bfill() instead.\n",
      "  df[\"enmo_diff_rolling\"]   = df[\"enmo_diff\"].rolling(periods,center=True).mean().fillna(method=\"bfill\").fillna(method=\"ffill\").astype('float32')\n",
      "/var/folders/hb/_y1g8w4d6j910_w7_rr3vx700000gn/T/ipykernel_26663/2988593522.py:9: FutureWarning: The default of observed=False is deprecated and will be changed to True in a future version of pandas. Pass observed=False to retain current behavior or observed=True to adopt the future default and silence this warning.\n",
      "  df[\"anglez_diff\"] = df.groupby('series_id')['anglez'].diff(periods=periods).fillna(method=\"bfill\")\n",
      "/var/folders/hb/_y1g8w4d6j910_w7_rr3vx700000gn/T/ipykernel_26663/2988593522.py:9: FutureWarning: Series.fillna with 'method' is deprecated and will raise in a future version. Use obj.ffill() or obj.bfill() instead.\n",
      "  df[\"anglez_diff\"] = df.groupby('series_id')['anglez'].diff(periods=periods).fillna(method=\"bfill\")\n",
      "/var/folders/hb/_y1g8w4d6j910_w7_rr3vx700000gn/T/ipykernel_26663/2988593522.py:10: FutureWarning: The default of observed=False is deprecated and will be changed to True in a future version of pandas. Pass observed=False to retain current behavior or observed=True to adopt the future default and silence this warning.\n",
      "  df[\"enmo_diff\"]   = df.groupby('series_id')['enmo'].diff(periods=periods).fillna(method=\"bfill\")\n",
      "/var/folders/hb/_y1g8w4d6j910_w7_rr3vx700000gn/T/ipykernel_26663/2988593522.py:10: FutureWarning: Series.fillna with 'method' is deprecated and will raise in a future version. Use obj.ffill() or obj.bfill() instead.\n",
      "  df[\"enmo_diff\"]   = df.groupby('series_id')['enmo'].diff(periods=periods).fillna(method=\"bfill\")\n",
      "/var/folders/hb/_y1g8w4d6j910_w7_rr3vx700000gn/T/ipykernel_26663/2988593522.py:12: FutureWarning: Series.fillna with 'method' is deprecated and will raise in a future version. Use obj.ffill() or obj.bfill() instead.\n",
      "  df[\"anglez_mean\"] = df[\"anglez\"].rolling(periods,center=True).mean().fillna(method=\"bfill\").fillna(method=\"ffill\").astype('float32')\n",
      "/var/folders/hb/_y1g8w4d6j910_w7_rr3vx700000gn/T/ipykernel_26663/2988593522.py:13: FutureWarning: Series.fillna with 'method' is deprecated and will raise in a future version. Use obj.ffill() or obj.bfill() instead.\n",
      "  df[\"enmo_mean\"]   = df[\"enmo\"].rolling(periods,center=True).mean().fillna(method=\"bfill\").fillna(method=\"ffill\").astype('float32')\n",
      "/var/folders/hb/_y1g8w4d6j910_w7_rr3vx700000gn/T/ipykernel_26663/2988593522.py:15: FutureWarning: Series.fillna with 'method' is deprecated and will raise in a future version. Use obj.ffill() or obj.bfill() instead.\n",
      "  df[\"anglez_min\"] = df[\"anglez\"].rolling(periods,center=True).min().fillna(method=\"bfill\").fillna(method=\"ffill\").astype('float32')\n",
      "/var/folders/hb/_y1g8w4d6j910_w7_rr3vx700000gn/T/ipykernel_26663/2988593522.py:16: FutureWarning: Series.fillna with 'method' is deprecated and will raise in a future version. Use obj.ffill() or obj.bfill() instead.\n",
      "  df[\"enmo_min\"]   = df[\"enmo\"].rolling(periods,center=True).min().fillna(method=\"bfill\").fillna(method=\"ffill\").astype('float32')\n",
      "/var/folders/hb/_y1g8w4d6j910_w7_rr3vx700000gn/T/ipykernel_26663/2988593522.py:18: FutureWarning: Series.fillna with 'method' is deprecated and will raise in a future version. Use obj.ffill() or obj.bfill() instead.\n",
      "  df[\"anglez_max\"] = df[\"anglez\"].rolling(periods,center=True).max().fillna(method=\"bfill\").fillna(method=\"ffill\").astype('float32')\n",
      "/var/folders/hb/_y1g8w4d6j910_w7_rr3vx700000gn/T/ipykernel_26663/2988593522.py:19: FutureWarning: Series.fillna with 'method' is deprecated and will raise in a future version. Use obj.ffill() or obj.bfill() instead.\n",
      "  df[\"enmo_max\"]   = df[\"enmo\"].rolling(periods,center=True).max().fillna(method=\"bfill\").fillna(method=\"ffill\").astype('float32')\n",
      "/var/folders/hb/_y1g8w4d6j910_w7_rr3vx700000gn/T/ipykernel_26663/2988593522.py:21: FutureWarning: Series.fillna with 'method' is deprecated and will raise in a future version. Use obj.ffill() or obj.bfill() instead.\n",
      "  df[\"anglez_std\"] = df[\"anglez\"].rolling(periods,center=True).std().fillna(method=\"bfill\").fillna(method=\"ffill\").astype('float32')\n",
      "/var/folders/hb/_y1g8w4d6j910_w7_rr3vx700000gn/T/ipykernel_26663/2988593522.py:22: FutureWarning: Series.fillna with 'method' is deprecated and will raise in a future version. Use obj.ffill() or obj.bfill() instead.\n",
      "  df[\"enmo_std\"]   = df[\"enmo\"].rolling(periods,center=True).std().fillna(method=\"bfill\").fillna(method=\"ffill\").astype('float32')\n",
      "/var/folders/hb/_y1g8w4d6j910_w7_rr3vx700000gn/T/ipykernel_26663/2988593522.py:24: FutureWarning: Series.fillna with 'method' is deprecated and will raise in a future version. Use obj.ffill() or obj.bfill() instead.\n",
      "  df[\"anglez_diff_rolling\"] = df[\"anglez_diff\"].rolling(periods,center=True).mean().fillna(method=\"bfill\").fillna(method=\"ffill\").astype('float32')\n",
      "/var/folders/hb/_y1g8w4d6j910_w7_rr3vx700000gn/T/ipykernel_26663/2988593522.py:25: FutureWarning: Series.fillna with 'method' is deprecated and will raise in a future version. Use obj.ffill() or obj.bfill() instead.\n",
      "  df[\"enmo_diff_rolling\"]   = df[\"enmo_diff\"].rolling(periods,center=True).mean().fillna(method=\"bfill\").fillna(method=\"ffill\").astype('float32')\n"
     ]
    },
    {
     "name": "stdout",
     "output_type": "stream",
     "text": [
      "accuracy: 0.95\n"
     ]
    },
    {
     "data": {
      "image/png": "[encoded data removed]",
      "text/plain": [
       "<Figure size 2000x300 with 1 Axes>"
      ]
     },
     "metadata": {},
     "output_type": "display_data"
    },
    {
     "name": "stdout",
     "output_type": "stream",
     "text": [
      "fetch ['c68260cc9e8f'] \n",
      "\n"
     ]
    },
    {
     "name": "stderr",
     "output_type": "stream",
     "text": [
      "/var/folders/hb/_y1g8w4d6j910_w7_rr3vx700000gn/T/ipykernel_26663/2988593522.py:9: FutureWarning: The default of observed=False is deprecated and will be changed to True in a future version of pandas. Pass observed=False to retain current behavior or observed=True to adopt the future default and silence this warning.\n",
      "  df[\"anglez_diff\"] = df.groupby('series_id')['anglez'].diff(periods=periods).fillna(method=\"bfill\")\n",
      "/var/folders/hb/_y1g8w4d6j910_w7_rr3vx700000gn/T/ipykernel_26663/2988593522.py:9: FutureWarning: Series.fillna with 'method' is deprecated and will raise in a future version. Use obj.ffill() or obj.bfill() instead.\n",
      "  df[\"anglez_diff\"] = df.groupby('series_id')['anglez'].diff(periods=periods).fillna(method=\"bfill\")\n",
      "/var/folders/hb/_y1g8w4d6j910_w7_rr3vx700000gn/T/ipykernel_26663/2988593522.py:10: FutureWarning: The default of observed=False is deprecated and will be changed to True in a future version of pandas. Pass observed=False to retain current behavior or observed=True to adopt the future default and silence this warning.\n",
      "  df[\"enmo_diff\"]   = df.groupby('series_id')['enmo'].diff(periods=periods).fillna(method=\"bfill\")\n",
      "/var/folders/hb/_y1g8w4d6j910_w7_rr3vx700000gn/T/ipykernel_26663/2988593522.py:10: FutureWarning: Series.fillna with 'method' is deprecated and will raise in a future version. Use obj.ffill() or obj.bfill() instead.\n",
      "  df[\"enmo_diff\"]   = df.groupby('series_id')['enmo'].diff(periods=periods).fillna(method=\"bfill\")\n",
      "/var/folders/hb/_y1g8w4d6j910_w7_rr3vx700000gn/T/ipykernel_26663/2988593522.py:12: FutureWarning: Series.fillna with 'method' is deprecated and will raise in a future version. Use obj.ffill() or obj.bfill() instead.\n",
      "  df[\"anglez_mean\"] = df[\"anglez\"].rolling(periods,center=True).mean().fillna(method=\"bfill\").fillna(method=\"ffill\").astype('float32')\n",
      "/var/folders/hb/_y1g8w4d6j910_w7_rr3vx700000gn/T/ipykernel_26663/2988593522.py:13: FutureWarning: Series.fillna with 'method' is deprecated and will raise in a future version. Use obj.ffill() or obj.bfill() instead.\n",
      "  df[\"enmo_mean\"]   = df[\"enmo\"].rolling(periods,center=True).mean().fillna(method=\"bfill\").fillna(method=\"ffill\").astype('float32')\n",
      "/var/folders/hb/_y1g8w4d6j910_w7_rr3vx700000gn/T/ipykernel_26663/2988593522.py:15: FutureWarning: Series.fillna with 'method' is deprecated and will raise in a future version. Use obj.ffill() or obj.bfill() instead.\n",
      "  df[\"anglez_min\"] = df[\"anglez\"].rolling(periods,center=True).min().fillna(method=\"bfill\").fillna(method=\"ffill\").astype('float32')\n",
      "/var/folders/hb/_y1g8w4d6j910_w7_rr3vx700000gn/T/ipykernel_26663/2988593522.py:16: FutureWarning: Series.fillna with 'method' is deprecated and will raise in a future version. Use obj.ffill() or obj.bfill() instead.\n",
      "  df[\"enmo_min\"]   = df[\"enmo\"].rolling(periods,center=True).min().fillna(method=\"bfill\").fillna(method=\"ffill\").astype('float32')\n",
      "/var/folders/hb/_y1g8w4d6j910_w7_rr3vx700000gn/T/ipykernel_26663/2988593522.py:18: FutureWarning: Series.fillna with 'method' is deprecated and will raise in a future version. Use obj.ffill() or obj.bfill() instead.\n",
      "  df[\"anglez_max\"] = df[\"anglez\"].rolling(periods,center=True).max().fillna(method=\"bfill\").fillna(method=\"ffill\").astype('float32')\n",
      "/var/folders/hb/_y1g8w4d6j910_w7_rr3vx700000gn/T/ipykernel_26663/2988593522.py:19: FutureWarning: Series.fillna with 'method' is deprecated and will raise in a future version. Use obj.ffill() or obj.bfill() instead.\n",
      "  df[\"enmo_max\"]   = df[\"enmo\"].rolling(periods,center=True).max().fillna(method=\"bfill\").fillna(method=\"ffill\").astype('float32')\n",
      "/var/folders/hb/_y1g8w4d6j910_w7_rr3vx700000gn/T/ipykernel_26663/2988593522.py:21: FutureWarning: Series.fillna with 'method' is deprecated and will raise in a future version. Use obj.ffill() or obj.bfill() instead.\n",
      "  df[\"anglez_std\"] = df[\"anglez\"].rolling(periods,center=True).std().fillna(method=\"bfill\").fillna(method=\"ffill\").astype('float32')\n",
      "/var/folders/hb/_y1g8w4d6j910_w7_rr3vx700000gn/T/ipykernel_26663/2988593522.py:22: FutureWarning: Series.fillna with 'method' is deprecated and will raise in a future version. Use obj.ffill() or obj.bfill() instead.\n",
      "  df[\"enmo_std\"]   = df[\"enmo\"].rolling(periods,center=True).std().fillna(method=\"bfill\").fillna(method=\"ffill\").astype('float32')\n",
      "/var/folders/hb/_y1g8w4d6j910_w7_rr3vx700000gn/T/ipykernel_26663/2988593522.py:24: FutureWarning: Series.fillna with 'method' is deprecated and will raise in a future version. Use obj.ffill() or obj.bfill() instead.\n",
      "  df[\"anglez_diff_rolling\"] = df[\"anglez_diff\"].rolling(periods,center=True).mean().fillna(method=\"bfill\").fillna(method=\"ffill\").astype('float32')\n",
      "/var/folders/hb/_y1g8w4d6j910_w7_rr3vx700000gn/T/ipykernel_26663/2988593522.py:25: FutureWarning: Series.fillna with 'method' is deprecated and will raise in a future version. Use obj.ffill() or obj.bfill() instead.\n",
      "  df[\"enmo_diff_rolling\"]   = df[\"enmo_diff\"].rolling(periods,center=True).mean().fillna(method=\"bfill\").fillna(method=\"ffill\").astype('float32')\n",
      "/var/folders/hb/_y1g8w4d6j910_w7_rr3vx700000gn/T/ipykernel_26663/2988593522.py:9: FutureWarning: The default of observed=False is deprecated and will be changed to True in a future version of pandas. Pass observed=False to retain current behavior or observed=True to adopt the future default and silence this warning.\n",
      "  df[\"anglez_diff\"] = df.groupby('series_id')['anglez'].diff(periods=periods).fillna(method=\"bfill\")\n",
      "/var/folders/hb/_y1g8w4d6j910_w7_rr3vx700000gn/T/ipykernel_26663/2988593522.py:9: FutureWarning: Series.fillna with 'method' is deprecated and will raise in a future version. Use obj.ffill() or obj.bfill() instead.\n",
      "  df[\"anglez_diff\"] = df.groupby('series_id')['anglez'].diff(periods=periods).fillna(method=\"bfill\")\n",
      "/var/folders/hb/_y1g8w4d6j910_w7_rr3vx700000gn/T/ipykernel_26663/2988593522.py:10: FutureWarning: The default of observed=False is deprecated and will be changed to True in a future version of pandas. Pass observed=False to retain current behavior or observed=True to adopt the future default and silence this warning.\n",
      "  df[\"enmo_diff\"]   = df.groupby('series_id')['enmo'].diff(periods=periods).fillna(method=\"bfill\")\n",
      "/var/folders/hb/_y1g8w4d6j910_w7_rr3vx700000gn/T/ipykernel_26663/2988593522.py:10: FutureWarning: Series.fillna with 'method' is deprecated and will raise in a future version. Use obj.ffill() or obj.bfill() instead.\n",
      "  df[\"enmo_diff\"]   = df.groupby('series_id')['enmo'].diff(periods=periods).fillna(method=\"bfill\")\n",
      "/var/folders/hb/_y1g8w4d6j910_w7_rr3vx700000gn/T/ipykernel_26663/2988593522.py:12: FutureWarning: Series.fillna with 'method' is deprecated and will raise in a future version. Use obj.ffill() or obj.bfill() instead.\n",
      "  df[\"anglez_mean\"] = df[\"anglez\"].rolling(periods,center=True).mean().fillna(method=\"bfill\").fillna(method=\"ffill\").astype('float32')\n",
      "/var/folders/hb/_y1g8w4d6j910_w7_rr3vx700000gn/T/ipykernel_26663/2988593522.py:13: FutureWarning: Series.fillna with 'method' is deprecated and will raise in a future version. Use obj.ffill() or obj.bfill() instead.\n",
      "  df[\"enmo_mean\"]   = df[\"enmo\"].rolling(periods,center=True).mean().fillna(method=\"bfill\").fillna(method=\"ffill\").astype('float32')\n",
      "/var/folders/hb/_y1g8w4d6j910_w7_rr3vx700000gn/T/ipykernel_26663/2988593522.py:15: FutureWarning: Series.fillna with 'method' is deprecated and will raise in a future version. Use obj.ffill() or obj.bfill() instead.\n",
      "  df[\"anglez_min\"] = df[\"anglez\"].rolling(periods,center=True).min().fillna(method=\"bfill\").fillna(method=\"ffill\").astype('float32')\n",
      "/var/folders/hb/_y1g8w4d6j910_w7_rr3vx700000gn/T/ipykernel_26663/2988593522.py:16: FutureWarning: Series.fillna with 'method' is deprecated and will raise in a future version. Use obj.ffill() or obj.bfill() instead.\n",
      "  df[\"enmo_min\"]   = df[\"enmo\"].rolling(periods,center=True).min().fillna(method=\"bfill\").fillna(method=\"ffill\").astype('float32')\n",
      "/var/folders/hb/_y1g8w4d6j910_w7_rr3vx700000gn/T/ipykernel_26663/2988593522.py:18: FutureWarning: Series.fillna with 'method' is deprecated and will raise in a future version. Use obj.ffill() or obj.bfill() instead.\n",
      "  df[\"anglez_max\"] = df[\"anglez\"].rolling(periods,center=True).max().fillna(method=\"bfill\").fillna(method=\"ffill\").astype('float32')\n",
      "/var/folders/hb/_y1g8w4d6j910_w7_rr3vx700000gn/T/ipykernel_26663/2988593522.py:19: FutureWarning: Series.fillna with 'method' is deprecated and will raise in a future version. Use obj.ffill() or obj.bfill() instead.\n",
      "  df[\"enmo_max\"]   = df[\"enmo\"].rolling(periods,center=True).max().fillna(method=\"bfill\").fillna(method=\"ffill\").astype('float32')\n",
      "/var/folders/hb/_y1g8w4d6j910_w7_rr3vx700000gn/T/ipykernel_26663/2988593522.py:21: FutureWarning: Series.fillna with 'method' is deprecated and will raise in a future version. Use obj.ffill() or obj.bfill() instead.\n",
      "  df[\"anglez_std\"] = df[\"anglez\"].rolling(periods,center=True).std().fillna(method=\"bfill\").fillna(method=\"ffill\").astype('float32')\n",
      "/var/folders/hb/_y1g8w4d6j910_w7_rr3vx700000gn/T/ipykernel_26663/2988593522.py:22: FutureWarning: Series.fillna with 'method' is deprecated and will raise in a future version. Use obj.ffill() or obj.bfill() instead.\n",
      "  df[\"enmo_std\"]   = df[\"enmo\"].rolling(periods,center=True).std().fillna(method=\"bfill\").fillna(method=\"ffill\").astype('float32')\n",
      "/var/folders/hb/_y1g8w4d6j910_w7_rr3vx700000gn/T/ipykernel_26663/2988593522.py:24: FutureWarning: Series.fillna with 'method' is deprecated and will raise in a future version. Use obj.ffill() or obj.bfill() instead.\n",
      "  df[\"anglez_diff_rolling\"] = df[\"anglez_diff\"].rolling(periods,center=True).mean().fillna(method=\"bfill\").fillna(method=\"ffill\").astype('float32')\n",
      "/var/folders/hb/_y1g8w4d6j910_w7_rr3vx700000gn/T/ipykernel_26663/2988593522.py:25: FutureWarning: Series.fillna with 'method' is deprecated and will raise in a future version. Use obj.ffill() or obj.bfill() instead.\n",
      "  df[\"enmo_diff_rolling\"]   = df[\"enmo_diff\"].rolling(periods,center=True).mean().fillna(method=\"bfill\").fillna(method=\"ffill\").astype('float32')\n"
     ]
    },
    {
     "name": "stdout",
     "output_type": "stream",
     "text": [
      "accuracy: 0.93\n"
     ]
    },
    {
     "data": {
      "image/png": "[encoded data removed]",
      "text/plain": [
       "<Figure size 2000x300 with 1 Axes>"
      ]
     },
     "metadata": {},
     "output_type": "display_data"
    }
   ],
   "source": [
    "def predict_train_set(predict_series_ids):\n",
    "    for series_id in predict_series_ids:\n",
    "        pred_df = get_multi_light_series([series_id])\n",
    "        pred_data = data_transform(pred_df)\n",
    "        score, pred_value = predict(pred_data.to(def_device))\n",
    "        act_y = tensor(pred_df[\"awake\"].to_numpy())\n",
    "        print(f\"accuracy: {accuracy(score, act_y):.2f}\")\n",
    "        plot_predicate(pred_df[\"awake\"], pred_value)\n",
    "\n",
    "\n",
    "predict_train_set(train_ids[30:32])"
   ]
  },
  {
   "cell_type": "code",
   "execution_count": 59,
   "metadata": {},
   "outputs": [
    {
     "data": {
      "text/plain": [
       "3383"
      ]
     },
     "execution_count": 59,
     "metadata": {},
     "output_type": "execute_result"
    }
   ],
   "source": [
    "del train_all, X_train, y_train\n",
    "gc.collect()"
   ]
  },
  {
   "cell_type": "code",
   "execution_count": 60,
   "metadata": {},
   "outputs": [],
   "source": [
    "current_directory = os.getcwd()\n",
    "\n",
    "parquet_file_path = os.path.join(\n",
    "    current_directory, \"input\", \"data\", \"test_series.parquet\"\n",
    ")\n",
    "\n",
    "\n",
    "def get_test_series_ids():\n",
    "    return pd.read_parquet(parquet_file_path, columns=[\"series_id\"])[\n",
    "        \"series_id\"\n",
    "    ].unique()\n",
    "\n",
    "\n",
    "def get_test_series(series_id):\n",
    "    return pd.read_parquet(\n",
    "        parquet_file_path,\n",
    "        columns=[\"series_id\", \"timestamp\", \"anglez\", \"enmo\", \"step\"],\n",
    "        filters=[(\"series_id\", \"=\", series_id)],\n",
    "    )\n",
    "\n",
    "\n",
    "def get_event(df):\n",
    "    lstCV = zip(df.series_id, df.smooth)\n",
    "    lstPOI = []\n",
    "    for (c, v), g in groupby(\n",
    "        lstCV, lambda cv: (cv[0], cv[1] != 0 and not pd.isnull(cv[1]))\n",
    "    ):\n",
    "        llg = sum(1 for item in g)\n",
    "        if v is False:\n",
    "            lstPOI.extend([0] * llg)\n",
    "        else:\n",
    "            lstPOI.extend([\"onset\"] + (llg - 2) * [0] + [\"wakeup\"] if llg > 1 else [0])\n",
    "    return lstPOI"
   ]
  },
  {
   "cell_type": "code",
   "execution_count": 61,
   "metadata": {},
   "outputs": [],
   "source": [
    "def multi_series_prediction(test_series_ids):\n",
    "    for series_id in test_series_ids:\n",
    "        single_series = get_test_series(series_id)\n",
    "        X_test = data_transform(single_series)\n",
    "        score, _ = predict(X_test.to(def_device))\n",
    "\n",
    "        single_series[\"not_awake\"] = score[:, 0]\n",
    "        single_series[\"awake\"] = score[:, 1]\n",
    "\n",
    "        smoothing_length = 2 * 230\n",
    "        single_series[\"score\"] = (\n",
    "            single_series[\"awake\"]\n",
    "            .rolling(smoothing_length, center=True)\n",
    "            .mean()\n",
    "            .fillna(method=\"bfill\")\n",
    "            .fillna(method=\"ffill\")\n",
    "        )\n",
    "        single_series[\"smooth\"] = (\n",
    "            single_series[\"not_awake\"]\n",
    "            .rolling(smoothing_length, center=True)\n",
    "            .mean()\n",
    "            .fillna(method=\"bfill\")\n",
    "            .fillna(method=\"ffill\")\n",
    "        )\n",
    "        single_series[\"smooth\"] = single_series[\"smooth\"].round()\n",
    "        single_series[\"event\"] = get_event(single_series)\n",
    "\n",
    "        df = (\n",
    "            single_series.loc[single_series[\"event\"] != 0][\n",
    "                [\"series_id\", \"step\", \"event\", \"score\"]\n",
    "            ]\n",
    "            .copy()\n",
    "            .reset_index(drop=True)\n",
    "        )\n",
    "        df.to_csv(f\"{series_id}.csv\", index=False)\n",
    "        del df, single_series\n",
    "        gc.collect()\n",
    "    return\n",
    "\n",
    "\n",
    "def combine_predictions(test_series):\n",
    "    sub = pd.read_csv(f\"{test_series[0]}.csv\")\n",
    "    for series in test_series[1:]:\n",
    "        temp = pd.read_csv(f\"{series}.csv\")\n",
    "        sub = pd.concat([sub, temp], ignore_index=True)\n",
    "        del temp\n",
    "        gc.collect()\n",
    "    sub = sub.copy().reset_index(drop=True).reset_index(names=\"row_id\")\n",
    "    sub.to_csv(\"submission.csv\", index=False)\n",
    "    return sub"
   ]
  },
  {
   "cell_type": "code",
   "execution_count": 62,
   "metadata": {},
   "outputs": [
    {
     "data": {
      "text/plain": [
       "array(['038441c925bb', '03d92c9f6f8a', '0402a003dae9'], dtype=object)"
      ]
     },
     "execution_count": 62,
     "metadata": {},
     "output_type": "execute_result"
    }
   ],
   "source": [
    "test_series_ids = get_test_series_ids()\n",
    "test_series_ids"
   ]
  },
  {
   "cell_type": "code",
   "execution_count": 63,
   "metadata": {},
   "outputs": [
    {
     "name": "stderr",
     "output_type": "stream",
     "text": [
      "/var/folders/hb/_y1g8w4d6j910_w7_rr3vx700000gn/T/ipykernel_26663/2988593522.py:9: FutureWarning: Series.fillna with 'method' is deprecated and will raise in a future version. Use obj.ffill() or obj.bfill() instead.\n",
      "  df[\"anglez_diff\"] = df.groupby('series_id')['anglez'].diff(periods=periods).fillna(method=\"bfill\")\n",
      "/var/folders/hb/_y1g8w4d6j910_w7_rr3vx700000gn/T/ipykernel_26663/2988593522.py:10: FutureWarning: Series.fillna with 'method' is deprecated and will raise in a future version. Use obj.ffill() or obj.bfill() instead.\n",
      "  df[\"enmo_diff\"]   = df.groupby('series_id')['enmo'].diff(periods=periods).fillna(method=\"bfill\")\n",
      "/var/folders/hb/_y1g8w4d6j910_w7_rr3vx700000gn/T/ipykernel_26663/2988593522.py:12: FutureWarning: Series.fillna with 'method' is deprecated and will raise in a future version. Use obj.ffill() or obj.bfill() instead.\n",
      "  df[\"anglez_mean\"] = df[\"anglez\"].rolling(periods,center=True).mean().fillna(method=\"bfill\").fillna(method=\"ffill\").astype('float32')\n",
      "/var/folders/hb/_y1g8w4d6j910_w7_rr3vx700000gn/T/ipykernel_26663/2988593522.py:13: FutureWarning: Series.fillna with 'method' is deprecated and will raise in a future version. Use obj.ffill() or obj.bfill() instead.\n",
      "  df[\"enmo_mean\"]   = df[\"enmo\"].rolling(periods,center=True).mean().fillna(method=\"bfill\").fillna(method=\"ffill\").astype('float32')\n",
      "/var/folders/hb/_y1g8w4d6j910_w7_rr3vx700000gn/T/ipykernel_26663/2988593522.py:15: FutureWarning: Series.fillna with 'method' is deprecated and will raise in a future version. Use obj.ffill() or obj.bfill() instead.\n",
      "  df[\"anglez_min\"] = df[\"anglez\"].rolling(periods,center=True).min().fillna(method=\"bfill\").fillna(method=\"ffill\").astype('float32')\n",
      "/var/folders/hb/_y1g8w4d6j910_w7_rr3vx700000gn/T/ipykernel_26663/2988593522.py:16: FutureWarning: Series.fillna with 'method' is deprecated and will raise in a future version. Use obj.ffill() or obj.bfill() instead.\n",
      "  df[\"enmo_min\"]   = df[\"enmo\"].rolling(periods,center=True).min().fillna(method=\"bfill\").fillna(method=\"ffill\").astype('float32')\n",
      "/var/folders/hb/_y1g8w4d6j910_w7_rr3vx700000gn/T/ipykernel_26663/2988593522.py:18: FutureWarning: Series.fillna with 'method' is deprecated and will raise in a future version. Use obj.ffill() or obj.bfill() instead.\n",
      "  df[\"anglez_max\"] = df[\"anglez\"].rolling(periods,center=True).max().fillna(method=\"bfill\").fillna(method=\"ffill\").astype('float32')\n",
      "/var/folders/hb/_y1g8w4d6j910_w7_rr3vx700000gn/T/ipykernel_26663/2988593522.py:19: FutureWarning: Series.fillna with 'method' is deprecated and will raise in a future version. Use obj.ffill() or obj.bfill() instead.\n",
      "  df[\"enmo_max\"]   = df[\"enmo\"].rolling(periods,center=True).max().fillna(method=\"bfill\").fillna(method=\"ffill\").astype('float32')\n",
      "/var/folders/hb/_y1g8w4d6j910_w7_rr3vx700000gn/T/ipykernel_26663/2988593522.py:21: FutureWarning: Series.fillna with 'method' is deprecated and will raise in a future version. Use obj.ffill() or obj.bfill() instead.\n",
      "  df[\"anglez_std\"] = df[\"anglez\"].rolling(periods,center=True).std().fillna(method=\"bfill\").fillna(method=\"ffill\").astype('float32')\n",
      "/var/folders/hb/_y1g8w4d6j910_w7_rr3vx700000gn/T/ipykernel_26663/2988593522.py:22: FutureWarning: Series.fillna with 'method' is deprecated and will raise in a future version. Use obj.ffill() or obj.bfill() instead.\n",
      "  df[\"enmo_std\"]   = df[\"enmo\"].rolling(periods,center=True).std().fillna(method=\"bfill\").fillna(method=\"ffill\").astype('float32')\n",
      "/var/folders/hb/_y1g8w4d6j910_w7_rr3vx700000gn/T/ipykernel_26663/2988593522.py:24: FutureWarning: Series.fillna with 'method' is deprecated and will raise in a future version. Use obj.ffill() or obj.bfill() instead.\n",
      "  df[\"anglez_diff_rolling\"] = df[\"anglez_diff\"].rolling(periods,center=True).mean().fillna(method=\"bfill\").fillna(method=\"ffill\").astype('float32')\n",
      "/var/folders/hb/_y1g8w4d6j910_w7_rr3vx700000gn/T/ipykernel_26663/2988593522.py:25: FutureWarning: Series.fillna with 'method' is deprecated and will raise in a future version. Use obj.ffill() or obj.bfill() instead.\n",
      "  df[\"enmo_diff_rolling\"]   = df[\"enmo_diff\"].rolling(periods,center=True).mean().fillna(method=\"bfill\").fillna(method=\"ffill\").astype('float32')\n",
      "/var/folders/hb/_y1g8w4d6j910_w7_rr3vx700000gn/T/ipykernel_26663/3861063929.py:12: FutureWarning: Series.fillna with 'method' is deprecated and will raise in a future version. Use obj.ffill() or obj.bfill() instead.\n",
      "  single_series[\"score\"] = single_series[\"awake\"].rolling(smoothing_length,center=True).mean().fillna(method=\"bfill\").fillna(method=\"ffill\")\n",
      "/var/folders/hb/_y1g8w4d6j910_w7_rr3vx700000gn/T/ipykernel_26663/3861063929.py:13: FutureWarning: Series.fillna with 'method' is deprecated and will raise in a future version. Use obj.ffill() or obj.bfill() instead.\n",
      "  single_series[\"smooth\"] = single_series[\"not_awake\"].rolling(smoothing_length,center=True).mean().fillna(method=\"bfill\").fillna(method=\"ffill\")\n",
      "/var/folders/hb/_y1g8w4d6j910_w7_rr3vx700000gn/T/ipykernel_26663/2988593522.py:9: FutureWarning: Series.fillna with 'method' is deprecated and will raise in a future version. Use obj.ffill() or obj.bfill() instead.\n",
      "  df[\"anglez_diff\"] = df.groupby('series_id')['anglez'].diff(periods=periods).fillna(method=\"bfill\")\n",
      "/var/folders/hb/_y1g8w4d6j910_w7_rr3vx700000gn/T/ipykernel_26663/2988593522.py:10: FutureWarning: Series.fillna with 'method' is deprecated and will raise in a future version. Use obj.ffill() or obj.bfill() instead.\n",
      "  df[\"enmo_diff\"]   = df.groupby('series_id')['enmo'].diff(periods=periods).fillna(method=\"bfill\")\n",
      "/var/folders/hb/_y1g8w4d6j910_w7_rr3vx700000gn/T/ipykernel_26663/2988593522.py:12: FutureWarning: Series.fillna with 'method' is deprecated and will raise in a future version. Use obj.ffill() or obj.bfill() instead.\n",
      "  df[\"anglez_mean\"] = df[\"anglez\"].rolling(periods,center=True).mean().fillna(method=\"bfill\").fillna(method=\"ffill\").astype('float32')\n",
      "/var/folders/hb/_y1g8w4d6j910_w7_rr3vx700000gn/T/ipykernel_26663/2988593522.py:13: FutureWarning: Series.fillna with 'method' is deprecated and will raise in a future version. Use obj.ffill() or obj.bfill() instead.\n",
      "  df[\"enmo_mean\"]   = df[\"enmo\"].rolling(periods,center=True).mean().fillna(method=\"bfill\").fillna(method=\"ffill\").astype('float32')\n",
      "/var/folders/hb/_y1g8w4d6j910_w7_rr3vx700000gn/T/ipykernel_26663/2988593522.py:15: FutureWarning: Series.fillna with 'method' is deprecated and will raise in a future version. Use obj.ffill() or obj.bfill() instead.\n",
      "  df[\"anglez_min\"] = df[\"anglez\"].rolling(periods,center=True).min().fillna(method=\"bfill\").fillna(method=\"ffill\").astype('float32')\n",
      "/var/folders/hb/_y1g8w4d6j910_w7_rr3vx700000gn/T/ipykernel_26663/2988593522.py:16: FutureWarning: Series.fillna with 'method' is deprecated and will raise in a future version. Use obj.ffill() or obj.bfill() instead.\n",
      "  df[\"enmo_min\"]   = df[\"enmo\"].rolling(periods,center=True).min().fillna(method=\"bfill\").fillna(method=\"ffill\").astype('float32')\n",
      "/var/folders/hb/_y1g8w4d6j910_w7_rr3vx700000gn/T/ipykernel_26663/2988593522.py:18: FutureWarning: Series.fillna with 'method' is deprecated and will raise in a future version. Use obj.ffill() or obj.bfill() instead.\n",
      "  df[\"anglez_max\"] = df[\"anglez\"].rolling(periods,center=True).max().fillna(method=\"bfill\").fillna(method=\"ffill\").astype('float32')\n",
      "/var/folders/hb/_y1g8w4d6j910_w7_rr3vx700000gn/T/ipykernel_26663/2988593522.py:19: FutureWarning: Series.fillna with 'method' is deprecated and will raise in a future version. Use obj.ffill() or obj.bfill() instead.\n",
      "  df[\"enmo_max\"]   = df[\"enmo\"].rolling(periods,center=True).max().fillna(method=\"bfill\").fillna(method=\"ffill\").astype('float32')\n",
      "/var/folders/hb/_y1g8w4d6j910_w7_rr3vx700000gn/T/ipykernel_26663/2988593522.py:21: FutureWarning: Series.fillna with 'method' is deprecated and will raise in a future version. Use obj.ffill() or obj.bfill() instead.\n",
      "  df[\"anglez_std\"] = df[\"anglez\"].rolling(periods,center=True).std().fillna(method=\"bfill\").fillna(method=\"ffill\").astype('float32')\n",
      "/var/folders/hb/_y1g8w4d6j910_w7_rr3vx700000gn/T/ipykernel_26663/2988593522.py:22: FutureWarning: Series.fillna with 'method' is deprecated and will raise in a future version. Use obj.ffill() or obj.bfill() instead.\n",
      "  df[\"enmo_std\"]   = df[\"enmo\"].rolling(periods,center=True).std().fillna(method=\"bfill\").fillna(method=\"ffill\").astype('float32')\n",
      "/var/folders/hb/_y1g8w4d6j910_w7_rr3vx700000gn/T/ipykernel_26663/2988593522.py:24: FutureWarning: Series.fillna with 'method' is deprecated and will raise in a future version. Use obj.ffill() or obj.bfill() instead.\n",
      "  df[\"anglez_diff_rolling\"] = df[\"anglez_diff\"].rolling(periods,center=True).mean().fillna(method=\"bfill\").fillna(method=\"ffill\").astype('float32')\n",
      "/var/folders/hb/_y1g8w4d6j910_w7_rr3vx700000gn/T/ipykernel_26663/2988593522.py:25: FutureWarning: Series.fillna with 'method' is deprecated and will raise in a future version. Use obj.ffill() or obj.bfill() instead.\n",
      "  df[\"enmo_diff_rolling\"]   = df[\"enmo_diff\"].rolling(periods,center=True).mean().fillna(method=\"bfill\").fillna(method=\"ffill\").astype('float32')\n",
      "/var/folders/hb/_y1g8w4d6j910_w7_rr3vx700000gn/T/ipykernel_26663/3861063929.py:12: FutureWarning: Series.fillna with 'method' is deprecated and will raise in a future version. Use obj.ffill() or obj.bfill() instead.\n",
      "  single_series[\"score\"] = single_series[\"awake\"].rolling(smoothing_length,center=True).mean().fillna(method=\"bfill\").fillna(method=\"ffill\")\n",
      "/var/folders/hb/_y1g8w4d6j910_w7_rr3vx700000gn/T/ipykernel_26663/3861063929.py:13: FutureWarning: Series.fillna with 'method' is deprecated and will raise in a future version. Use obj.ffill() or obj.bfill() instead.\n",
      "  single_series[\"smooth\"] = single_series[\"not_awake\"].rolling(smoothing_length,center=True).mean().fillna(method=\"bfill\").fillna(method=\"ffill\")\n",
      "/var/folders/hb/_y1g8w4d6j910_w7_rr3vx700000gn/T/ipykernel_26663/2988593522.py:9: FutureWarning: Series.fillna with 'method' is deprecated and will raise in a future version. Use obj.ffill() or obj.bfill() instead.\n",
      "  df[\"anglez_diff\"] = df.groupby('series_id')['anglez'].diff(periods=periods).fillna(method=\"bfill\")\n",
      "/var/folders/hb/_y1g8w4d6j910_w7_rr3vx700000gn/T/ipykernel_26663/2988593522.py:10: FutureWarning: Series.fillna with 'method' is deprecated and will raise in a future version. Use obj.ffill() or obj.bfill() instead.\n",
      "  df[\"enmo_diff\"]   = df.groupby('series_id')['enmo'].diff(periods=periods).fillna(method=\"bfill\")\n",
      "/var/folders/hb/_y1g8w4d6j910_w7_rr3vx700000gn/T/ipykernel_26663/2988593522.py:12: FutureWarning: Series.fillna with 'method' is deprecated and will raise in a future version. Use obj.ffill() or obj.bfill() instead.\n",
      "  df[\"anglez_mean\"] = df[\"anglez\"].rolling(periods,center=True).mean().fillna(method=\"bfill\").fillna(method=\"ffill\").astype('float32')\n",
      "/var/folders/hb/_y1g8w4d6j910_w7_rr3vx700000gn/T/ipykernel_26663/2988593522.py:13: FutureWarning: Series.fillna with 'method' is deprecated and will raise in a future version. Use obj.ffill() or obj.bfill() instead.\n",
      "  df[\"enmo_mean\"]   = df[\"enmo\"].rolling(periods,center=True).mean().fillna(method=\"bfill\").fillna(method=\"ffill\").astype('float32')\n",
      "/var/folders/hb/_y1g8w4d6j910_w7_rr3vx700000gn/T/ipykernel_26663/2988593522.py:15: FutureWarning: Series.fillna with 'method' is deprecated and will raise in a future version. Use obj.ffill() or obj.bfill() instead.\n",
      "  df[\"anglez_min\"] = df[\"anglez\"].rolling(periods,center=True).min().fillna(method=\"bfill\").fillna(method=\"ffill\").astype('float32')\n",
      "/var/folders/hb/_y1g8w4d6j910_w7_rr3vx700000gn/T/ipykernel_26663/2988593522.py:16: FutureWarning: Series.fillna with 'method' is deprecated and will raise in a future version. Use obj.ffill() or obj.bfill() instead.\n",
      "  df[\"enmo_min\"]   = df[\"enmo\"].rolling(periods,center=True).min().fillna(method=\"bfill\").fillna(method=\"ffill\").astype('float32')\n",
      "/var/folders/hb/_y1g8w4d6j910_w7_rr3vx700000gn/T/ipykernel_26663/2988593522.py:18: FutureWarning: Series.fillna with 'method' is deprecated and will raise in a future version. Use obj.ffill() or obj.bfill() instead.\n",
      "  df[\"anglez_max\"] = df[\"anglez\"].rolling(periods,center=True).max().fillna(method=\"bfill\").fillna(method=\"ffill\").astype('float32')\n",
      "/var/folders/hb/_y1g8w4d6j910_w7_rr3vx700000gn/T/ipykernel_26663/2988593522.py:19: FutureWarning: Series.fillna with 'method' is deprecated and will raise in a future version. Use obj.ffill() or obj.bfill() instead.\n",
      "  df[\"enmo_max\"]   = df[\"enmo\"].rolling(periods,center=True).max().fillna(method=\"bfill\").fillna(method=\"ffill\").astype('float32')\n",
      "/var/folders/hb/_y1g8w4d6j910_w7_rr3vx700000gn/T/ipykernel_26663/2988593522.py:21: FutureWarning: Series.fillna with 'method' is deprecated and will raise in a future version. Use obj.ffill() or obj.bfill() instead.\n",
      "  df[\"anglez_std\"] = df[\"anglez\"].rolling(periods,center=True).std().fillna(method=\"bfill\").fillna(method=\"ffill\").astype('float32')\n",
      "/var/folders/hb/_y1g8w4d6j910_w7_rr3vx700000gn/T/ipykernel_26663/2988593522.py:22: FutureWarning: Series.fillna with 'method' is deprecated and will raise in a future version. Use obj.ffill() or obj.bfill() instead.\n",
      "  df[\"enmo_std\"]   = df[\"enmo\"].rolling(periods,center=True).std().fillna(method=\"bfill\").fillna(method=\"ffill\").astype('float32')\n",
      "/var/folders/hb/_y1g8w4d6j910_w7_rr3vx700000gn/T/ipykernel_26663/2988593522.py:24: FutureWarning: Series.fillna with 'method' is deprecated and will raise in a future version. Use obj.ffill() or obj.bfill() instead.\n",
      "  df[\"anglez_diff_rolling\"] = df[\"anglez_diff\"].rolling(periods,center=True).mean().fillna(method=\"bfill\").fillna(method=\"ffill\").astype('float32')\n",
      "/var/folders/hb/_y1g8w4d6j910_w7_rr3vx700000gn/T/ipykernel_26663/2988593522.py:25: FutureWarning: Series.fillna with 'method' is deprecated and will raise in a future version. Use obj.ffill() or obj.bfill() instead.\n",
      "  df[\"enmo_diff_rolling\"]   = df[\"enmo_diff\"].rolling(periods,center=True).mean().fillna(method=\"bfill\").fillna(method=\"ffill\").astype('float32')\n",
      "/var/folders/hb/_y1g8w4d6j910_w7_rr3vx700000gn/T/ipykernel_26663/3861063929.py:12: FutureWarning: Series.fillna with 'method' is deprecated and will raise in a future version. Use obj.ffill() or obj.bfill() instead.\n",
      "  single_series[\"score\"] = single_series[\"awake\"].rolling(smoothing_length,center=True).mean().fillna(method=\"bfill\").fillna(method=\"ffill\")\n",
      "/var/folders/hb/_y1g8w4d6j910_w7_rr3vx700000gn/T/ipykernel_26663/3861063929.py:13: FutureWarning: Series.fillna with 'method' is deprecated and will raise in a future version. Use obj.ffill() or obj.bfill() instead.\n",
      "  single_series[\"smooth\"] = single_series[\"not_awake\"].rolling(smoothing_length,center=True).mean().fillna(method=\"bfill\").fillna(method=\"ffill\")\n"
     ]
    },
    {
     "data": {
      "text/html": [
       "<div>\n",
       "<style scoped>\n",
       "    .dataframe tbody tr th:only-of-type {\n",
       "        vertical-align: middle;\n",
       "    }\n",
       "\n",
       "    .dataframe tbody tr th {\n",
       "        vertical-align: top;\n",
       "    }\n",
       "\n",
       "    .dataframe thead th {\n",
       "        text-align: right;\n",
       "    }\n",
       "</style>\n",
       "<table border=\"1\" class=\"dataframe\">\n",
       "  <thead>\n",
       "    <tr style=\"text-align: right;\">\n",
       "      <th></th>\n",
       "      <th>row_id</th>\n",
       "      <th>series_id</th>\n",
       "      <th>step</th>\n",
       "      <th>event</th>\n",
       "      <th>score</th>\n",
       "    </tr>\n",
       "  </thead>\n",
       "  <tbody>\n",
       "  </tbody>\n",
       "</table>\n",
       "</div>"
      ],
      "text/plain": [
       "Empty DataFrame\n",
       "Columns: [row_id, series_id, step, event, score]\n",
       "Index: []"
      ]
     },
     "execution_count": 63,
     "metadata": {},
     "output_type": "execute_result"
    }
   ],
   "source": [
    "multi_series_prediction(test_series_ids)\n",
    "sub = combine_predictions(test_series_ids)\n",
    "sub.head()"
   ]
  },
  {
   "cell_type": "markdown",
   "metadata": {},
   "source": [
    "Logistic Regression Sleep State\n"
   ]
  },
  {
   "cell_type": "code",
   "execution_count": 81,
   "metadata": {},
   "outputs": [],
   "source": [
    "import pandas as pd\n",
    "import numpy as np\n",
    "from sklearn.model_selection import train_test_split\n",
    "from sklearn.linear_model import LogisticRegression\n",
    "\n",
    "\n",
    "train_set, test_set = train_test_split(train_all, test_size=0.2)"
   ]
  },
  {
   "cell_type": "code",
   "execution_count": 87,
   "metadata": {},
   "outputs": [
    {
     "data": {
      "text/html": [
       "<div>\n",
       "<style scoped>\n",
       "    .dataframe tbody tr th:only-of-type {\n",
       "        vertical-align: middle;\n",
       "    }\n",
       "\n",
       "    .dataframe tbody tr th {\n",
       "        vertical-align: top;\n",
       "    }\n",
       "\n",
       "    .dataframe thead th {\n",
       "        text-align: right;\n",
       "    }\n",
       "</style>\n",
       "<table border=\"1\" class=\"dataframe\">\n",
       "  <thead>\n",
       "    <tr style=\"text-align: right;\">\n",
       "      <th></th>\n",
       "      <th>step</th>\n",
       "      <th>hour</th>\n",
       "      <th>dayofweek</th>\n",
       "      <th>anglez_times_enmo</th>\n",
       "      <th>anglez</th>\n",
       "      <th>anglez_diff</th>\n",
       "      <th>anglez_mean</th>\n",
       "      <th>anglez_min</th>\n",
       "      <th>anglez_max</th>\n",
       "      <th>anglez_std</th>\n",
       "      <th>anglez_diff_rolling</th>\n",
       "      <th>enmo</th>\n",
       "      <th>enmo_diff</th>\n",
       "      <th>enmo_mean</th>\n",
       "      <th>enmo_min</th>\n",
       "      <th>enmo_max</th>\n",
       "      <th>enmo_std</th>\n",
       "      <th>enmo_diff_rolling</th>\n",
       "    </tr>\n",
       "  </thead>\n",
       "  <tbody>\n",
       "    <tr>\n",
       "      <th>1866979</th>\n",
       "      <td>-18977</td>\n",
       "      <td>8</td>\n",
       "      <td>4</td>\n",
       "      <td>0.49</td>\n",
       "      <td>-65.66</td>\n",
       "      <td>0.03</td>\n",
       "      <td>-65.67</td>\n",
       "      <td>-65.76</td>\n",
       "      <td>-65.66</td>\n",
       "      <td>0.04</td>\n",
       "      <td>0.03</td>\n",
       "      <td>0.01</td>\n",
       "      <td>0.00</td>\n",
       "      <td>0.01</td>\n",
       "      <td>0.01</td>\n",
       "      <td>0.01</td>\n",
       "      <td>0.00</td>\n",
       "      <td>-0.00</td>\n",
       "    </tr>\n",
       "    <tr>\n",
       "      <th>1095233</th>\n",
       "      <td>13433</td>\n",
       "      <td>12</td>\n",
       "      <td>2</td>\n",
       "      <td>0.00</td>\n",
       "      <td>18.57</td>\n",
       "      <td>11.71</td>\n",
       "      <td>14.10</td>\n",
       "      <td>7.96</td>\n",
       "      <td>18.57</td>\n",
       "      <td>4.00</td>\n",
       "      <td>10.34</td>\n",
       "      <td>0.00</td>\n",
       "      <td>-0.00</td>\n",
       "      <td>0.00</td>\n",
       "      <td>0.00</td>\n",
       "      <td>0.01</td>\n",
       "      <td>0.00</td>\n",
       "      <td>-0.01</td>\n",
       "    </tr>\n",
       "    <tr>\n",
       "      <th>1419002</th>\n",
       "      <td>9522</td>\n",
       "      <td>6</td>\n",
       "      <td>0</td>\n",
       "      <td>2.55</td>\n",
       "      <td>-34.05</td>\n",
       "      <td>25.52</td>\n",
       "      <td>-43.62</td>\n",
       "      <td>-59.52</td>\n",
       "      <td>-34.05</td>\n",
       "      <td>11.68</td>\n",
       "      <td>15.93</td>\n",
       "      <td>0.07</td>\n",
       "      <td>0.06</td>\n",
       "      <td>0.03</td>\n",
       "      <td>0.01</td>\n",
       "      <td>0.07</td>\n",
       "      <td>0.03</td>\n",
       "      <td>0.01</td>\n",
       "    </tr>\n",
       "    <tr>\n",
       "      <th>1362532</th>\n",
       "      <td>18588</td>\n",
       "      <td>0</td>\n",
       "      <td>4</td>\n",
       "      <td>0.31</td>\n",
       "      <td>3.59</td>\n",
       "      <td>1.67</td>\n",
       "      <td>3.36</td>\n",
       "      <td>0.33</td>\n",
       "      <td>7.16</td>\n",
       "      <td>2.33</td>\n",
       "      <td>2.23</td>\n",
       "      <td>0.09</td>\n",
       "      <td>-0.01</td>\n",
       "      <td>0.08</td>\n",
       "      <td>0.05</td>\n",
       "      <td>0.09</td>\n",
       "      <td>0.01</td>\n",
       "      <td>-0.02</td>\n",
       "    </tr>\n",
       "    <tr>\n",
       "      <th>363353</th>\n",
       "      <td>-29863</td>\n",
       "      <td>14</td>\n",
       "      <td>0</td>\n",
       "      <td>0.03</td>\n",
       "      <td>0.96</td>\n",
       "      <td>1.05</td>\n",
       "      <td>2.29</td>\n",
       "      <td>-6.91</td>\n",
       "      <td>8.21</td>\n",
       "      <td>5.65</td>\n",
       "      <td>32.36</td>\n",
       "      <td>0.03</td>\n",
       "      <td>-0.01</td>\n",
       "      <td>0.03</td>\n",
       "      <td>0.02</td>\n",
       "      <td>0.09</td>\n",
       "      <td>0.03</td>\n",
       "      <td>0.01</td>\n",
       "    </tr>\n",
       "    <tr>\n",
       "      <th>...</th>\n",
       "      <td>...</td>\n",
       "      <td>...</td>\n",
       "      <td>...</td>\n",
       "      <td>...</td>\n",
       "      <td>...</td>\n",
       "      <td>...</td>\n",
       "      <td>...</td>\n",
       "      <td>...</td>\n",
       "      <td>...</td>\n",
       "      <td>...</td>\n",
       "      <td>...</td>\n",
       "      <td>...</td>\n",
       "      <td>...</td>\n",
       "      <td>...</td>\n",
       "      <td>...</td>\n",
       "      <td>...</td>\n",
       "      <td>...</td>\n",
       "      <td>...</td>\n",
       "    </tr>\n",
       "    <tr>\n",
       "      <th>2249467</th>\n",
       "      <td>-28889</td>\n",
       "      <td>23</td>\n",
       "      <td>4</td>\n",
       "      <td>0.02</td>\n",
       "      <td>7.96</td>\n",
       "      <td>16.35</td>\n",
       "      <td>4.02</td>\n",
       "      <td>-4.33</td>\n",
       "      <td>9.28</td>\n",
       "      <td>5.92</td>\n",
       "      <td>-1.92</td>\n",
       "      <td>0.00</td>\n",
       "      <td>-0.01</td>\n",
       "      <td>0.01</td>\n",
       "      <td>0.00</td>\n",
       "      <td>0.02</td>\n",
       "      <td>0.01</td>\n",
       "      <td>-0.02</td>\n",
       "    </tr>\n",
       "    <tr>\n",
       "      <th>963395</th>\n",
       "      <td>4111</td>\n",
       "      <td>2</td>\n",
       "      <td>2</td>\n",
       "      <td>0.10</td>\n",
       "      <td>-6.13</td>\n",
       "      <td>27.57</td>\n",
       "      <td>-9.49</td>\n",
       "      <td>-20.40</td>\n",
       "      <td>1.18</td>\n",
       "      <td>7.79</td>\n",
       "      <td>21.58</td>\n",
       "      <td>0.02</td>\n",
       "      <td>-0.03</td>\n",
       "      <td>0.04</td>\n",
       "      <td>0.01</td>\n",
       "      <td>0.09</td>\n",
       "      <td>0.03</td>\n",
       "      <td>0.01</td>\n",
       "    </tr>\n",
       "    <tr>\n",
       "      <th>2215104</th>\n",
       "      <td>2284</td>\n",
       "      <td>23</td>\n",
       "      <td>2</td>\n",
       "      <td>0.37</td>\n",
       "      <td>8.82</td>\n",
       "      <td>-17.64</td>\n",
       "      <td>-1.03</td>\n",
       "      <td>-31.21</td>\n",
       "      <td>9.82</td>\n",
       "      <td>15.41</td>\n",
       "      <td>-23.68</td>\n",
       "      <td>0.04</td>\n",
       "      <td>0.04</td>\n",
       "      <td>0.03</td>\n",
       "      <td>0.01</td>\n",
       "      <td>0.08</td>\n",
       "      <td>0.03</td>\n",
       "      <td>0.03</td>\n",
       "    </tr>\n",
       "    <tr>\n",
       "      <th>1484405</th>\n",
       "      <td>9389</td>\n",
       "      <td>1</td>\n",
       "      <td>4</td>\n",
       "      <td>0.77</td>\n",
       "      <td>-11.00</td>\n",
       "      <td>-1.39</td>\n",
       "      <td>-7.27</td>\n",
       "      <td>-27.80</td>\n",
       "      <td>10.86</td>\n",
       "      <td>12.48</td>\n",
       "      <td>-2.34</td>\n",
       "      <td>0.07</td>\n",
       "      <td>-0.06</td>\n",
       "      <td>0.09</td>\n",
       "      <td>0.07</td>\n",
       "      <td>0.11</td>\n",
       "      <td>0.02</td>\n",
       "      <td>-0.12</td>\n",
       "    </tr>\n",
       "    <tr>\n",
       "      <th>305711</th>\n",
       "      <td>-21969</td>\n",
       "      <td>6</td>\n",
       "      <td>4</td>\n",
       "      <td>0.02</td>\n",
       "      <td>-81.25</td>\n",
       "      <td>0.02</td>\n",
       "      <td>-81.26</td>\n",
       "      <td>-81.26</td>\n",
       "      <td>-81.25</td>\n",
       "      <td>0.01</td>\n",
       "      <td>0.00</td>\n",
       "      <td>0.00</td>\n",
       "      <td>0.00</td>\n",
       "      <td>0.00</td>\n",
       "      <td>0.00</td>\n",
       "      <td>0.00</td>\n",
       "      <td>0.00</td>\n",
       "      <td>0.00</td>\n",
       "    </tr>\n",
       "  </tbody>\n",
       "</table>\n",
       "<p>2275920 rows × 18 columns</p>\n",
       "</div>"
      ],
      "text/plain": [
       "          step  hour  dayofweek  anglez_times_enmo  anglez  anglez_diff  \\\n",
       "1866979 -18977     8          4               0.49  -65.66         0.03   \n",
       "1095233  13433    12          2               0.00   18.57        11.71   \n",
       "1419002   9522     6          0               2.55  -34.05        25.52   \n",
       "1362532  18588     0          4               0.31    3.59         1.67   \n",
       "363353  -29863    14          0               0.03    0.96         1.05   \n",
       "...        ...   ...        ...                ...     ...          ...   \n",
       "2249467 -28889    23          4               0.02    7.96        16.35   \n",
       "963395    4111     2          2               0.10   -6.13        27.57   \n",
       "2215104   2284    23          2               0.37    8.82       -17.64   \n",
       "1484405   9389     1          4               0.77  -11.00        -1.39   \n",
       "305711  -21969     6          4               0.02  -81.25         0.02   \n",
       "\n",
       "         anglez_mean  anglez_min  anglez_max  anglez_std  anglez_diff_rolling  \\\n",
       "1866979       -65.67      -65.76      -65.66        0.04                 0.03   \n",
       "1095233        14.10        7.96       18.57        4.00                10.34   \n",
       "1419002       -43.62      -59.52      -34.05       11.68                15.93   \n",
       "1362532         3.36        0.33        7.16        2.33                 2.23   \n",
       "363353          2.29       -6.91        8.21        5.65                32.36   \n",
       "...              ...         ...         ...         ...                  ...   \n",
       "2249467         4.02       -4.33        9.28        5.92                -1.92   \n",
       "963395         -9.49      -20.40        1.18        7.79                21.58   \n",
       "2215104        -1.03      -31.21        9.82       15.41               -23.68   \n",
       "1484405        -7.27      -27.80       10.86       12.48                -2.34   \n",
       "305711        -81.26      -81.26      -81.25        0.01                 0.00   \n",
       "\n",
       "         enmo  enmo_diff  enmo_mean  enmo_min  enmo_max  enmo_std  \\\n",
       "1866979  0.01       0.00       0.01      0.01      0.01      0.00   \n",
       "1095233  0.00      -0.00       0.00      0.00      0.01      0.00   \n",
       "1419002  0.07       0.06       0.03      0.01      0.07      0.03   \n",
       "1362532  0.09      -0.01       0.08      0.05      0.09      0.01   \n",
       "363353   0.03      -0.01       0.03      0.02      0.09      0.03   \n",
       "...       ...        ...        ...       ...       ...       ...   \n",
       "2249467  0.00      -0.01       0.01      0.00      0.02      0.01   \n",
       "963395   0.02      -0.03       0.04      0.01      0.09      0.03   \n",
       "2215104  0.04       0.04       0.03      0.01      0.08      0.03   \n",
       "1484405  0.07      -0.06       0.09      0.07      0.11      0.02   \n",
       "305711   0.00       0.00       0.00      0.00      0.00      0.00   \n",
       "\n",
       "         enmo_diff_rolling  \n",
       "1866979              -0.00  \n",
       "1095233              -0.01  \n",
       "1419002               0.01  \n",
       "1362532              -0.02  \n",
       "363353                0.01  \n",
       "...                    ...  \n",
       "2249467              -0.02  \n",
       "963395                0.01  \n",
       "2215104               0.03  \n",
       "1484405              -0.12  \n",
       "305711                0.00  \n",
       "\n",
       "[2275920 rows x 18 columns]"
      ]
     },
     "execution_count": 87,
     "metadata": {},
     "output_type": "execute_result"
    }
   ],
   "source": [
    "features = [\n",
    "    \"step\",\n",
    "    \"hour\",\n",
    "    \"dayofweek\",\n",
    "    \"anglez_times_enmo\",\n",
    "    \"anglez\",\n",
    "    \"anglez_diff\",\n",
    "    \"anglez_mean\",\n",
    "    \"anglez_min\",\n",
    "    \"anglez_max\",\n",
    "    \"anglez_std\",\n",
    "    \"anglez_diff_rolling\",\n",
    "    \"enmo\",\n",
    "    \"enmo_diff\",\n",
    "    \"enmo_mean\",\n",
    "    \"enmo_min\",\n",
    "    \"enmo_max\",\n",
    "    \"enmo_std\",\n",
    "    \"enmo_diff_rolling\",\n",
    "]\n",
    "target = \"awake\"\n",
    "\n",
    "scaler = StandardScaler()\n",
    "\n",
    "df_train_X_scaled = scaler.fit_transform(train_all[features])\n",
    "df_train_y = train_all[target].values\n",
    "\n",
    "\n",
    "train_set[features]"
   ]
  },
  {
   "cell_type": "code",
   "execution_count": 92,
   "metadata": {},
   "outputs": [
    {
     "data": {
      "text/html": [
       "<style>#sk-container-id-4 {color: black;}#sk-container-id-4 pre{padding: 0;}#sk-container-id-4 div.sk-toggleable {background-color: white;}#sk-container-id-4 label.sk-toggleable__label {cursor: pointer;display: block;width: 100%;margin-bottom: 0;padding: 0.3em;box-sizing: border-box;text-align: center;}#sk-container-id-4 label.sk-toggleable__label-arrow:before {content: \"▸\";float: left;margin-right: 0.25em;color: #696969;}#sk-container-id-4 label.sk-toggleable__label-arrow:hover:before {color: black;}#sk-container-id-4 div.sk-estimator:hover label.sk-toggleable__label-arrow:before {color: black;}#sk-container-id-4 div.sk-toggleable__content {max-height: 0;max-width: 0;overflow: hidden;text-align: left;background-color: #f0f8ff;}#sk-container-id-4 div.sk-toggleable__content pre {margin: 0.2em;color: black;border-radius: 0.25em;background-color: #f0f8ff;}#sk-container-id-4 input.sk-toggleable__control:checked~div.sk-toggleable__content {max-height: 200px;max-width: 100%;overflow: auto;}#sk-container-id-4 input.sk-toggleable__control:checked~label.sk-toggleable__label-arrow:before {content: \"▾\";}#sk-container-id-4 div.sk-estimator input.sk-toggleable__control:checked~label.sk-toggleable__label {background-color: #d4ebff;}#sk-container-id-4 div.sk-label input.sk-toggleable__control:checked~label.sk-toggleable__label {background-color: #d4ebff;}#sk-container-id-4 input.sk-hidden--visually {border: 0;clip: rect(1px 1px 1px 1px);clip: rect(1px, 1px, 1px, 1px);height: 1px;margin: -1px;overflow: hidden;padding: 0;position: absolute;width: 1px;}#sk-container-id-4 div.sk-estimator {font-family: monospace;background-color: #f0f8ff;border: 1px dotted black;border-radius: 0.25em;box-sizing: border-box;margin-bottom: 0.5em;}#sk-container-id-4 div.sk-estimator:hover {background-color: #d4ebff;}#sk-container-id-4 div.sk-parallel-item::after {content: \"\";width: 100%;border-bottom: 1px solid gray;flex-grow: 1;}#sk-container-id-4 div.sk-label:hover label.sk-toggleable__label {background-color: #d4ebff;}#sk-container-id-4 div.sk-serial::before {content: \"\";position: absolute;border-left: 1px solid gray;box-sizing: border-box;top: 0;bottom: 0;left: 50%;z-index: 0;}#sk-container-id-4 div.sk-serial {display: flex;flex-direction: column;align-items: center;background-color: white;padding-right: 0.2em;padding-left: 0.2em;position: relative;}#sk-container-id-4 div.sk-item {position: relative;z-index: 1;}#sk-container-id-4 div.sk-parallel {display: flex;align-items: stretch;justify-content: center;background-color: white;position: relative;}#sk-container-id-4 div.sk-item::before, #sk-container-id-4 div.sk-parallel-item::before {content: \"\";position: absolute;border-left: 1px solid gray;box-sizing: border-box;top: 0;bottom: 0;left: 50%;z-index: -1;}#sk-container-id-4 div.sk-parallel-item {display: flex;flex-direction: column;z-index: 1;position: relative;background-color: white;}#sk-container-id-4 div.sk-parallel-item:first-child::after {align-self: flex-end;width: 50%;}#sk-container-id-4 div.sk-parallel-item:last-child::after {align-self: flex-start;width: 50%;}#sk-container-id-4 div.sk-parallel-item:only-child::after {width: 0;}#sk-container-id-4 div.sk-dashed-wrapped {border: 1px dashed gray;margin: 0 0.4em 0.5em 0.4em;box-sizing: border-box;padding-bottom: 0.4em;background-color: white;}#sk-container-id-4 div.sk-label label {font-family: monospace;font-weight: bold;display: inline-block;line-height: 1.2em;}#sk-container-id-4 div.sk-label-container {text-align: center;}#sk-container-id-4 div.sk-container {/* jupyter's `normalize.less` sets `[hidden] { display: none; }` but bootstrap.min.css set `[hidden] { display: none !important; }` so we also need the `!important` here to be able to override the default hidden behavior on the sphinx rendered scikit-learn.org. See: https://github.com/scikit-learn/scikit-learn/issues/21755 */display: inline-block !important;position: relative;}#sk-container-id-4 div.sk-text-repr-fallback {display: none;}</style><div id=\"sk-container-id-4\" class=\"sk-top-container\"><div class=\"sk-text-repr-fallback\"><pre>LogisticRegression()</pre><b>In a Jupyter environment, please rerun this cell to show the HTML representation or trust the notebook. <br />On GitHub, the HTML representation is unable to render, please try loading this page with nbviewer.org.</b></div><div class=\"sk-container\" hidden><div class=\"sk-item\"><div class=\"sk-estimator sk-toggleable\"><input class=\"sk-toggleable__control sk-hidden--visually\" id=\"sk-estimator-id-4\" type=\"checkbox\" checked><label for=\"sk-estimator-id-4\" class=\"sk-toggleable__label sk-toggleable__label-arrow\">LogisticRegression</label><div class=\"sk-toggleable__content\"><pre>LogisticRegression()</pre></div></div></div></div></div>"
      ],
      "text/plain": [
       "LogisticRegression()"
      ]
     },
     "execution_count": 92,
     "metadata": {},
     "output_type": "execute_result"
    }
   ],
   "source": [
    "model = LogisticRegression()\n",
    "model.fit(train_set[features], train_set[target])\n",
    "# model.fit(df_train_X_scaled, df_train_y)"
   ]
  },
  {
   "cell_type": "code",
   "execution_count": 96,
   "metadata": {},
   "outputs": [
    {
     "name": "stdout",
     "output_type": "stream",
     "text": [
      "Accuracy: 0.8246230095961193\n"
     ]
    },
    {
     "data": {
      "text/plain": [
       "array([0, 0, 0, ..., 1, 1, 1], dtype=int16)"
      ]
     },
     "execution_count": 96,
     "metadata": {},
     "output_type": "execute_result"
    }
   ],
   "source": [
    "predictions = model.predict(test_set[features])\n",
    "\n",
    "accuracy = np.mean(predictions == test_set[target])\n",
    "print(\"Accuracy:\", accuracy)"
   ]
  },
  {
   "cell_type": "code",
   "execution_count": 95,
   "metadata": {},
   "outputs": [
    {
     "data": {
      "image/png": "[encoded data removed]",
      "text/plain": [
       "<Figure size 640x480 with 1 Axes>"
      ]
     },
     "metadata": {},
     "output_type": "display_data"
    }
   ],
   "source": [
    "import matplotlib.pyplot as plt\n",
    "\n",
    "# Plotting the accuracy\n",
    "plt.bar([\"Model Accuracy\"], [accuracy])\n",
    "plt.ylim(0, 1)  # Assuming accuracy is a fraction, set y-axis from 0 to 1\n",
    "plt.ylabel(\"Accuracy\")\n",
    "plt.title(\"Model Accuracy\")\n",
    "plt.show()"
   ]
  },
  {
   "cell_type": "markdown",
   "metadata": {},
   "source": [
    "### Decision Tree (Decision Tree)"
   ]
  },
  {
   "cell_type": "code",
   "execution_count": 104,
   "metadata": {},
   "outputs": [],
   "source": [
    "import matplotlib.pyplot as plt\n",
    "from sklearn.preprocessing import StandardScaler\n",
    "from sklearn.model_selection import train_test_split\n",
    "from sklearn.pipeline import make_pipeline\n",
    "from sklearn.tree import DecisionTreeClassifier\n",
    "from sklearn.ensemble import RandomForestClassifier\n",
    "from sklearn.metrics import average_precision_score\n",
    "from sklearn.metrics import ConfusionMatrixDisplay"
   ]
  },
  {
   "cell_type": "code",
   "execution_count": 105,
   "metadata": {},
   "outputs": [
    {
     "name": "stdout",
     "output_type": "stream",
     "text": [
      "Baseline Accuracy:  0.6695\n"
     ]
    }
   ],
   "source": [
    "acc_baseline = train_set[target].value_counts(normalize=True).max()\n",
    "print(\"Baseline Accuracy: \", round(acc_baseline, 4))"
   ]
  },
  {
   "cell_type": "code",
   "execution_count": 108,
   "metadata": {},
   "outputs": [
    {
     "data": {
      "text/html": [
       "<style>#sk-container-id-5 {color: black;}#sk-container-id-5 pre{padding: 0;}#sk-container-id-5 div.sk-toggleable {background-color: white;}#sk-container-id-5 label.sk-toggleable__label {cursor: pointer;display: block;width: 100%;margin-bottom: 0;padding: 0.3em;box-sizing: border-box;text-align: center;}#sk-container-id-5 label.sk-toggleable__label-arrow:before {content: \"▸\";float: left;margin-right: 0.25em;color: #696969;}#sk-container-id-5 label.sk-toggleable__label-arrow:hover:before {color: black;}#sk-container-id-5 div.sk-estimator:hover label.sk-toggleable__label-arrow:before {color: black;}#sk-container-id-5 div.sk-toggleable__content {max-height: 0;max-width: 0;overflow: hidden;text-align: left;background-color: #f0f8ff;}#sk-container-id-5 div.sk-toggleable__content pre {margin: 0.2em;color: black;border-radius: 0.25em;background-color: #f0f8ff;}#sk-container-id-5 input.sk-toggleable__control:checked~div.sk-toggleable__content {max-height: 200px;max-width: 100%;overflow: auto;}#sk-container-id-5 input.sk-toggleable__control:checked~label.sk-toggleable__label-arrow:before {content: \"▾\";}#sk-container-id-5 div.sk-estimator input.sk-toggleable__control:checked~label.sk-toggleable__label {background-color: #d4ebff;}#sk-container-id-5 div.sk-label input.sk-toggleable__control:checked~label.sk-toggleable__label {background-color: #d4ebff;}#sk-container-id-5 input.sk-hidden--visually {border: 0;clip: rect(1px 1px 1px 1px);clip: rect(1px, 1px, 1px, 1px);height: 1px;margin: -1px;overflow: hidden;padding: 0;position: absolute;width: 1px;}#sk-container-id-5 div.sk-estimator {font-family: monospace;background-color: #f0f8ff;border: 1px dotted black;border-radius: 0.25em;box-sizing: border-box;margin-bottom: 0.5em;}#sk-container-id-5 div.sk-estimator:hover {background-color: #d4ebff;}#sk-container-id-5 div.sk-parallel-item::after {content: \"\";width: 100%;border-bottom: 1px solid gray;flex-grow: 1;}#sk-container-id-5 div.sk-label:hover label.sk-toggleable__label {background-color: #d4ebff;}#sk-container-id-5 div.sk-serial::before {content: \"\";position: absolute;border-left: 1px solid gray;box-sizing: border-box;top: 0;bottom: 0;left: 50%;z-index: 0;}#sk-container-id-5 div.sk-serial {display: flex;flex-direction: column;align-items: center;background-color: white;padding-right: 0.2em;padding-left: 0.2em;position: relative;}#sk-container-id-5 div.sk-item {position: relative;z-index: 1;}#sk-container-id-5 div.sk-parallel {display: flex;align-items: stretch;justify-content: center;background-color: white;position: relative;}#sk-container-id-5 div.sk-item::before, #sk-container-id-5 div.sk-parallel-item::before {content: \"\";position: absolute;border-left: 1px solid gray;box-sizing: border-box;top: 0;bottom: 0;left: 50%;z-index: -1;}#sk-container-id-5 div.sk-parallel-item {display: flex;flex-direction: column;z-index: 1;position: relative;background-color: white;}#sk-container-id-5 div.sk-parallel-item:first-child::after {align-self: flex-end;width: 50%;}#sk-container-id-5 div.sk-parallel-item:last-child::after {align-self: flex-start;width: 50%;}#sk-container-id-5 div.sk-parallel-item:only-child::after {width: 0;}#sk-container-id-5 div.sk-dashed-wrapped {border: 1px dashed gray;margin: 0 0.4em 0.5em 0.4em;box-sizing: border-box;padding-bottom: 0.4em;background-color: white;}#sk-container-id-5 div.sk-label label {font-family: monospace;font-weight: bold;display: inline-block;line-height: 1.2em;}#sk-container-id-5 div.sk-label-container {text-align: center;}#sk-container-id-5 div.sk-container {/* jupyter's `normalize.less` sets `[hidden] { display: none; }` but bootstrap.min.css set `[hidden] { display: none !important; }` so we also need the `!important` here to be able to override the default hidden behavior on the sphinx rendered scikit-learn.org. See: https://github.com/scikit-learn/scikit-learn/issues/21755 */display: inline-block !important;position: relative;}#sk-container-id-5 div.sk-text-repr-fallback {display: none;}</style><div id=\"sk-container-id-5\" class=\"sk-top-container\"><div class=\"sk-text-repr-fallback\"><pre>Pipeline(steps=[(&#x27;decisiontreeclassifier&#x27;,\n",
       "                 DecisionTreeClassifier(random_state=42))])</pre><b>In a Jupyter environment, please rerun this cell to show the HTML representation or trust the notebook. <br />On GitHub, the HTML representation is unable to render, please try loading this page with nbviewer.org.</b></div><div class=\"sk-container\" hidden><div class=\"sk-item sk-dashed-wrapped\"><div class=\"sk-label-container\"><div class=\"sk-label sk-toggleable\"><input class=\"sk-toggleable__control sk-hidden--visually\" id=\"sk-estimator-id-5\" type=\"checkbox\" ><label for=\"sk-estimator-id-5\" class=\"sk-toggleable__label sk-toggleable__label-arrow\">Pipeline</label><div class=\"sk-toggleable__content\"><pre>Pipeline(steps=[(&#x27;decisiontreeclassifier&#x27;,\n",
       "                 DecisionTreeClassifier(random_state=42))])</pre></div></div></div><div class=\"sk-serial\"><div class=\"sk-item\"><div class=\"sk-estimator sk-toggleable\"><input class=\"sk-toggleable__control sk-hidden--visually\" id=\"sk-estimator-id-6\" type=\"checkbox\" ><label for=\"sk-estimator-id-6\" class=\"sk-toggleable__label sk-toggleable__label-arrow\">DecisionTreeClassifier</label><div class=\"sk-toggleable__content\"><pre>DecisionTreeClassifier(random_state=42)</pre></div></div></div></div></div></div></div>"
      ],
      "text/plain": [
       "Pipeline(steps=[('decisiontreeclassifier',\n",
       "                 DecisionTreeClassifier(random_state=42))])"
      ]
     },
     "execution_count": 108,
     "metadata": {},
     "output_type": "execute_result"
    }
   ],
   "source": [
    "model = make_pipeline(DecisionTreeClassifier(random_state=42))\n",
    "\n",
    "model.fit(train_set[features], train_set[target])"
   ]
  },
  {
   "cell_type": "code",
   "execution_count": 109,
   "metadata": {},
   "outputs": [
    {
     "name": "stdout",
     "output_type": "stream",
     "text": [
      "Training Accuracy: 1.0\n",
      "Test Accuracy: 0.9909\n"
     ]
    }
   ],
   "source": [
    "# Determine model accuracy\n",
    "acc_train = model.score(train_set[features], train_set[target])\n",
    "acc_test = model.score(test_set[features], test_set[target])\n",
    "\n",
    "print(\"Training Accuracy:\", round(acc_train, 4))\n",
    "print(\"Test Accuracy:\", round(acc_test, 4))"
   ]
  },
  {
   "cell_type": "code",
   "execution_count": 110,
   "metadata": {},
   "outputs": [
    {
     "data": {
      "image/png": "[encoded data removed]",
      "text/plain": [
       "<Figure size 640x480 with 2 Axes>"
      ]
     },
     "metadata": {},
     "output_type": "display_data"
    }
   ],
   "source": [
    "from sklearn.metrics import classification_report\n",
    "from sklearn.metrics import confusion_matrix\n",
    "\n",
    "# Plot a confusion matrix that shows how the model performs on the test set.\n",
    "ConfusionMatrixDisplay.from_estimator(model, test_set[features], test_set[target]);"
   ]
  },
  {
   "cell_type": "markdown",
   "metadata": {},
   "source": [
    "Precision and Recall\n"
   ]
  },
  {
   "cell_type": "code",
   "execution_count": 114,
   "metadata": {},
   "outputs": [
    {
     "name": "stdout",
     "output_type": "stream",
     "text": [
      "              precision    recall  f1-score   support\n",
      "\n",
      " sleep onset       0.99      0.99      0.99    187124\n",
      "        wake       0.99      0.99      0.99    381856\n",
      "\n",
      "    accuracy                           0.99    568980\n",
      "   macro avg       0.99      0.99      0.99    568980\n",
      "weighted avg       0.99      0.99      0.99    568980\n",
      "\n"
     ]
    },
    {
     "data": {
      "text/plain": [
       "array([0, 0, 0, ..., 0, 1, 1], dtype=int16)"
      ]
     },
     "execution_count": 114,
     "metadata": {},
     "output_type": "execute_result"
    }
   ],
   "source": [
    "print(\n",
    "    classification_report(\n",
    "        test_set[target],\n",
    "        model.predict(test_set[features]),\n",
    "        target_names=[\"sleep onset\", \"wake\"],\n",
    "    )\n",
    ")\n",
    "\n",
    "\n",
    "model.predict(test_set[features])"
   ]
  },
  {
   "cell_type": "markdown",
   "metadata": {},
   "source": [
    "LightGBM (Light Gradient Boosting Machine)  "
   ]
  },
  {
   "cell_type": "code",
   "execution_count": 126,
   "metadata": {},
   "outputs": [
    {
     "name": "stdout",
     "output_type": "stream",
     "text": [
      "[LightGBM] [Warning] Unknown parameter: n_estimatorsr\n",
      "[LightGBM] [Warning] min_data_in_leaf is set with min_child_samples=20, will be overridden by min_samples_leaf=300. Current value: min_data_in_leaf=300\n",
      "[LightGBM] [Warning] Unknown parameter: n_estimatorsr\n",
      "[LightGBM] [Warning] min_data_in_leaf is set with min_child_samples=20, will be overridden by min_samples_leaf=300. Current value: min_data_in_leaf=300\n",
      "[LightGBM] [Info] Number of positive: 1523756, number of negative: 752164\n",
      "[LightGBM] [Info] Auto-choosing row-wise multi-threading, the overhead of testing was 0.011565 seconds.\n",
      "You can set `force_row_wise=true` to remove the overhead.\n",
      "And if memory is not enough, you can set `force_col_wise=true`.\n",
      "[LightGBM] [Info] Total Bins 4111\n",
      "[LightGBM] [Info] Number of data points in the train set: 2275920, number of used features: 18\n",
      "[LightGBM] [Info] [binary:BoostFromScore]: pavg=0.669512 -> initscore=0.705979\n",
      "[LightGBM] [Info] Start training from score 0.705979\n",
      "Done training in 3s\n"
     ]
    }
   ],
   "source": [
    "import plotly.express as px\n",
    "from plotly.subplots import make_subplots\n",
    "import plotly.graph_objects as go\n",
    "import gc\n",
    "import lightgbm as lgb\n",
    "from sklearn.ensemble import BaggingClassifier, StackingClassifier\n",
    "import lightgbm as lgbm\n",
    "import time\n",
    "\n",
    "\n",
    "classifier = lgbm.LGBMClassifier(\n",
    "    n_estimatorsr=100,\n",
    "    min_samples_leaf=300,\n",
    "    boosting_type=\"gbdt\",\n",
    "    random_state=42,\n",
    "    n_jobs=-1,\n",
    ")\n",
    "\n",
    "start = time.time()\n",
    "classifier.fit(train_set[features], train_set[target])\n",
    "end = time.time()\n",
    "\n",
    "eta = int(end - start)\n",
    "\n",
    "print(f\"Done training in {eta}s\")"
   ]
  },
  {
   "cell_type": "code",
   "execution_count": 127,
   "metadata": {},
   "outputs": [
    {
     "name": "stdout",
     "output_type": "stream",
     "text": [
      "[LightGBM] [Warning] min_data_in_leaf is set with min_child_samples=20, will be overridden by min_samples_leaf=300. Current value: min_data_in_leaf=300\n",
      "[LightGBM] [Warning] Unknown parameter: n_estimatorsr\n",
      "              precision    recall  f1-score   support\n",
      "\n",
      " sleep onset       0.95      0.96      0.95    187124\n",
      "        wake       0.98      0.97      0.98    381856\n",
      "\n",
      "    accuracy                           0.97    568980\n",
      "   macro avg       0.96      0.97      0.96    568980\n",
      "weighted avg       0.97      0.97      0.97    568980\n",
      "\n"
     ]
    }
   ],
   "source": [
    "print(\n",
    "    classification_report(\n",
    "        test_set[target],\n",
    "        classifier.predict(test_set[features]),\n",
    "        target_names=[\"sleep onset\", \"wake\"],\n",
    "    )\n",
    ")"
   ]
  },
  {
   "cell_type": "code",
   "execution_count": 130,
   "metadata": {},
   "outputs": [],
   "source": [
    "def get_event(df):\n",
    "    lstCV = zip(df.series_id, df.label)\n",
    "    lstPOI = []\n",
    "    for (c, v), g in groupby(\n",
    "        lstCV, lambda cv: (cv[0], cv[1] != 0 and not pd.isnull(cv[1]))\n",
    "    ):\n",
    "        llg = sum(1 for item in g)\n",
    "        if v is False:\n",
    "            lstPOI.extend([0] * llg)\n",
    "        else:\n",
    "            lstPOI.extend([\"onset\"] + (llg - 2) * [0] + [\"wakeup\"] if llg > 1 else [0])\n",
    "    return lstPOI\n",
    "\n",
    "\n",
    "def predict_events(classifier, test, threshold=0.5, smoothing_length=None):\n",
    "    test[\"score\"] = classifier.predict_proba(test.drop(\"series_id\", axis=1))[:, 0]\n",
    "\n",
    "    # smoothing of the predictions\n",
    "    if smoothing_length != None:\n",
    "        test[\"smoothed_score\"] = (\n",
    "            test.groupby(\"series_id\")[\"score\"]\n",
    "            .rolling(smoothing_length, center=True)\n",
    "            .mean()\n",
    "            .fillna(method=\"bfill\")\n",
    "            .fillna(method=\"ffill\")\n",
    "            .values\n",
    "        )\n",
    "\n",
    "    test[\"label\"] = 1 * (test.smoothed_score >= threshold)\n",
    "    test[\"event\"] = get_event(test)\n",
    "    return test"
   ]
  },
  {
   "cell_type": "code",
   "execution_count": 134,
   "metadata": {},
   "outputs": [
    {
     "ename": "NameError",
     "evalue": "name 'smoothing_length' is not defined",
     "output_type": "error",
     "traceback": [
      "\u001b[0;31m---------------------------------------------------------------------------\u001b[0m",
      "\u001b[0;31mNameError\u001b[0m                                 Traceback (most recent call last)",
      "\u001b[1;32m/Users/jnghosuh/Desktop/kaggle-sleep/kaggle_lstm_sleep_state.ipynb Cell 49\u001b[0m line \u001b[0;36m4\n\u001b[1;32m      <a href='vscode-notebook-cell:/Users/jnghosuh/Desktop/kaggle-sleep/kaggle_lstm_sleep_state.ipynb#Y212sZmlsZQ%3D%3D?line=0'>1</a>\u001b[0m train_event_preds \u001b[39m=\u001b[39m predict_events(\n\u001b[1;32m      <a href='vscode-notebook-cell:/Users/jnghosuh/Desktop/kaggle-sleep/kaggle_lstm_sleep_state.ipynb#Y212sZmlsZQ%3D%3D?line=1'>2</a>\u001b[0m     classifier,\n\u001b[1;32m      <a href='vscode-notebook-cell:/Users/jnghosuh/Desktop/kaggle-sleep/kaggle_lstm_sleep_state.ipynb#Y212sZmlsZQ%3D%3D?line=2'>3</a>\u001b[0m     train_all[[\u001b[39m'\u001b[39m\u001b[39mseries_id\u001b[39m\u001b[39m'\u001b[39m] \u001b[39m+\u001b[39m features],\n\u001b[0;32m----> <a href='vscode-notebook-cell:/Users/jnghosuh/Desktop/kaggle-sleep/kaggle_lstm_sleep_state.ipynb#Y212sZmlsZQ%3D%3D?line=3'>4</a>\u001b[0m     smoothing_length\u001b[39m=\u001b[39msmoothing_length\n\u001b[1;32m      <a href='vscode-notebook-cell:/Users/jnghosuh/Desktop/kaggle-sleep/kaggle_lstm_sleep_state.ipynb#Y212sZmlsZQ%3D%3D?line=4'>5</a>\u001b[0m )\n\u001b[1;32m      <a href='vscode-notebook-cell:/Users/jnghosuh/Desktop/kaggle-sleep/kaggle_lstm_sleep_state.ipynb#Y212sZmlsZQ%3D%3D?line=5'>6</a>\u001b[0m train_event_preds[\u001b[39m'\u001b[39m\u001b[39mtimestamp\u001b[39m\u001b[39m'\u001b[39m] \u001b[39m=\u001b[39m train[\u001b[39m'\u001b[39m\u001b[39mtimestamp\u001b[39m\u001b[39m'\u001b[39m]\n\u001b[1;32m      <a href='vscode-notebook-cell:/Users/jnghosuh/Desktop/kaggle-sleep/kaggle_lstm_sleep_state.ipynb#Y212sZmlsZQ%3D%3D?line=7'>8</a>\u001b[0m t2 \u001b[39m=\u001b[39m time()\n",
      "\u001b[0;31mNameError\u001b[0m: name 'smoothing_length' is not defined"
     ]
    }
   ],
   "source": [
    "train_event_preds = predict_events(\n",
    "    classifier, train_all[[\"series_id\"] + features], smoothing_length=smoothing_length\n",
    ")\n",
    "train_event_preds[\"timestamp\"] = train[\"timestamp\"]\n",
    "\n",
    "t2 = time()\n",
    "eta = int(t2 - t1)\n",
    "print(f\"Done predicting in {eta}s\")\n",
    "\n",
    "for chosen_series_id in series_with_least_steps:\n",
    "    sample = train_all[train_all.series_id == chosen_series_id]\n",
    "    sample_events = events[events.series_id == chosen_series_id]\n",
    "    sample_event_preds = train_event_preds.loc[\n",
    "        train_event_preds.series_id == chosen_series_id,\n",
    "        [\"timestamp\", \"series_id\", \"event\", \"score\", \"smoothed_score\"],\n",
    "    ]\n",
    "\n",
    "    score = sample_event_preds.score\n",
    "    sscore = sample_event_preds.smoothed_score\n",
    "    sample_event_preds.drop([\"score\", \"smoothed_score\"], axis=1, inplace=True)\n",
    "\n",
    "    t1 = time()\n",
    "    plot_series_with_events(\n",
    "        [sample.lids, score, sscore],\n",
    "        sample.timestamp,\n",
    "        events=sample_events,\n",
    "        events_pred=sample_event_preds,\n",
    "        min_vals=[0.0, 0.0, 0.0],\n",
    "    )\n",
    "    t2 = time()\n",
    "    eta = int(t2 - t1)\n",
    "    print(f\"Done plot in {eta}s\")\n",
    "\n",
    "# del(train, events) # turn this on to reduce memory usage during submission\n",
    "gc.collect()\n",
    "# del(sample, train_event_preds, score, score, sample_events, sample_event_preds)"
   ]
  },
  {
   "cell_type": "code",
   "execution_count": 135,
   "metadata": {},
   "outputs": [
    {
     "data": {
      "text/html": [
       "<style>#sk-container-id-6 {color: black;}#sk-container-id-6 pre{padding: 0;}#sk-container-id-6 div.sk-toggleable {background-color: white;}#sk-container-id-6 label.sk-toggleable__label {cursor: pointer;display: block;width: 100%;margin-bottom: 0;padding: 0.3em;box-sizing: border-box;text-align: center;}#sk-container-id-6 label.sk-toggleable__label-arrow:before {content: \"▸\";float: left;margin-right: 0.25em;color: #696969;}#sk-container-id-6 label.sk-toggleable__label-arrow:hover:before {color: black;}#sk-container-id-6 div.sk-estimator:hover label.sk-toggleable__label-arrow:before {color: black;}#sk-container-id-6 div.sk-toggleable__content {max-height: 0;max-width: 0;overflow: hidden;text-align: left;background-color: #f0f8ff;}#sk-container-id-6 div.sk-toggleable__content pre {margin: 0.2em;color: black;border-radius: 0.25em;background-color: #f0f8ff;}#sk-container-id-6 input.sk-toggleable__control:checked~div.sk-toggleable__content {max-height: 200px;max-width: 100%;overflow: auto;}#sk-container-id-6 input.sk-toggleable__control:checked~label.sk-toggleable__label-arrow:before {content: \"▾\";}#sk-container-id-6 div.sk-estimator input.sk-toggleable__control:checked~label.sk-toggleable__label {background-color: #d4ebff;}#sk-container-id-6 div.sk-label input.sk-toggleable__control:checked~label.sk-toggleable__label {background-color: #d4ebff;}#sk-container-id-6 input.sk-hidden--visually {border: 0;clip: rect(1px 1px 1px 1px);clip: rect(1px, 1px, 1px, 1px);height: 1px;margin: -1px;overflow: hidden;padding: 0;position: absolute;width: 1px;}#sk-container-id-6 div.sk-estimator {font-family: monospace;background-color: #f0f8ff;border: 1px dotted black;border-radius: 0.25em;box-sizing: border-box;margin-bottom: 0.5em;}#sk-container-id-6 div.sk-estimator:hover {background-color: #d4ebff;}#sk-container-id-6 div.sk-parallel-item::after {content: \"\";width: 100%;border-bottom: 1px solid gray;flex-grow: 1;}#sk-container-id-6 div.sk-label:hover label.sk-toggleable__label {background-color: #d4ebff;}#sk-container-id-6 div.sk-serial::before {content: \"\";position: absolute;border-left: 1px solid gray;box-sizing: border-box;top: 0;bottom: 0;left: 50%;z-index: 0;}#sk-container-id-6 div.sk-serial {display: flex;flex-direction: column;align-items: center;background-color: white;padding-right: 0.2em;padding-left: 0.2em;position: relative;}#sk-container-id-6 div.sk-item {position: relative;z-index: 1;}#sk-container-id-6 div.sk-parallel {display: flex;align-items: stretch;justify-content: center;background-color: white;position: relative;}#sk-container-id-6 div.sk-item::before, #sk-container-id-6 div.sk-parallel-item::before {content: \"\";position: absolute;border-left: 1px solid gray;box-sizing: border-box;top: 0;bottom: 0;left: 50%;z-index: -1;}#sk-container-id-6 div.sk-parallel-item {display: flex;flex-direction: column;z-index: 1;position: relative;background-color: white;}#sk-container-id-6 div.sk-parallel-item:first-child::after {align-self: flex-end;width: 50%;}#sk-container-id-6 div.sk-parallel-item:last-child::after {align-self: flex-start;width: 50%;}#sk-container-id-6 div.sk-parallel-item:only-child::after {width: 0;}#sk-container-id-6 div.sk-dashed-wrapped {border: 1px dashed gray;margin: 0 0.4em 0.5em 0.4em;box-sizing: border-box;padding-bottom: 0.4em;background-color: white;}#sk-container-id-6 div.sk-label label {font-family: monospace;font-weight: bold;display: inline-block;line-height: 1.2em;}#sk-container-id-6 div.sk-label-container {text-align: center;}#sk-container-id-6 div.sk-container {/* jupyter's `normalize.less` sets `[hidden] { display: none; }` but bootstrap.min.css set `[hidden] { display: none !important; }` so we also need the `!important` here to be able to override the default hidden behavior on the sphinx rendered scikit-learn.org. See: https://github.com/scikit-learn/scikit-learn/issues/21755 */display: inline-block !important;position: relative;}#sk-container-id-6 div.sk-text-repr-fallback {display: none;}</style><div id=\"sk-container-id-6\" class=\"sk-top-container\"><div class=\"sk-text-repr-fallback\"><pre>RandomForestClassifier(min_samples_leaf=25, n_estimators=500, n_jobs=-1,\n",
       "                       random_state=42)</pre><b>In a Jupyter environment, please rerun this cell to show the HTML representation or trust the notebook. <br />On GitHub, the HTML representation is unable to render, please try loading this page with nbviewer.org.</b></div><div class=\"sk-container\" hidden><div class=\"sk-item\"><div class=\"sk-estimator sk-toggleable\"><input class=\"sk-toggleable__control sk-hidden--visually\" id=\"sk-estimator-id-7\" type=\"checkbox\" checked><label for=\"sk-estimator-id-7\" class=\"sk-toggleable__label sk-toggleable__label-arrow\">RandomForestClassifier</label><div class=\"sk-toggleable__content\"><pre>RandomForestClassifier(min_samples_leaf=25, n_estimators=500, n_jobs=-1,\n",
       "                       random_state=42)</pre></div></div></div></div></div>"
      ],
      "text/plain": [
       "RandomForestClassifier(min_samples_leaf=25, n_estimators=500, n_jobs=-1,\n",
       "                       random_state=42)"
      ]
     },
     "execution_count": 135,
     "metadata": {},
     "output_type": "execute_result"
    }
   ],
   "source": [
    "from sklearn.ensemble import RandomForestClassifier\n",
    "\n",
    "rf_classifier = RandomForestClassifier(random_state=42)\n",
    "\n",
    "# Training classifier\n",
    "rf_classifier = RandomForestClassifier(\n",
    "    n_estimators=500, min_samples_leaf=25, random_state=42, n_jobs=-1\n",
    ")\n",
    "\n",
    "rf_classifier.fit(train_set[features], train_set[target])"
   ]
  },
  {
   "cell_type": "code",
   "execution_count": 136,
   "metadata": {},
   "outputs": [
    {
     "data": {
      "application/vnd.plotly.v1+json": {
       "config": {
        "plotlyServerURL": "https://plot.ly"
       },
       "data": [
        {
         "alignmentgroup": "True",
         "hovertemplate": "x=%{x}<br>y=%{y}<extra></extra>",
         "legendgroup": "",
         "marker": {
          "color": "#636efa",
          "pattern": {
           "shape": ""
          }
         },
         "name": "",
         "offsetgroup": "",
         "orientation": "v",
         "showlegend": false,
         "textposition": "auto",
         "type": "bar",
         "x": [
          "step",
          "hour",
          "dayofweek",
          "anglez_times_enmo",
          "anglez",
          "anglez_diff",
          "anglez_mean",
          "anglez_min",
          "anglez_max",
          "anglez_std",
          "anglez_diff_rolling",
          "enmo",
          "enmo_diff",
          "enmo_mean",
          "enmo_min",
          "enmo_max",
          "enmo_std",
          "enmo_diff_rolling"
         ],
         "xaxis": "x",
         "y": [
          743,
          727,
          428,
          85,
          55,
          29,
          54,
          100,
          93,
          157,
          83,
          6,
          25,
          103,
          138,
          36,
          42,
          96
         ],
         "yaxis": "y"
        }
       ],
       "layout": {
        "barmode": "relative",
        "legend": {
         "tracegroupgap": 0
        },
        "template": {
         "data": {
          "bar": [
           {
            "error_x": {
             "color": "#2a3f5f"
            },
            "error_y": {
             "color": "#2a3f5f"
            },
            "marker": {
             "line": {
              "color": "#E5ECF6",
              "width": 0.5
             },
             "pattern": {
              "fillmode": "overlay",
              "size": 10,
              "solidity": 0.2
             }
            },
            "type": "bar"
           }
          ],
          "barpolar": [
           {
            "marker": {
             "line": {
              "color": "#E5ECF6",
              "width": 0.5
             },
             "pattern": {
              "fillmode": "overlay",
              "size": 10,
              "solidity": 0.2
             }
            },
            "type": "barpolar"
           }
          ],
          "carpet": [
           {
            "aaxis": {
             "endlinecolor": "#2a3f5f",
             "gridcolor": "white",
             "linecolor": "white",
             "minorgridcolor": "white",
             "startlinecolor": "#2a3f5f"
            },
            "baxis": {
             "endlinecolor": "#2a3f5f",
             "gridcolor": "white",
             "linecolor": "white",
             "minorgridcolor": "white",
             "startlinecolor": "#2a3f5f"
            },
            "type": "carpet"
           }
          ],
          "choropleth": [
           {
            "colorbar": {
             "outlinewidth": 0,
             "ticks": ""
            },
            "type": "choropleth"
           }
          ],
          "contour": [
           {
            "colorbar": {
             "outlinewidth": 0,
             "ticks": ""
            },
            "colorscale": [
             [
              0,
              "#0d0887"
             ],
             [
              0.1111111111111111,
              "#46039f"
             ],
             [
              0.2222222222222222,
              "#7201a8"
             ],
             [
              0.3333333333333333,
              "#9c179e"
             ],
             [
              0.4444444444444444,
              "#bd3786"
             ],
             [
              0.5555555555555556,
              "#d8576b"
             ],
             [
              0.6666666666666666,
              "#ed7953"
             ],
             [
              0.7777777777777778,
              "#fb9f3a"
             ],
             [
              0.8888888888888888,
              "#fdca26"
             ],
             [
              1,
              "#f0f921"
             ]
            ],
            "type": "contour"
           }
          ],
          "contourcarpet": [
           {
            "colorbar": {
             "outlinewidth": 0,
             "ticks": ""
            },
            "type": "contourcarpet"
           }
          ],
          "heatmap": [
           {
            "colorbar": {
             "outlinewidth": 0,
             "ticks": ""
            },
            "colorscale": [
             [
              0,
              "#0d0887"
             ],
             [
              0.1111111111111111,
              "#46039f"
             ],
             [
              0.2222222222222222,
              "#7201a8"
             ],
             [
              0.3333333333333333,
              "#9c179e"
             ],
             [
              0.4444444444444444,
              "#bd3786"
             ],
             [
              0.5555555555555556,
              "#d8576b"
             ],
             [
              0.6666666666666666,
              "#ed7953"
             ],
             [
              0.7777777777777778,
              "#fb9f3a"
             ],
             [
              0.8888888888888888,
              "#fdca26"
             ],
             [
              1,
              "#f0f921"
             ]
            ],
            "type": "heatmap"
           }
          ],
          "heatmapgl": [
           {
            "colorbar": {
             "outlinewidth": 0,
             "ticks": ""
            },
            "colorscale": [
             [
              0,
              "#0d0887"
             ],
             [
              0.1111111111111111,
              "#46039f"
             ],
             [
              0.2222222222222222,
              "#7201a8"
             ],
             [
              0.3333333333333333,
              "#9c179e"
             ],
             [
              0.4444444444444444,
              "#bd3786"
             ],
             [
              0.5555555555555556,
              "#d8576b"
             ],
             [
              0.6666666666666666,
              "#ed7953"
             ],
             [
              0.7777777777777778,
              "#fb9f3a"
             ],
             [
              0.8888888888888888,
              "#fdca26"
             ],
             [
              1,
              "#f0f921"
             ]
            ],
            "type": "heatmapgl"
           }
          ],
          "histogram": [
           {
            "marker": {
             "pattern": {
              "fillmode": "overlay",
              "size": 10,
              "solidity": 0.2
             }
            },
            "type": "histogram"
           }
          ],
          "histogram2d": [
           {
            "colorbar": {
             "outlinewidth": 0,
             "ticks": ""
            },
            "colorscale": [
             [
              0,
              "#0d0887"
             ],
             [
              0.1111111111111111,
              "#46039f"
             ],
             [
              0.2222222222222222,
              "#7201a8"
             ],
             [
              0.3333333333333333,
              "#9c179e"
             ],
             [
              0.4444444444444444,
              "#bd3786"
             ],
             [
              0.5555555555555556,
              "#d8576b"
             ],
             [
              0.6666666666666666,
              "#ed7953"
             ],
             [
              0.7777777777777778,
              "#fb9f3a"
             ],
             [
              0.8888888888888888,
              "#fdca26"
             ],
             [
              1,
              "#f0f921"
             ]
            ],
            "type": "histogram2d"
           }
          ],
          "histogram2dcontour": [
           {
            "colorbar": {
             "outlinewidth": 0,
             "ticks": ""
            },
            "colorscale": [
             [
              0,
              "#0d0887"
             ],
             [
              0.1111111111111111,
              "#46039f"
             ],
             [
              0.2222222222222222,
              "#7201a8"
             ],
             [
              0.3333333333333333,
              "#9c179e"
             ],
             [
              0.4444444444444444,
              "#bd3786"
             ],
             [
              0.5555555555555556,
              "#d8576b"
             ],
             [
              0.6666666666666666,
              "#ed7953"
             ],
             [
              0.7777777777777778,
              "#fb9f3a"
             ],
             [
              0.8888888888888888,
              "#fdca26"
             ],
             [
              1,
              "#f0f921"
             ]
            ],
            "type": "histogram2dcontour"
           }
          ],
          "mesh3d": [
           {
            "colorbar": {
             "outlinewidth": 0,
             "ticks": ""
            },
            "type": "mesh3d"
           }
          ],
          "parcoords": [
           {
            "line": {
             "colorbar": {
              "outlinewidth": 0,
              "ticks": ""
             }
            },
            "type": "parcoords"
           }
          ],
          "pie": [
           {
            "automargin": true,
            "type": "pie"
           }
          ],
          "scatter": [
           {
            "fillpattern": {
             "fillmode": "overlay",
             "size": 10,
             "solidity": 0.2
            },
            "type": "scatter"
           }
          ],
          "scatter3d": [
           {
            "line": {
             "colorbar": {
              "outlinewidth": 0,
              "ticks": ""
             }
            },
            "marker": {
             "colorbar": {
              "outlinewidth": 0,
              "ticks": ""
             }
            },
            "type": "scatter3d"
           }
          ],
          "scattercarpet": [
           {
            "marker": {
             "colorbar": {
              "outlinewidth": 0,
              "ticks": ""
             }
            },
            "type": "scattercarpet"
           }
          ],
          "scattergeo": [
           {
            "marker": {
             "colorbar": {
              "outlinewidth": 0,
              "ticks": ""
             }
            },
            "type": "scattergeo"
           }
          ],
          "scattergl": [
           {
            "marker": {
             "colorbar": {
              "outlinewidth": 0,
              "ticks": ""
             }
            },
            "type": "scattergl"
           }
          ],
          "scattermapbox": [
           {
            "marker": {
             "colorbar": {
              "outlinewidth": 0,
              "ticks": ""
             }
            },
            "type": "scattermapbox"
           }
          ],
          "scatterpolar": [
           {
            "marker": {
             "colorbar": {
              "outlinewidth": 0,
              "ticks": ""
             }
            },
            "type": "scatterpolar"
           }
          ],
          "scatterpolargl": [
           {
            "marker": {
             "colorbar": {
              "outlinewidth": 0,
              "ticks": ""
             }
            },
            "type": "scatterpolargl"
           }
          ],
          "scatterternary": [
           {
            "marker": {
             "colorbar": {
              "outlinewidth": 0,
              "ticks": ""
             }
            },
            "type": "scatterternary"
           }
          ],
          "surface": [
           {
            "colorbar": {
             "outlinewidth": 0,
             "ticks": ""
            },
            "colorscale": [
             [
              0,
              "#0d0887"
             ],
             [
              0.1111111111111111,
              "#46039f"
             ],
             [
              0.2222222222222222,
              "#7201a8"
             ],
             [
              0.3333333333333333,
              "#9c179e"
             ],
             [
              0.4444444444444444,
              "#bd3786"
             ],
             [
              0.5555555555555556,
              "#d8576b"
             ],
             [
              0.6666666666666666,
              "#ed7953"
             ],
             [
              0.7777777777777778,
              "#fb9f3a"
             ],
             [
              0.8888888888888888,
              "#fdca26"
             ],
             [
              1,
              "#f0f921"
             ]
            ],
            "type": "surface"
           }
          ],
          "table": [
           {
            "cells": {
             "fill": {
              "color": "#EBF0F8"
             },
             "line": {
              "color": "white"
             }
            },
            "header": {
             "fill": {
              "color": "#C8D4E3"
             },
             "line": {
              "color": "white"
             }
            },
            "type": "table"
           }
          ]
         },
         "layout": {
          "annotationdefaults": {
           "arrowcolor": "#2a3f5f",
           "arrowhead": 0,
           "arrowwidth": 1
          },
          "autotypenumbers": "strict",
          "coloraxis": {
           "colorbar": {
            "outlinewidth": 0,
            "ticks": ""
           }
          },
          "colorscale": {
           "diverging": [
            [
             0,
             "#8e0152"
            ],
            [
             0.1,
             "#c51b7d"
            ],
            [
             0.2,
             "#de77ae"
            ],
            [
             0.3,
             "#f1b6da"
            ],
            [
             0.4,
             "#fde0ef"
            ],
            [
             0.5,
             "#f7f7f7"
            ],
            [
             0.6,
             "#e6f5d0"
            ],
            [
             0.7,
             "#b8e186"
            ],
            [
             0.8,
             "#7fbc41"
            ],
            [
             0.9,
             "#4d9221"
            ],
            [
             1,
             "#276419"
            ]
           ],
           "sequential": [
            [
             0,
             "#0d0887"
            ],
            [
             0.1111111111111111,
             "#46039f"
            ],
            [
             0.2222222222222222,
             "#7201a8"
            ],
            [
             0.3333333333333333,
             "#9c179e"
            ],
            [
             0.4444444444444444,
             "#bd3786"
            ],
            [
             0.5555555555555556,
             "#d8576b"
            ],
            [
             0.6666666666666666,
             "#ed7953"
            ],
            [
             0.7777777777777778,
             "#fb9f3a"
            ],
            [
             0.8888888888888888,
             "#fdca26"
            ],
            [
             1,
             "#f0f921"
            ]
           ],
           "sequentialminus": [
            [
             0,
             "#0d0887"
            ],
            [
             0.1111111111111111,
             "#46039f"
            ],
            [
             0.2222222222222222,
             "#7201a8"
            ],
            [
             0.3333333333333333,
             "#9c179e"
            ],
            [
             0.4444444444444444,
             "#bd3786"
            ],
            [
             0.5555555555555556,
             "#d8576b"
            ],
            [
             0.6666666666666666,
             "#ed7953"
            ],
            [
             0.7777777777777778,
             "#fb9f3a"
            ],
            [
             0.8888888888888888,
             "#fdca26"
            ],
            [
             1,
             "#f0f921"
            ]
           ]
          },
          "colorway": [
           "#636efa",
           "#EF553B",
           "#00cc96",
           "#ab63fa",
           "#FFA15A",
           "#19d3f3",
           "#FF6692",
           "#B6E880",
           "#FF97FF",
           "#FECB52"
          ],
          "font": {
           "color": "#2a3f5f"
          },
          "geo": {
           "bgcolor": "white",
           "lakecolor": "white",
           "landcolor": "#E5ECF6",
           "showlakes": true,
           "showland": true,
           "subunitcolor": "white"
          },
          "hoverlabel": {
           "align": "left"
          },
          "hovermode": "closest",
          "mapbox": {
           "style": "light"
          },
          "paper_bgcolor": "white",
          "plot_bgcolor": "#E5ECF6",
          "polar": {
           "angularaxis": {
            "gridcolor": "white",
            "linecolor": "white",
            "ticks": ""
           },
           "bgcolor": "#E5ECF6",
           "radialaxis": {
            "gridcolor": "white",
            "linecolor": "white",
            "ticks": ""
           }
          },
          "scene": {
           "xaxis": {
            "backgroundcolor": "#E5ECF6",
            "gridcolor": "white",
            "gridwidth": 2,
            "linecolor": "white",
            "showbackground": true,
            "ticks": "",
            "zerolinecolor": "white"
           },
           "yaxis": {
            "backgroundcolor": "#E5ECF6",
            "gridcolor": "white",
            "gridwidth": 2,
            "linecolor": "white",
            "showbackground": true,
            "ticks": "",
            "zerolinecolor": "white"
           },
           "zaxis": {
            "backgroundcolor": "#E5ECF6",
            "gridcolor": "white",
            "gridwidth": 2,
            "linecolor": "white",
            "showbackground": true,
            "ticks": "",
            "zerolinecolor": "white"
           }
          },
          "shapedefaults": {
           "line": {
            "color": "#2a3f5f"
           }
          },
          "ternary": {
           "aaxis": {
            "gridcolor": "white",
            "linecolor": "white",
            "ticks": ""
           },
           "baxis": {
            "gridcolor": "white",
            "linecolor": "white",
            "ticks": ""
           },
           "bgcolor": "#E5ECF6",
           "caxis": {
            "gridcolor": "white",
            "linecolor": "white",
            "ticks": ""
           }
          },
          "title": {
           "x": 0.05
          },
          "xaxis": {
           "automargin": true,
           "gridcolor": "white",
           "linecolor": "white",
           "ticks": "",
           "title": {
            "standoff": 15
           },
           "zerolinecolor": "white",
           "zerolinewidth": 2
          },
          "yaxis": {
           "automargin": true,
           "gridcolor": "white",
           "linecolor": "white",
           "ticks": "",
           "title": {
            "standoff": 15
           },
           "zerolinecolor": "white",
           "zerolinewidth": 2
          }
         }
        },
        "title": {
         "text": "LightGBM feature importances"
        },
        "xaxis": {
         "anchor": "y",
         "domain": [
          0,
          1
         ],
         "title": {
          "text": "x"
         }
        },
        "yaxis": {
         "anchor": "x",
         "domain": [
          0,
          1
         ],
         "title": {
          "text": "y"
         }
        }
       }
      }
     },
     "metadata": {},
     "output_type": "display_data"
    }
   ],
   "source": [
    "px.bar(\n",
    "    x=features, y=classifier.feature_importances_, title=\"LightGBM feature importances\"\n",
    ")"
   ]
  },
  {
   "cell_type": "code",
   "execution_count": 138,
   "metadata": {},
   "outputs": [
    {
     "data": {
      "application/vnd.plotly.v1+json": {
       "config": {
        "plotlyServerURL": "https://plot.ly"
       },
       "data": [
        {
         "alignmentgroup": "True",
         "hovertemplate": "x=%{x}<br>y=%{y}<extra></extra>",
         "legendgroup": "",
         "marker": {
          "color": "#636efa",
          "pattern": {
           "shape": ""
          }
         },
         "name": "",
         "offsetgroup": "",
         "orientation": "v",
         "showlegend": false,
         "textposition": "auto",
         "type": "bar",
         "x": [
          "step",
          "hour",
          "dayofweek",
          "anglez_times_enmo",
          "anglez",
          "anglez_diff",
          "anglez_mean",
          "anglez_min",
          "anglez_max",
          "anglez_std",
          "anglez_diff_rolling",
          "enmo",
          "enmo_diff",
          "enmo_mean",
          "enmo_min",
          "enmo_max",
          "enmo_std",
          "enmo_diff_rolling"
         ],
         "xaxis": "x",
         "y": [
          0.01834015489325637,
          0.17191234552231044,
          0.009830321030895364,
          0.021294999134715307,
          0.010360954554975323,
          0.020111337103976244,
          0.012177672084531452,
          0.011611136450186221,
          0.015398133630012837,
          0.29454386424881857,
          0.013677029792719652,
          0.026972338027803786,
          0.017953667042165243,
          0.04718706003749841,
          0.016994875105864605,
          0.07817868908126809,
          0.19215021129228987,
          0.021305210966712174
         ],
         "yaxis": "y"
        }
       ],
       "layout": {
        "barmode": "relative",
        "legend": {
         "tracegroupgap": 0
        },
        "template": {
         "data": {
          "bar": [
           {
            "error_x": {
             "color": "#2a3f5f"
            },
            "error_y": {
             "color": "#2a3f5f"
            },
            "marker": {
             "line": {
              "color": "#E5ECF6",
              "width": 0.5
             },
             "pattern": {
              "fillmode": "overlay",
              "size": 10,
              "solidity": 0.2
             }
            },
            "type": "bar"
           }
          ],
          "barpolar": [
           {
            "marker": {
             "line": {
              "color": "#E5ECF6",
              "width": 0.5
             },
             "pattern": {
              "fillmode": "overlay",
              "size": 10,
              "solidity": 0.2
             }
            },
            "type": "barpolar"
           }
          ],
          "carpet": [
           {
            "aaxis": {
             "endlinecolor": "#2a3f5f",
             "gridcolor": "white",
             "linecolor": "white",
             "minorgridcolor": "white",
             "startlinecolor": "#2a3f5f"
            },
            "baxis": {
             "endlinecolor": "#2a3f5f",
             "gridcolor": "white",
             "linecolor": "white",
             "minorgridcolor": "white",
             "startlinecolor": "#2a3f5f"
            },
            "type": "carpet"
           }
          ],
          "choropleth": [
           {
            "colorbar": {
             "outlinewidth": 0,
             "ticks": ""
            },
            "type": "choropleth"
           }
          ],
          "contour": [
           {
            "colorbar": {
             "outlinewidth": 0,
             "ticks": ""
            },
            "colorscale": [
             [
              0,
              "#0d0887"
             ],
             [
              0.1111111111111111,
              "#46039f"
             ],
             [
              0.2222222222222222,
              "#7201a8"
             ],
             [
              0.3333333333333333,
              "#9c179e"
             ],
             [
              0.4444444444444444,
              "#bd3786"
             ],
             [
              0.5555555555555556,
              "#d8576b"
             ],
             [
              0.6666666666666666,
              "#ed7953"
             ],
             [
              0.7777777777777778,
              "#fb9f3a"
             ],
             [
              0.8888888888888888,
              "#fdca26"
             ],
             [
              1,
              "#f0f921"
             ]
            ],
            "type": "contour"
           }
          ],
          "contourcarpet": [
           {
            "colorbar": {
             "outlinewidth": 0,
             "ticks": ""
            },
            "type": "contourcarpet"
           }
          ],
          "heatmap": [
           {
            "colorbar": {
             "outlinewidth": 0,
             "ticks": ""
            },
            "colorscale": [
             [
              0,
              "#0d0887"
             ],
             [
              0.1111111111111111,
              "#46039f"
             ],
             [
              0.2222222222222222,
              "#7201a8"
             ],
             [
              0.3333333333333333,
              "#9c179e"
             ],
             [
              0.4444444444444444,
              "#bd3786"
             ],
             [
              0.5555555555555556,
              "#d8576b"
             ],
             [
              0.6666666666666666,
              "#ed7953"
             ],
             [
              0.7777777777777778,
              "#fb9f3a"
             ],
             [
              0.8888888888888888,
              "#fdca26"
             ],
             [
              1,
              "#f0f921"
             ]
            ],
            "type": "heatmap"
           }
          ],
          "heatmapgl": [
           {
            "colorbar": {
             "outlinewidth": 0,
             "ticks": ""
            },
            "colorscale": [
             [
              0,
              "#0d0887"
             ],
             [
              0.1111111111111111,
              "#46039f"
             ],
             [
              0.2222222222222222,
              "#7201a8"
             ],
             [
              0.3333333333333333,
              "#9c179e"
             ],
             [
              0.4444444444444444,
              "#bd3786"
             ],
             [
              0.5555555555555556,
              "#d8576b"
             ],
             [
              0.6666666666666666,
              "#ed7953"
             ],
             [
              0.7777777777777778,
              "#fb9f3a"
             ],
             [
              0.8888888888888888,
              "#fdca26"
             ],
             [
              1,
              "#f0f921"
             ]
            ],
            "type": "heatmapgl"
           }
          ],
          "histogram": [
           {
            "marker": {
             "pattern": {
              "fillmode": "overlay",
              "size": 10,
              "solidity": 0.2
             }
            },
            "type": "histogram"
           }
          ],
          "histogram2d": [
           {
            "colorbar": {
             "outlinewidth": 0,
             "ticks": ""
            },
            "colorscale": [
             [
              0,
              "#0d0887"
             ],
             [
              0.1111111111111111,
              "#46039f"
             ],
             [
              0.2222222222222222,
              "#7201a8"
             ],
             [
              0.3333333333333333,
              "#9c179e"
             ],
             [
              0.4444444444444444,
              "#bd3786"
             ],
             [
              0.5555555555555556,
              "#d8576b"
             ],
             [
              0.6666666666666666,
              "#ed7953"
             ],
             [
              0.7777777777777778,
              "#fb9f3a"
             ],
             [
              0.8888888888888888,
              "#fdca26"
             ],
             [
              1,
              "#f0f921"
             ]
            ],
            "type": "histogram2d"
           }
          ],
          "histogram2dcontour": [
           {
            "colorbar": {
             "outlinewidth": 0,
             "ticks": ""
            },
            "colorscale": [
             [
              0,
              "#0d0887"
             ],
             [
              0.1111111111111111,
              "#46039f"
             ],
             [
              0.2222222222222222,
              "#7201a8"
             ],
             [
              0.3333333333333333,
              "#9c179e"
             ],
             [
              0.4444444444444444,
              "#bd3786"
             ],
             [
              0.5555555555555556,
              "#d8576b"
             ],
             [
              0.6666666666666666,
              "#ed7953"
             ],
             [
              0.7777777777777778,
              "#fb9f3a"
             ],
             [
              0.8888888888888888,
              "#fdca26"
             ],
             [
              1,
              "#f0f921"
             ]
            ],
            "type": "histogram2dcontour"
           }
          ],
          "mesh3d": [
           {
            "colorbar": {
             "outlinewidth": 0,
             "ticks": ""
            },
            "type": "mesh3d"
           }
          ],
          "parcoords": [
           {
            "line": {
             "colorbar": {
              "outlinewidth": 0,
              "ticks": ""
             }
            },
            "type": "parcoords"
           }
          ],
          "pie": [
           {
            "automargin": true,
            "type": "pie"
           }
          ],
          "scatter": [
           {
            "fillpattern": {
             "fillmode": "overlay",
             "size": 10,
             "solidity": 0.2
            },
            "type": "scatter"
           }
          ],
          "scatter3d": [
           {
            "line": {
             "colorbar": {
              "outlinewidth": 0,
              "ticks": ""
             }
            },
            "marker": {
             "colorbar": {
              "outlinewidth": 0,
              "ticks": ""
             }
            },
            "type": "scatter3d"
           }
          ],
          "scattercarpet": [
           {
            "marker": {
             "colorbar": {
              "outlinewidth": 0,
              "ticks": ""
             }
            },
            "type": "scattercarpet"
           }
          ],
          "scattergeo": [
           {
            "marker": {
             "colorbar": {
              "outlinewidth": 0,
              "ticks": ""
             }
            },
            "type": "scattergeo"
           }
          ],
          "scattergl": [
           {
            "marker": {
             "colorbar": {
              "outlinewidth": 0,
              "ticks": ""
             }
            },
            "type": "scattergl"
           }
          ],
          "scattermapbox": [
           {
            "marker": {
             "colorbar": {
              "outlinewidth": 0,
              "ticks": ""
             }
            },
            "type": "scattermapbox"
           }
          ],
          "scatterpolar": [
           {
            "marker": {
             "colorbar": {
              "outlinewidth": 0,
              "ticks": ""
             }
            },
            "type": "scatterpolar"
           }
          ],
          "scatterpolargl": [
           {
            "marker": {
             "colorbar": {
              "outlinewidth": 0,
              "ticks": ""
             }
            },
            "type": "scatterpolargl"
           }
          ],
          "scatterternary": [
           {
            "marker": {
             "colorbar": {
              "outlinewidth": 0,
              "ticks": ""
             }
            },
            "type": "scatterternary"
           }
          ],
          "surface": [
           {
            "colorbar": {
             "outlinewidth": 0,
             "ticks": ""
            },
            "colorscale": [
             [
              0,
              "#0d0887"
             ],
             [
              0.1111111111111111,
              "#46039f"
             ],
             [
              0.2222222222222222,
              "#7201a8"
             ],
             [
              0.3333333333333333,
              "#9c179e"
             ],
             [
              0.4444444444444444,
              "#bd3786"
             ],
             [
              0.5555555555555556,
              "#d8576b"
             ],
             [
              0.6666666666666666,
              "#ed7953"
             ],
             [
              0.7777777777777778,
              "#fb9f3a"
             ],
             [
              0.8888888888888888,
              "#fdca26"
             ],
             [
              1,
              "#f0f921"
             ]
            ],
            "type": "surface"
           }
          ],
          "table": [
           {
            "cells": {
             "fill": {
              "color": "#EBF0F8"
             },
             "line": {
              "color": "white"
             }
            },
            "header": {
             "fill": {
              "color": "#C8D4E3"
             },
             "line": {
              "color": "white"
             }
            },
            "type": "table"
           }
          ]
         },
         "layout": {
          "annotationdefaults": {
           "arrowcolor": "#2a3f5f",
           "arrowhead": 0,
           "arrowwidth": 1
          },
          "autotypenumbers": "strict",
          "coloraxis": {
           "colorbar": {
            "outlinewidth": 0,
            "ticks": ""
           }
          },
          "colorscale": {
           "diverging": [
            [
             0,
             "#8e0152"
            ],
            [
             0.1,
             "#c51b7d"
            ],
            [
             0.2,
             "#de77ae"
            ],
            [
             0.3,
             "#f1b6da"
            ],
            [
             0.4,
             "#fde0ef"
            ],
            [
             0.5,
             "#f7f7f7"
            ],
            [
             0.6,
             "#e6f5d0"
            ],
            [
             0.7,
             "#b8e186"
            ],
            [
             0.8,
             "#7fbc41"
            ],
            [
             0.9,
             "#4d9221"
            ],
            [
             1,
             "#276419"
            ]
           ],
           "sequential": [
            [
             0,
             "#0d0887"
            ],
            [
             0.1111111111111111,
             "#46039f"
            ],
            [
             0.2222222222222222,
             "#7201a8"
            ],
            [
             0.3333333333333333,
             "#9c179e"
            ],
            [
             0.4444444444444444,
             "#bd3786"
            ],
            [
             0.5555555555555556,
             "#d8576b"
            ],
            [
             0.6666666666666666,
             "#ed7953"
            ],
            [
             0.7777777777777778,
             "#fb9f3a"
            ],
            [
             0.8888888888888888,
             "#fdca26"
            ],
            [
             1,
             "#f0f921"
            ]
           ],
           "sequentialminus": [
            [
             0,
             "#0d0887"
            ],
            [
             0.1111111111111111,
             "#46039f"
            ],
            [
             0.2222222222222222,
             "#7201a8"
            ],
            [
             0.3333333333333333,
             "#9c179e"
            ],
            [
             0.4444444444444444,
             "#bd3786"
            ],
            [
             0.5555555555555556,
             "#d8576b"
            ],
            [
             0.6666666666666666,
             "#ed7953"
            ],
            [
             0.7777777777777778,
             "#fb9f3a"
            ],
            [
             0.8888888888888888,
             "#fdca26"
            ],
            [
             1,
             "#f0f921"
            ]
           ]
          },
          "colorway": [
           "#636efa",
           "#EF553B",
           "#00cc96",
           "#ab63fa",
           "#FFA15A",
           "#19d3f3",
           "#FF6692",
           "#B6E880",
           "#FF97FF",
           "#FECB52"
          ],
          "font": {
           "color": "#2a3f5f"
          },
          "geo": {
           "bgcolor": "white",
           "lakecolor": "white",
           "landcolor": "#E5ECF6",
           "showlakes": true,
           "showland": true,
           "subunitcolor": "white"
          },
          "hoverlabel": {
           "align": "left"
          },
          "hovermode": "closest",
          "mapbox": {
           "style": "light"
          },
          "paper_bgcolor": "white",
          "plot_bgcolor": "#E5ECF6",
          "polar": {
           "angularaxis": {
            "gridcolor": "white",
            "linecolor": "white",
            "ticks": ""
           },
           "bgcolor": "#E5ECF6",
           "radialaxis": {
            "gridcolor": "white",
            "linecolor": "white",
            "ticks": ""
           }
          },
          "scene": {
           "xaxis": {
            "backgroundcolor": "#E5ECF6",
            "gridcolor": "white",
            "gridwidth": 2,
            "linecolor": "white",
            "showbackground": true,
            "ticks": "",
            "zerolinecolor": "white"
           },
           "yaxis": {
            "backgroundcolor": "#E5ECF6",
            "gridcolor": "white",
            "gridwidth": 2,
            "linecolor": "white",
            "showbackground": true,
            "ticks": "",
            "zerolinecolor": "white"
           },
           "zaxis": {
            "backgroundcolor": "#E5ECF6",
            "gridcolor": "white",
            "gridwidth": 2,
            "linecolor": "white",
            "showbackground": true,
            "ticks": "",
            "zerolinecolor": "white"
           }
          },
          "shapedefaults": {
           "line": {
            "color": "#2a3f5f"
           }
          },
          "ternary": {
           "aaxis": {
            "gridcolor": "white",
            "linecolor": "white",
            "ticks": ""
           },
           "baxis": {
            "gridcolor": "white",
            "linecolor": "white",
            "ticks": ""
           },
           "bgcolor": "#E5ECF6",
           "caxis": {
            "gridcolor": "white",
            "linecolor": "white",
            "ticks": ""
           }
          },
          "title": {
           "x": 0.05
          },
          "xaxis": {
           "automargin": true,
           "gridcolor": "white",
           "linecolor": "white",
           "ticks": "",
           "title": {
            "standoff": 15
           },
           "zerolinecolor": "white",
           "zerolinewidth": 2
          },
          "yaxis": {
           "automargin": true,
           "gridcolor": "white",
           "linecolor": "white",
           "ticks": "",
           "title": {
            "standoff": 15
           },
           "zerolinecolor": "white",
           "zerolinewidth": 2
          }
         }
        },
        "title": {
         "text": "Random forest feature importances"
        },
        "xaxis": {
         "anchor": "y",
         "domain": [
          0,
          1
         ],
         "title": {
          "text": "x"
         }
        },
        "yaxis": {
         "anchor": "x",
         "domain": [
          0,
          1
         ],
         "title": {
          "text": "y"
         }
        }
       }
      }
     },
     "metadata": {},
     "output_type": "display_data"
    }
   ],
   "source": [
    "px.bar(\n",
    "    x=features,\n",
    "    y=rf_classifier.feature_importances_,\n",
    "    title=\"Random forest feature importances\",\n",
    ")"
   ]
  },
  {
   "cell_type": "code",
   "execution_count": 147,
   "metadata": {},
   "outputs": [
    {
     "name": "stdout",
     "output_type": "stream",
     "text": [
      "              precision    recall  f1-score   support\n",
      "\n",
      " sleep onset       0.96      0.96      0.96    187124\n",
      "        wake       0.98      0.98      0.98    381856\n",
      "\n",
      "    accuracy                           0.97    568980\n",
      "   macro avg       0.97      0.97      0.97    568980\n",
      "weighted avg       0.97      0.97      0.97    568980\n",
      "\n"
     ]
    }
   ],
   "source": [
    "print(\n",
    "    classification_report(\n",
    "        test_set[target],\n",
    "        rf_classifier.predict(test_set[features]),\n",
    "        target_names=[\"sleep onset\", \"wake\"],\n",
    "    )\n",
    ")"
   ]
  },
  {
   "cell_type": "code",
   "execution_count": 149,
   "metadata": {},
   "outputs": [
    {
     "data": {
      "image/png": "[encoded data removed]",
      "text/plain": [
       "<Figure size 640x480 with 2 Axes>"
      ]
     },
     "metadata": {},
     "output_type": "display_data"
    }
   ],
   "source": [
    "from sklearn.metrics import classification_report\n",
    "from sklearn.metrics import confusion_matrix\n",
    "\n",
    "# Plot a confusion matrix that shows how the model performs on the test set.\n",
    "ConfusionMatrixDisplay.from_estimator(\n",
    "    rf_classifier, test_set[features], test_set[target]\n",
    ");"
   ]
  },
  {
   "cell_type": "code",
   "execution_count": 143,
   "metadata": {},
   "outputs": [
    {
     "data": {
      "text/plain": [
       "Index(['series_id', 'step', 'timestamp', 'anglez', 'enmo', 'awake', 'hour',\n",
       "       'dayofweek', 'anglez_times_enmo', 'anglez_diff', 'enmo_diff',\n",
       "       'anglez_mean', 'enmo_mean', 'anglez_min', 'enmo_min', 'anglez_max',\n",
       "       'enmo_max', 'anglez_std', 'enmo_std', 'anglez_diff_rolling',\n",
       "       'enmo_diff_rolling'],\n",
       "      dtype='object')"
      ]
     },
     "execution_count": 143,
     "metadata": {},
     "output_type": "execute_result"
    }
   ],
   "source": []
  },
  {
   "cell_type": "code",
   "execution_count": null,
   "metadata": {},
   "outputs": [],
   "source": []
  }
 ],
 "metadata": {
  "kernelspec": {
   "display_name": "Python 3",
   "language": "python",
   "name": "python3"
  },
  "language_info": {
   "codemirror_mode": {
    "name": "ipython",
    "version": 3
   },
   "file_extension": ".py",
   "mimetype": "text/x-python",
   "name": "python",
   "nbconvert_exporter": "python",
   "pygments_lexer": "ipython3",
   "version": "3.11.5"
  }
 },
 "nbformat": 4,
 "nbformat_minor": 2
}
